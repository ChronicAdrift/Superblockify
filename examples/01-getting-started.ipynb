{
 "cells": [
  {
   "attachments": {
    "8a415f1d-cfcf-4c3e-9078-13167177082e.png": {
     "image/png": "[encoded data removed]"
    }
   },
   "cell_type": "markdown",
   "metadata": {},
   "source": [
    "![superblockify_logo.png](attachment:8a415f1d-cfcf-4c3e-9078-13167177082e.png)"
   ]
  },
  {
   "cell_type": "markdown",
   "metadata": {},
   "source": [
    "More info: [superblockify.city](https://superblockify.city)"
   ]
  },
  {
   "cell_type": "markdown",
   "metadata": {},
   "source": [
    "# Getting started\n",
    "\n",
    "This notebook runs a minimum working example, showing more parameter options and a FAQ.\n",
    "\n",
    "The `superblockify` package works out of the box, meaning no further downloads are\n",
    "necessary. Maps are downloaded from the OpenStreetMap API and population data is\n",
    "downloaded from the [GHSL-POP 2023](https://ghsl.jrc.ec.europa.eu/ghs_pop2023.php)\n",
    "dataset. Only tiles needed are being cached in the `data/ghsl` folder.\n",
    "\n",
    "As example, we will try to partition the French city of Lyon with the\n",
    "`ResidentialPartitioner` class. Afterward we will save the results to a geopackage\n",
    "file that can easily be opened and edited in QGIS.\n",
    "\n",
    "First, import the package."
   ]
  },
  {
   "cell_type": "code",
   "execution_count": null,
   "metadata": {
    "ExecuteTime": {
     "end_time": "2024-04-16T13:02:10.381980Z",
     "start_time": "2024-04-16T13:01:45.337296Z"
    }
   },
   "outputs": [],
   "source": [
    "import superblockify as sb\n",
    "\n",
    "# sb.config.set_log_level(\"DEBUG\")   # set to see debug logs\n",
    "sb.config.Config.FULL_RASTER = None  # set if you own the full ghsl raster \n",
    "# (GHS_POP_E2025_GLOBE_R2023A_54009_100_V1_0.tif)\n",
    "# otherwise the package will automatically download the needed tiles"
   ]
  },
  {
   "cell_type": "markdown",
   "metadata": {
    "collapsed": false,
    "jupyter": {
     "outputs_hidden": false
    }
   },
   "source": [
    "## Initialization\n",
    "\n",
    "For this example we will use the `ResidentialPartitioner` class.\n",
    "It is a class that partitions a city into superblocks based on the residential\n",
    "street tags in OpenStreetMap.\n",
    "First, we initialize the partitioner with the city name and a search string."
   ]
  },
  {
   "cell_type": "code",
   "execution_count": null,
   "metadata": {
    "ExecuteTime": {
     "end_time": "2024-04-16T13:02:13.593132Z",
     "start_time": "2024-04-16T13:02:13.337192Z"
    },
    "collapsed": false,
    "jupyter": {
     "outputs_hidden": false
    }
   },
   "outputs": [],
   "source": [
    "part = sb.ResidentialPartitioner(\n",
    "    name=\"Scheveningen_test\", city_name=\"Scheveningen\", search_str=\"Scheveningen, NL\",\n",
    "    unit=\"time\",  # \"time\", \"distance\", any other edge attribute, or None to count edges\n",
    ")"
   ]
  },
  {
   "cell_type": "markdown",
   "metadata": {
    "collapsed": false,
    "jupyter": {
     "outputs_hidden": false
    }
   },
   "source": [
    "This will download the map of Lyon, preprocess it, output some statistics\n",
    "and store it in the `data/graphs` folder for use later.\n",
    "Any other partitioner for Scheveningen, given the same `city_name`, will use the same\n",
    "preprocessed, locally stored map.\n",
    "Population tiles are cached in the `data/ghsl` folder (if not using the full raster).\n",
    "\n",
    "## Partitioning\n",
    "\n",
    "Next, we will show the quickest way to partition the city and calculate the metrics\n",
    "all in one go."
   ]
  },
  {
   "cell_type": "code",
   "execution_count": null,
   "metadata": {
    "ExecuteTime": {
     "end_time": "2024-04-16T13:02:53.931407Z",
     "start_time": "2024-04-16T13:02:43.690513Z"
    },
    "collapsed": false,
    "jupyter": {
     "outputs_hidden": false
    }
   },
   "outputs": [],
   "source": [
    "part.run(\n",
    "    calculate_metrics=True,  # set to False if you are not interested in metrics\n",
    "    make_plots=True,  # set to False if you are not interested in plots\n",
    "    replace_max_speeds=False,  # set to true to overwrite the OSM speed limits\n",
    "    # -> with 15 km/h inside Superblocks and 50 km/h outside\n",
    "    # If the approach has specific parameters, you can set them here\n",
    ")"
   ]
  },
  {
   "cell_type": "markdown",
   "metadata": {
    "collapsed": false,
    "jupyter": {
     "outputs_hidden": false
    }
   },
   "source": [
    "As you see, this partitions the city and shows the relative increase of the distance metric.\n",
    "All shown plots are saved as pdf to the `data/results/Scheveningen_test` folder.\n",
    "\n",
    "It is possible to save and load a partitioner object to continue the work later."
   ]
  },
  {
   "cell_type": "code",
   "execution_count": null,
   "metadata": {
    "ExecuteTime": {
     "end_time": "2024-04-16T13:06:58.370359Z",
     "start_time": "2024-04-16T13:06:58.368108Z"
    },
    "collapsed": false,
    "jupyter": {
     "outputs_hidden": false
    }
   },
   "outputs": [],
   "source": [
    "# part.save()\n",
    "# part.load(\"Scheveningen_test\")"
   ]
  },
  {
   "cell_type": "markdown",
   "metadata": {
    "collapsed": false,
    "jupyter": {
     "outputs_hidden": false
    }
   },
   "source": [
    "The most illustrative and interactive way to view the results is to save them to a\n",
    "geopackage file. This file can be opened in [QGIS](https://www.qgis.org/en/site/) and edited further."
   ]
  },
  {
   "cell_type": "code",
   "execution_count": null,
   "metadata": {
    "ExecuteTime": {
     "end_time": "2024-04-16T13:09:04.200727Z",
     "start_time": "2024-04-16T13:09:00.134226Z"
    },
    "collapsed": false,
    "jupyter": {
     "outputs_hidden": false
    }
   },
   "outputs": [],
   "source": [
    "sb.save_to_gpkg(part, save_path=None)"
   ]
  },
  {
   "cell_type": "markdown",
   "metadata": {
    "collapsed": false,
    "jupyter": {
     "outputs_hidden": false
    }
   },
   "source": [
    "This will save the partitioning results to `data/results/Scheveningen_test/Scheveningen_test.gpkg`.\n",
    "If you calculated the metrics before, they will be available in the layers, for each \n",
    "Superblock. This includes more metrics than shown in the plots earlier.\n",
    "The name of the components is saved into a \"classification\" edge \n",
    "attribute. The sparse graph is saved with the value \"SPARSE\" into the \n",
    "\"classification\" edge attribute."
   ]
  },
  {
   "cell_type": "markdown",
   "metadata": {
    "collapsed": false,
    "jupyter": {
     "outputs_hidden": false
    }
   },
   "source": [
    "To learn more about the inner workings and background of the package, please\n",
    "see the next Reference section. Otherwise, you can also check out the\n",
    "[API documentation](api/index)"
   ]
  },
  {
   "cell_type": "markdown",
   "metadata": {
    "collapsed": false,
    "jupyter": {
     "outputs_hidden": false
    }
   },
   "source": [
    "## FAQ\n",
    "\n",
    "### Can I export the plots to another format?\n",
    "\n",
    "Yes, you can export the plots to any format supported by matplotlib.\n",
    "Just change the `PLOT_SUFFIX` in the `Config` class to the desired format."
   ]
  },
  {
   "cell_type": "code",
   "execution_count": null,
   "metadata": {
    "ExecuteTime": {
     "end_time": "2024-04-16T12:22:25.568595Z",
     "start_time": "2024-04-16T12:22:25.565956Z"
    },
    "collapsed": false,
    "jupyter": {
     "outputs_hidden": false
    }
   },
   "outputs": [],
   "source": [
    "sb.config.Config.PLOT_SUFFIX = \"png\"  # or \"svg\", \"pdf\", etc."
   ]
  },
  {
   "cell_type": "markdown",
   "metadata": {
    "collapsed": false,
    "jupyter": {
     "outputs_hidden": false
    }
   },
   "source": [
    "### The downloaded city is too big/small/not the right city, can I change this?\n",
    "\n",
    "The deciding string for the area to download is the `search_str`.\n",
    "Finding a fitting OSM area is via the Nominatim API.\n",
    "If you want to see your area before downloading, use\n",
    "the [Nominatim Search](https://nominatim.openstreetmap.org/ui/search.html).\n",
    "It helps to be more specific, e.g. \"Lyon, France\" instead of just \"Lyon\".\n",
    "Otherwise, OSM relations IDs, e.g. `R120965`, can be used.\n",
    "\n",
    "To re-download the map, pass `reload_graph=True` when initializing the partitioner.\n",
    "\n",
    "### The Superblocks look too big/small/random when using the `ResidentialPartitioner`, why is that?\n",
    "\n",
    "The `ResidentialPartitioner` uses the residential street tags to find the Superblocks.\n",
    "OSM data quality and the way streets are tagged varies, this is reflected for this approach.\n",
    "The `BetweennessPartitioner` tries to combat this by using the betweenness centrality\n",
    "of the streets, not the tags. Try this approach if the Superblocks are not satisfactory.\n"
   ]
  },
  {
   "cell_type": "code",
   "execution_count": null,
   "metadata": {
    "collapsed": false,
    "jupyter": {
     "outputs_hidden": false
    }
   },
   "outputs": [],
   "source": [
    "part = sb.BetweennessPartitioner(\n",
    "    name=\"Scheveningen_test_betweenness\", city_name=\"Scheveningen\",\n",
    "    search_str=\"Scheveningen, NL\",\n",
    ")\n",
    "part.run(\n",
    "    percentile=85.0,  # aimed percentage of streets for Superblocks\n",
    "    scaling=\"normal\",  # type of scaling for the betweenness centrality:\n",
    "    # \"normal\", \"length\", \"linear\"\n",
    "    max_range=None  # maximum range of the betweenness centrality, in meters, e.g. 3500\n",
    ")"
   ]
  },
  {
   "cell_type": "markdown",
   "metadata": {
    "collapsed": false,
    "jupyter": {
     "outputs_hidden": false
    }
   },
   "source": [
    "### My country has another maximum speed limit, can I change this?\n",
    "\n",
    "When calculating the metrics and using `replace_max_speeds=True`,\n",
    "the maximum speed limits are set to 15 km/h inside Superblocks\n",
    "and 50 km/h outside of them. If you want to change these values, you can do so\n",
    "by setting the `V_MAX_LTN` and `V_MAX_SPARSE` attributes in the `Config` class."
   ]
  },
  {
   "cell_type": "code",
   "execution_count": null,
   "metadata": {
    "ExecuteTime": {
     "end_time": "2024-04-16T12:36:23.015951Z",
     "start_time": "2024-04-16T12:36:23.013121Z"
    },
    "collapsed": false,
    "jupyter": {
     "outputs_hidden": false
    }
   },
   "outputs": [],
   "source": [
    "sb.config.Config.V_MAX_LTN = 30  # km/h\n",
    "sb.config.Config.V_MAX_SPARSE = 60  # km/h"
   ]
  },
  {
   "cell_type": "markdown",
   "metadata": {
    "collapsed": false,
    "jupyter": {
     "outputs_hidden": false
    }
   },
   "source": [
    "### Some streets I know are not being used in the partitioning, why is that?\n",
    "\n",
    "When downloading the map from OpenStreetMap, we use a specific network filter, which \n",
    "should include the car network."
   ]
  },
  {
   "cell_type": "code",
   "execution_count": null,
   "metadata": {
    "ExecuteTime": {
     "end_time": "2024-04-16T12:38:55.419951Z",
     "start_time": "2024-04-16T12:38:55.416403Z"
    },
    "collapsed": false,
    "jupyter": {
     "outputs_hidden": false
    }
   },
   "outputs": [],
   "source": [
    "sb.config.Config.NETWORK_FILTER"
   ]
  },
  {
   "cell_type": "markdown",
   "metadata": {
    "collapsed": false,
    "jupyter": {
     "outputs_hidden": false
    }
   },
   "source": [
    "### Some process is taking too long or suddenly stops, what can I do?\n",
    "\n",
    "If there are warnings or logs that indicate a problem, they might point to the issue.\n",
    "Be aware that, when analyzing a large city, superblockify needs sufficient resources.\n",
    "If it runs out of memory, some processes might stop abruptly without warning.\n",
    "To combat this, you can either try to find a `search_str` with a smaller area or\n",
    "set the `MAX_NODES` attribute in the `Config` class to a lower value.\n",
    "When initializing a partitioner, the street network is cut off at this number of nodes,\n",
    "including the most central nodes. By default, this is set to 20,000."
   ]
  },
  {
   "cell_type": "markdown",
   "metadata": {
    "collapsed": false,
    "jupyter": {
     "outputs_hidden": false
    }
   },
   "source": [
    "For further settings, see the other attributes in the `Config` class."
   ]
  },
  {
   "cell_type": "code",
   "execution_count": null,
   "metadata": {
    "ExecuteTime": {
     "end_time": "2024-04-16T12:56:25.688709Z",
     "start_time": "2024-04-16T12:56:25.685796Z"
    },
    "collapsed": false,
    "jupyter": {
     "outputs_hidden": false
    }
   },
   "outputs": [],
   "source": [
    "print(sb.config.Config.__doc__)"
   ]
  },
  {
   "cell_type": "markdown",
   "metadata": {
    "collapsed": false,
    "jupyter": {
     "outputs_hidden": false
    }
   },
   "source": [
    "If you run into any other issues, feel free to look into the [API documentation](api/index),\n",
    "[Source Code](https://github.com/NERDSITU/superblockify/),\n",
    "activate debug logs `sb.config.set_log_level(\"DEBUG\")`\n",
    "or finally [open a new issue](https://github.com/NERDSITU/superblockify/issues/new)."
   ]
  }
 ],
 "metadata": {
  "kernelspec": {
   "display_name": "sb_env",
   "language": "python",
   "name": "sb_env"
  },
  "language_info": {
   "codemirror_mode": {
    "name": "ipython",
    "version": 3
   },
   "file_extension": ".py",
   "mimetype": "text/x-python",
   "name": "python",
   "nbconvert_exporter": "python",
   "pygments_lexer": "ipython3",
   "version": "3.12.3"
  }
 },
 "nbformat": 4,
 "nbformat_minor": 4
}
