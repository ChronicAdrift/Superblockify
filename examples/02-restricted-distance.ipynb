{
 "cells": [
  {
   "attachments": {
    "8a415f1d-cfcf-4c3e-9078-13167177082e.png": {
     "image/png": "[encoded data removed]"
    }
   },
   "cell_type": "markdown",
   "metadata": {},
   "source": [
    "![superblockify_logo.png](attachment:8a415f1d-cfcf-4c3e-9078-13167177082e.png)"
   ]
  },
  {
   "cell_type": "markdown",
   "metadata": {},
   "source": [
    "More info: [superblockify.city](https://superblockify.city)"
   ]
  },
  {
   "cell_type": "markdown",
   "metadata": {},
   "source": [
    "# Restricted distance"
   ]
  },
  {
   "cell_type": "markdown",
   "metadata": {},
   "source": [
    "This notebook calculates the distances restricted by Superblocks."
   ]
  },
  {
   "cell_type": "code",
   "execution_count": null,
   "metadata": {
    "ExecuteTime": {
     "end_time": "2024-04-18T09:24:24.526765Z",
     "start_time": "2024-04-18T09:24:24.522726Z"
    }
   },
   "outputs": [],
   "source": [
    "from itertools import combinations\n",
    "\n",
    "import networkx as nx\n",
    "import numpy as np\n",
    "import pandas as pd\n",
    "from matplotlib import pyplot as plt\n",
    "from scipy.sparse import csr_matrix\n",
    "from scipy.sparse.csgraph import dijkstra"
   ]
  },
  {
   "cell_type": "code",
   "execution_count": null,
   "metadata": {
    "ExecuteTime": {
     "end_time": "2024-04-18T09:24:32.030463Z",
     "start_time": "2024-04-18T09:24:31.753667Z"
    }
   },
   "outputs": [],
   "source": [
    "# Create graph\n",
    "G = nx.DiGraph(\n",
    "    [\n",
    "        (1, 2, {\"weight\": 1}),\n",
    "        (2, 1, {\"weight\": 1}),\n",
    "        (2, 3, {\"weight\": 1}),\n",
    "        (3, 2, {\"weight\": 1}),\n",
    "        (1, 4, {\"weight\": 1}),\n",
    "        (4, 1, {\"weight\": 1}),\n",
    "        (2, 5, {\"weight\": 1}),\n",
    "        (5, 2, {\"weight\": 1}),\n",
    "        (5, 4, {\"weight\": 4}),\n",
    "        (2, 4, {\"weight\": 1}),\n",
    "        (3, 6, {\"weight\": 2}),\n",
    "        (6, 3, {\"weight\": 2}),\n",
    "        (6, 1, {\"weight\": 1}),\n",
    "        (6, 2, {\"weight\": 6}),\n",
    "        (6, 7, {\"weight\": 1}),\n",
    "        (7, 6, {\"weight\": 1}),\n",
    "        (6, 4, {\"weight\": 1.5}),\n",
    "        (4, 6, {\"weight\": 1.5}),\n",
    "    ]\n",
    ")\n",
    "# Draw a scaled down version of the graph\n",
    "nx.draw(\n",
    "    G,\n",
    "    with_labels=True,\n",
    "    font_color=\"white\",\n",
    "    pos=nx.kamada_kawai_layout(G),\n",
    "    ax=plt.figure(figsize=(8, 3)).gca(),\n",
    ")"
   ]
  },
  {
   "cell_type": "code",
   "execution_count": null,
   "metadata": {
    "ExecuteTime": {
     "end_time": "2024-04-18T09:24:32.502019Z",
     "start_time": "2024-04-18T09:24:32.229584Z"
    }
   },
   "outputs": [],
   "source": [
    "n_sparse = [1, 2, 3]\n",
    "partitions = {\n",
    "    \"G_s\": {\"nodes\": n_sparse, \"color\": \"black\", \"subgraph\": G.subgraph(n_sparse)},\n",
    "    \"G_1\": {\"nodes\": [4, 5], \"color\": \"mediumseagreen\"},\n",
    "    \"G_2\": {\"nodes\": [6, 7], \"color\": \"crimson\"},\n",
    "}\n",
    "for name, part in partitions.items():\n",
    "    if \"subgraph\" not in part:\n",
    "        # subgraph for all edges from or to nodes in partition\n",
    "        part[\"subgraph\"] = G.edge_subgraph(\n",
    "            [(u, v) for u, v in G.edges if u in part[\"nodes\"] or v in part[\"nodes\"]]\n",
    "        )\n",
    "    part[\"nodelist\"] = part[\"subgraph\"].nodes\n",
    "    for node in part[\"nodes\"]:\n",
    "        G.nodes[node][\"partition\"] = part[\"color\"]\n",
    "\n",
    "nx.draw(G, with_labels=True, node_color=[G.nodes[n][\"partition\"] for n in G.nodes],\n",
    "        font_color=\"white\",\n",
    "        pos=nx.kamada_kawai_layout(G),\n",
    "        ax=plt.figure(figsize=(8, 3)).gca(),\n",
    "        )"
   ]
  },
  {
   "cell_type": "markdown",
   "metadata": {},
   "source": [
    "To check the subgraphs are correct, draw these separately."
   ]
  },
  {
   "cell_type": "code",
   "execution_count": null,
   "metadata": {
    "ExecuteTime": {
     "end_time": "2024-04-18T09:24:33.688662Z",
     "start_time": "2024-04-18T09:24:33.396583Z"
    }
   },
   "outputs": [],
   "source": [
    "# Copy subgraphs, relabel them, merge them into one graph\n",
    "composite_graph = nx.DiGraph()\n",
    "for name, part in partitions.items():\n",
    "    subgraph = part[\"subgraph\"].copy()\n",
    "    subgraph = nx.relabel_nodes(subgraph, {n: f\"{name}_{n}\" for n in subgraph.nodes})\n",
    "    composite_graph = nx.compose(composite_graph, subgraph)\n",
    "nx.draw(\n",
    "    composite_graph,\n",
    "    node_color=[composite_graph.nodes[n][\"partition\"] for n in composite_graph.nodes],\n",
    "    with_labels=True,\n",
    "    font_color=\"white\",\n",
    "    labels={n: n.split(\"_\")[-1] for n in composite_graph.nodes},\n",
    "    pos=nx.planar_layout(composite_graph),\n",
    "    ax=plt.figure(figsize=(8, 3)).gca(),\n",
    ")"
   ]
  },
  {
   "cell_type": "markdown",
   "metadata": {},
   "source": [
    "## Distance calculation\n",
    "\n",
    "To make the restricted calculation we use two passes of Dijsktra's algorithm.\n",
    "One pass where it is only possible to leave the sparse graph and one\n",
    "pass where it is only possible to enter the sparse graph.\n",
    "Going between two partitions is always prohibited.\n",
    "\n",
    "### 1. Leaving\n",
    "\n",
    "Calculate all-pairs shortest paths on graph where we cut the edges that lead us\n",
    "outside a partition. This way we find all the shortest paths on the sparse graph, to\n",
    "one partition and inside all the partitions, without exiting. Also the edges between\n",
    "two different partitions are all cut.\n",
    "\n",
    "### 2. Entering\n",
    "\n",
    "Analogous to the first pass, but now we cut the edges that lead us into a partition.\n",
    "Here we will find the paths from partition nodes to the sparse graph nodes.\n",
    "\n",
    "For finding the shortest paths we could use\n",
    ":func:`nx.floyd_warshall_predecessor_and_distance`, but as we'll use this approach\n",
    "for larger graphs, we'll use :func:`scipy.sparse.csgraph.dijkstra`.\n",
    "\n",
    "We will convert the graph to a sparse representation (csr) and filter out the\n",
    "concerning edges."
   ]
  },
  {
   "cell_type": "code",
   "execution_count": null,
   "metadata": {
    "ExecuteTime": {
     "end_time": "2024-04-18T09:24:34.874833Z",
     "start_time": "2024-04-18T09:24:34.861433Z"
    }
   },
   "outputs": [],
   "source": [
    "\n",
    "# sorted node order (names)\n",
    "node_order = list(sorted(G.nodes))\n",
    "# node_order indices\n",
    "node_order_indices = list(range(len(node_order)))\n",
    "# filtered indices: sparse/partition\n",
    "n_sparse_indices = [node_order.index(n) for n in n_sparse]\n",
    "part_name_order = [name for name in partitions.keys() if name != \"G_s\"]\n",
    "n_partition_indices_separate = [\n",
    "    [node_order.index(n) for n in partitions[name][\"nodes\"]] for name in part_name_order\n",
    "]\n",
    "n_partition_indices = [n for part in n_partition_indices_separate for n in part]\n",
    "# Semipermeable graphs\n",
    "G_leaving = G.copy()\n",
    "# Construct Compressed Sparse Row matrix\n",
    "# https://docs.scipy.org/doc/scipy/reference/generated/scipy.sparse.coo_matrix.html\n",
    "G_leaving = nx.to_scipy_sparse_array(G_leaving, nodelist=node_order, format=\"coo\")\n",
    "data, row, col = G_leaving.data, G_leaving.row, G_leaving.col\n",
    "\n",
    "# Remove edges between different partitions\n",
    "# (col, row in separate n_partition_indices_separate)\n",
    "for n_ind_1, n_ind_2 in combinations(n_partition_indices_separate, 2):\n",
    "    mask = np.logical_and(np.isin(row, n_ind_1), np.isin(col, n_ind_2))\n",
    "    mask = np.logical_or(mask,\n",
    "                         np.logical_and(np.isin(row, n_ind_2), np.isin(col, n_ind_1)))\n",
    "    data, row, col = data[~mask], row[~mask], col[~mask]\n",
    "G_entering = (data, (row, col))\n",
    "\n",
    "# Remove edges from partition to sparse\n",
    "mask = np.logical_and(np.isin(row, n_partition_indices),\n",
    "                      np.isin(col, n_sparse_indices))\n",
    "data, row, col = data[~mask], row[~mask], col[~mask]\n",
    "G_leaving = csr_matrix((data, (row, col)), shape=(len(node_order), len(node_order)))\n",
    "# Remove edges from sparse to partition\n",
    "data, (row, col) = G_entering\n",
    "mask = np.logical_and(np.isin(row, n_sparse_indices),\n",
    "                      np.isin(col, n_partition_indices))\n",
    "data, row, col = data[~mask], row[~mask], col[~mask]\n",
    "G_entering = csr_matrix((data, (row, col)), shape=(len(node_order), len(node_order)))"
   ]
  },
  {
   "cell_type": "markdown",
   "metadata": {},
   "source": [
    "This will make the graph break up like so:"
   ]
  },
  {
   "cell_type": "code",
   "execution_count": null,
   "metadata": {
    "ExecuteTime": {
     "end_time": "2024-04-18T09:24:43.031343Z",
     "start_time": "2024-04-18T09:24:42.820721Z"
    }
   },
   "outputs": [],
   "source": [
    "G_leaving_nx = nx.from_scipy_sparse_array(G_leaving, create_using=nx.DiGraph)\n",
    "G_leaving_nx = nx.relabel_nodes(G_leaving_nx,\n",
    "                                {i: n for i, n in enumerate(node_order)})\n",
    "nx.draw(G_leaving_nx,\n",
    "        with_labels=True,\n",
    "        node_color=[G.nodes[n][\"partition\"] for n in G.nodes],\n",
    "        font_color=\"white\",\n",
    "        pos=nx.kamada_kawai_layout(G_leaving_nx),\n",
    "        ax=plt.figure(figsize=(8, 3)).gca(),\n",
    "        )"
   ]
  },
  {
   "cell_type": "code",
   "execution_count": null,
   "metadata": {
    "ExecuteTime": {
     "end_time": "2024-04-18T09:24:49.204505Z",
     "start_time": "2024-04-18T09:24:48.982572Z"
    }
   },
   "outputs": [],
   "source": [
    "G_entering_nx = nx.from_scipy_sparse_array(G_entering, create_using=nx.DiGraph)\n",
    "G_entering_nx = nx.relabel_nodes(G_entering_nx,\n",
    "                                 {i: n for i, n in enumerate(node_order)})\n",
    "nx.draw(G_entering_nx,\n",
    "        with_labels=True,\n",
    "        node_color=[G.nodes[n][\"partition\"] for n in G.nodes],\n",
    "        font_color=\"white\",\n",
    "        pos=nx.kamada_kawai_layout(G_entering_nx),\n",
    "        ax=plt.figure(figsize=(8, 3)).gca(),\n",
    "        )"
   ]
  },
  {
   "cell_type": "markdown",
   "metadata": {},
   "source": [
    "The distances on both these graphs are the following:"
   ]
  },
  {
   "cell_type": "code",
   "execution_count": null,
   "metadata": {
    "ExecuteTime": {
     "end_time": "2024-04-18T09:24:52.849400Z",
     "start_time": "2024-04-18T09:24:52.776276Z"
    }
   },
   "outputs": [],
   "source": [
    "# Calculate distances on this graph\n",
    "dist_leaving, pred_leaving = dijkstra(G_leaving, directed=True,\n",
    "                                      return_predecessors=True)\n",
    "dist_entering, pred_entering = dijkstra(G_entering, directed=True,\n",
    "                                        return_predecessors=True)\n",
    "\n",
    "display(pd.DataFrame(dist_leaving, index=node_order, columns=node_order),\n",
    "        pd.DataFrame(dist_entering, index=node_order, columns=node_order))"
   ]
  },
  {
   "cell_type": "markdown",
   "metadata": {},
   "source": [
    "## Merge results\n",
    "\n",
    "We can merge the distances and predecessors taking the minimum of the two distances."
   ]
  },
  {
   "cell_type": "code",
   "execution_count": null,
   "metadata": {
    "ExecuteTime": {
     "end_time": "2024-04-18T09:27:48.994303Z",
     "start_time": "2024-04-18T09:27:48.988983Z"
    }
   },
   "outputs": [],
   "source": [
    "def colored_predecessors(preds, graph=G, node_order=node_order,\n",
    "                         node_order_indices=node_order_indices):\n",
    "    return pd.DataFrame(preds, index=node_order_indices,\n",
    "                        columns=node_order_indices).style. \\\n",
    "        map(lambda x: f\"color: {graph.nodes[node_order[x]]['partition']}\"\n",
    "    if x != -9999 else \"\")\n",
    "\n",
    "\n",
    "def colored_distances(dists, precision, cmap='Blues', node_order=node_order):\n",
    "    return pd.DataFrame(dists, index=node_order, columns=node_order).style. \\\n",
    "        background_gradient(cmap=cmap, vmin=np.ma.masked_invalid(dists).min(),\n",
    "                            vmax=np.ma.masked_invalid(dists).max()). \\\n",
    "        format(precision=precision)"
   ]
  },
  {
   "cell_type": "code",
   "execution_count": null,
   "metadata": {
    "ExecuteTime": {
     "end_time": "2024-04-18T09:27:49.909734Z",
     "start_time": "2024-04-18T09:27:49.878406Z"
    }
   },
   "outputs": [],
   "source": [
    "min_mask = dist_leaving < dist_entering\n",
    "dist_le = dist_entering.copy()\n",
    "pred_le = pred_entering.copy()\n",
    "dist_le[min_mask], pred_le[min_mask] = dist_leaving[min_mask], pred_leaving[min_mask]\n",
    "\n",
    "display(colored_distances(dist_le, 1),\n",
    "        colored_predecessors(pred_le))"
   ]
  },
  {
   "cell_type": "markdown",
   "metadata": {},
   "source": [
    "Now we know all the distances and paths if we only allow crossing to/from the\n",
    "sparsified graph once. The lower right corner of the matrices is still empty, as\n",
    "these are the paths between the partitions, which need to cross twice.\n",
    "\n",
    "## Fill up distances\n",
    "\n",
    "For these all we will need to find the minimum of\n",
    "\n",
    "$$ d_{ij} = \\min_{k_n \\in V_s\\cup V_n, l_m \\in V_s\\cup V_m} \\left(d_{ik} + d_{kl} +\n",
    "d_{lj}\\right), \\quad i \\in V_n \\Leftrightarrow j \\in V_m$$\n",
    "\n",
    "and the corresponding predecessor. But as we already now all the paths $d_{ik} +\n",
    "d_{kl}$ entering, and $d_{kl} + d_{lj}$ leaving, we can reduce the search to one\n",
    "node $k_n$ or $l_m$.\n",
    "\n",
    "We will go with $k_n$.\n"
   ]
  },
  {
   "cell_type": "code",
   "execution_count": null,
   "metadata": {
    "ExecuteTime": {
     "end_time": "2024-04-18T09:30:13.363397Z",
     "start_time": "2024-04-18T09:30:13.328890Z"
    }
   },
   "outputs": [],
   "source": [
    "n_partition_intersect_indices = [\n",
    "    list(set(n_sparse).intersection(partitions[name][\"nodelist\"]))\n",
    "    for name in part_name_order\n",
    "]\n",
    "n_partition_intersect_indices = [\n",
    "    [node_order.index(n) for n in part_indices]\n",
    "    for part_indices in n_partition_intersect_indices\n",
    "]\n",
    "\n",
    "# Loop, for didactic purposes\n",
    "for part_idx, part_intersect in zip(n_partition_indices_separate,\n",
    "                                    n_partition_intersect_indices):\n",
    "    for i in part_idx:\n",
    "        for j in n_partition_indices:\n",
    "            if i == j:\n",
    "                continue\n",
    "            # distances from i to j, over all possible k in part_intersect\n",
    "            dists = dist_le[i, part_intersect] + dist_le[part_intersect, j]\n",
    "            # index of minimum distance for predecessor\n",
    "            min_idx = np.argmin(dists)\n",
    "            if dists[min_idx] >= dist_le[i, j]:\n",
    "                continue\n",
    "            dist_le[i, j] = dists[min_idx]\n",
    "            pred_le[i, j] = pred_le[part_intersect[min_idx], j]\n",
    "# A vectorized version of the above is much quicker, see implementation\n",
    "\n",
    "display(colored_distances(dist_le, 0),\n",
    "        colored_predecessors(pred_le))"
   ]
  },
  {
   "cell_type": "markdown",
   "metadata": {},
   "source": [
    "And there we already got our result. In this case the only difference results\n",
    "through the edge between $6$ and $4$, which is restricted. The shortest path\n",
    "differences are the following:"
   ]
  },
  {
   "cell_type": "code",
   "execution_count": null,
   "metadata": {
    "ExecuteTime": {
     "end_time": "2024-04-18T09:41:02.246926Z",
     "start_time": "2024-04-18T09:41:02.224809Z"
    }
   },
   "outputs": [],
   "source": [
    "G_sparse = nx.to_scipy_sparse_array(G, nodelist=list(G.nodes))\n",
    "G_sparse.indices, G_sparse.indptr = G_sparse.indices.astype(\n",
    "    np.int32), G_sparse.indptr.astype(np.int32)\n",
    "display(colored_distances(\n",
    "    dist_le - dijkstra(G_sparse,\n",
    "                       directed=True,\n",
    "                       return_predecessors=False),\n",
    "    1, 'Reds')\n",
    ")"
   ]
  },
  {
   "cell_type": "markdown",
   "metadata": {},
   "source": [
    "To see a difference traversing the sparse graph, we will look at another example\n",
    "using the implementation of the algorithm in the package.\n",
    "\n",
    "## Second Example\n",
    "\n",
    "With the above described algorithm, the method\n",
    "[`shortest_paths_restricted()`](shortest_paths_restricted) is implemented, see\n",
    "[Implementation](#implementation). It takes a partitioner as the input and returns the\n",
    "distance matrix and the predecessor matrix."
   ]
  },
  {
   "cell_type": "code",
   "execution_count": null,
   "metadata": {
    "ExecuteTime": {
     "end_time": "2024-04-18T09:41:03.801671Z",
     "start_time": "2024-04-18T09:41:03.211382Z"
    }
   },
   "outputs": [],
   "source": [
    "# Create planar graph, similar to a street network\n",
    "G_2 = nx.DiGraph(nx.Graph(\n",
    "    [\n",
    "        (10, 11, {\"weight\": 1}),\n",
    "        (11, 12, {\"weight\": 1}),\n",
    "        (12, 13, {\"weight\": 1}),\n",
    "        (13, 0, {\"weight\": 1.5}),\n",
    "        (13, 14, {\"weight\": 1}),\n",
    "        (14, 0, {\"weight\": 1}),\n",
    "        (0, 10, {\"weight\": 1}),\n",
    "        (0, 1, {\"weight\": 1}),\n",
    "        (10, 1, {\"weight\": 1}),\n",
    "        (1, 2, {\"weight\": 1}),\n",
    "        (2, 3, {\"weight\": 1}),\n",
    "        (3, 4, {\"weight\": 1.5}),\n",
    "        (4, 5, {\"weight\": 1}),\n",
    "        (5, 9, {\"weight\": 1}),\n",
    "        (5, 6, {\"weight\": 1}),\n",
    "        (7, 2, {\"weight\": 1}),\n",
    "        (8, 7, {\"weight\": 0.5}),\n",
    "        (7, 1, {\"weight\": 1}),\n",
    "        (8, 9, {\"weight\": 0.7}),\n",
    "        (6, 9, {\"weight\": 1}),\n",
    "        (8, 4, {\"weight\": 1}),\n",
    "        (9, 1, {\"weight\": 1}),\n",
    "        (0, 18, {\"weight\": 0.4}),\n",
    "        (18, 2, {\"weight\": 0.4}),\n",
    "        (6, 15, {\"weight\": 0.8}),\n",
    "        (15, 16, {\"weight\": 1}),\n",
    "        (16, 17, {\"weight\": 1}),\n",
    "        (17, 6, {\"weight\": 1}),\n",
    "    ]\n",
    "))\n",
    "# Isolated node\n",
    "G_2.add_node(19)\n",
    "# Delete directed edges (1, 9), (6, 17), (10, 1)\n",
    "G_2.remove_edges_from([(1, 9), (6, 17), (10, 1)])\n",
    "# Add longer edge 0 -> 13\n",
    "G_2.add_edge(0, 13, weight=G_2[0][13][\"weight\"] * 2)\n",
    "\n",
    "n_sparse = [0, 1, 2, 3, 4, 5, 6, 19]\n",
    "partitions = {\n",
    "    \"sparsified\":\n",
    "        {\"nodes\": n_sparse, \"color\": \"black\", \"subgraph\": G_2.subgraph(n_sparse)},\n",
    "    \"G_r\": {\"nodes\": [7, 8, 9], \"color\": \"crimson\"},\n",
    "    \"G_g\": {\"nodes\": [10, 11, 12, 13, 14], \"color\": \"mediumseagreen\"},\n",
    "    \"G_b\": {\"nodes\": [15, 16, 17], \"color\": \"dodgerblue\"},\n",
    "    \"G_o\": {\"nodes\": [18], \"color\": \"darkorange\"},\n",
    "}\n",
    "for name, part in partitions.items():\n",
    "    if \"subgraph\" not in part:\n",
    "        # subgraph for all edges from or to nodes in partition\n",
    "        part[\"subgraph\"] = G_2.edge_subgraph(\n",
    "            [(u, v) for u, v in G_2.edges if u in part[\"nodes\"] or v in part[\"nodes\"]]\n",
    "        )\n",
    "    part[\"nodelist\"] = part[\"subgraph\"].nodes\n",
    "    for node in part[\"nodes\"]:\n",
    "        G_2.nodes[node][\"partition\"] = part[\"color\"]\n",
    "\n",
    "nx.draw(G_2, with_labels=True, node_color=[G_2.nodes[n][\"partition\"] for n in G_2\n",
    "        .nodes],\n",
    "        font_color=\"white\",\n",
    "        pos=nx.kamada_kawai_layout(G_2),\n",
    "        ax=plt.figure(figsize=(8, 5)).gca(),\n",
    "        )"
   ]
  },
  {
   "cell_type": "markdown",
   "metadata": {},
   "source": [
    "Two notes to this graph. The distance between $0$ and $2$ is $0.8$ on the unrestricted\n",
    "graph $0 \\overset{0.4}{\\rightarrow} 18 \\overset{0.4}{\\rightarrow} 2$, instead of $2$\n",
    "with restrictions $0 \\overset{1}{\\rightarrow} 1 \\overset{1}{\\rightarrow} 2$.\n",
    "Getting from $1$ to $6$ would also be far shorter than taking the shortest path on the\n",
    "sparsified graph. The calculation using\n",
    "[`shortest_paths_restricted(G_2)`](shortest_paths_restricted) gives the following\n",
    "results."
   ]
  },
  {
   "cell_type": "code",
   "execution_count": null,
   "metadata": {
    "ExecuteTime": {
     "end_time": "2024-04-18T09:41:03.874425Z",
     "start_time": "2024-04-18T09:41:03.803496Z"
    }
   },
   "outputs": [],
   "source": [
    "from superblockify.metrics.distances import shortest_paths_restricted\n",
    "\n",
    "node_order_2 = list(range(len(G_2.nodes)))\n",
    "dist, pred = shortest_paths_restricted(G_2, partitions, weight=\"weight\",\n",
    "                                       node_order=node_order_2)\n",
    "display(colored_distances(dist, 1, node_order=node_order_2). \\\n",
    "        set_table_attributes('style=\"font-size: 12px\"'),\n",
    "        colored_predecessors(pred, G_2, node_order=node_order_2,\n",
    "                             node_order_indices=node_order_2). \\\n",
    "        set_table_attributes('style=\"font-size: 10px\"'))"
   ]
  },
  {
   "cell_type": "markdown",
   "metadata": {},
   "source": [
    "At first glance the predecessor matrix looks correct. The yellow $18$ is only\n",
    "predecessor coming from itself. Also for the red partition $7$, $8$, $9$ we see that\n",
    "they are only being visited for the columns or rows corresponding to themselves. The\n",
    "same can be said for the other partitions. When going from or to sparsified nodes, no\n",
    "colorful nodes are visited.\n",
    "\n",
    "From here one could reconstruct the shortest paths. A direct implementation\n",
    "for a single path would be the following."
   ]
  },
  {
   "cell_type": "code",
   "execution_count": null,
   "metadata": {
    "ExecuteTime": {
     "end_time": "2024-04-18T09:41:22.980123Z",
     "start_time": "2024-04-18T09:41:22.975753Z"
    }
   },
   "outputs": [],
   "source": [
    "def reconstruct_path(pred, start, end):\n",
    "    \"\"\"Reconstruct path from predecessor matrix.\"\"\"\n",
    "    if start == end:\n",
    "        return []\n",
    "    prev = pred[start]\n",
    "    curr = prev[end]\n",
    "    path = [end, curr]\n",
    "    while curr != start:\n",
    "        curr = prev[curr]\n",
    "        path.append(curr)\n",
    "    return list(reversed(path))"
   ]
  },
  {
   "cell_type": "code",
   "execution_count": null,
   "metadata": {
    "ExecuteTime": {
     "end_time": "2024-04-18T09:41:23.127090Z",
     "start_time": "2024-04-18T09:41:23.121268Z"
    }
   },
   "outputs": [],
   "source": [
    "reconstruct_path(pred, 0, 2), reconstruct_path(pred, 0, 6), \\\n",
    "    reconstruct_path(pred, 14, 7), reconstruct_path(pred, 12, 16), \\\n",
    "    reconstruct_path(pred, 7, 18)"
   ]
  },
  {
   "cell_type": "code",
   "execution_count": null,
   "metadata": {
    "ExecuteTime": {
     "end_time": "2024-04-18T09:41:24.243789Z",
     "start_time": "2024-04-18T09:41:23.650255Z"
    }
   },
   "outputs": [],
   "source": [
    "nx.draw(G_2, with_labels=True, node_color=[G_2.nodes[n][\"partition\"] for n in G_2\n",
    "        .nodes],\n",
    "        font_color=\"white\",\n",
    "        pos=nx.kamada_kawai_layout(G_2),\n",
    "        ax=plt.figure(figsize=(8, 5)).gca(),\n",
    "        )"
   ]
  },
  {
   "cell_type": "markdown",
   "metadata": {},
   "source": [
    "To finish, the difference between the unrestricted and restricted graph distances."
   ]
  },
  {
   "cell_type": "code",
   "execution_count": null,
   "metadata": {
    "ExecuteTime": {
     "end_time": "2024-04-18T09:41:26.675435Z",
     "start_time": "2024-04-18T09:41:26.614043Z"
    }
   },
   "outputs": [],
   "source": [
    "G_2_sparse = nx.to_scipy_sparse_array(G_2, nodelist=node_order_2)\n",
    "G_2_sparse.indices, G_2_sparse.indptr = G_2_sparse.indices.astype(\n",
    "    np.int32), G_2_sparse.indptr.astype(np.int32)\n",
    "display(colored_distances(\n",
    "    dist - dijkstra(G_2_sparse,\n",
    "                    directed=True,\n",
    "                    return_predecessors=False),\n",
    "    1, 'Reds', node_order=node_order_2). \\\n",
    "        set_table_attributes('style=\"font-size: 12px\"'),\n",
    "        )"
   ]
  }
 ],
 "metadata": {
  "kernelspec": {
   "display_name": "sb_env",
   "language": "python",
   "name": "sb_env"
  },
  "language_info": {
   "codemirror_mode": {
    "name": "ipython",
    "version": 3
   },
   "file_extension": ".py",
   "mimetype": "text/x-python",
   "name": "python",
   "nbconvert_exporter": "python",
   "pygments_lexer": "ipython3",
   "version": "3.12.3"
  }
 },
 "nbformat": 4,
 "nbformat_minor": 4
}
