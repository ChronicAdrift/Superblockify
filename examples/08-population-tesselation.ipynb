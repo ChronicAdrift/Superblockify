{
 "cells": [
  {
   "attachments": {
    "8a415f1d-cfcf-4c3e-9078-13167177082e.png": {
     "image/png": "[encoded data removed]"
    }
   },
   "cell_type": "markdown",
   "metadata": {},
   "source": [
    "![superblockify_logo.png](attachment:8a415f1d-cfcf-4c3e-9078-13167177082e.png)"
   ]
  },
  {
   "cell_type": "markdown",
   "metadata": {},
   "source": [
    "More info: [superblockify.city](https://superblockify.city)"
   ]
  },
  {
   "cell_type": "markdown",
   "metadata": {},
   "source": [
    "# Population tessellation\n",
    "\n",
    "This notebook explores the tesselation of population.\n",
    "\n",
    "In the last two notebooks, we worked on how to determine the population of any given\n",
    "area using the raster dataset GHS-POP (Global Human Settlement Population Layer) for\n",
    "the P2023 release. As our goal is to repeatedly determine the population density of\n",
    "Superblocks, we want to have an effective way to do this. As the Superblocks are made up of\n",
    "subgraphs of our road network, we showed a way to tessellate using roads."
   ]
  },
  {
   "cell_type": "markdown",
   "metadata": {},
   "source": [
    "_A tessellation is..._\n",
    "... a collection of plane figures that fills the plane with no overlaps and no gaps.\n",
    "In geometry and mathematics tilings are often done with repeating patterns or shapes.\n",
    "Voronoi tessellations are usually aperiodic."
   ]
  },
  {
   "cell_type": "code",
   "execution_count": null,
   "metadata": {
    "ExecuteTime": {
     "end_time": "2023-06-20T13:35:33.008818319Z",
     "start_time": "2023-06-20T13:35:16.963662028Z"
    }
   },
   "outputs": [],
   "source": [
    "import geopandas as gpd\n",
    "import matplotlib.pyplot as plt\n",
    "import numpy as np\n",
    "import osmnx as ox\n",
    "from networkx import ego_graph\n",
    "from matplotlib._color_data import CSS4_COLORS\n",
    "from rasterio.features import shapes\n",
    "from rasterstats import zonal_stats\n",
    "from scipy.spatial import Voronoi, voronoi_plot_2d\n",
    "from scipy.odr import ODR, Model, RealData\n",
    "from shapely import STRtree\n",
    "from shapely.geometry import shape\n",
    "from tqdm import tqdm\n",
    "\n",
    "from superblockify import get_edge_cells, get_ghsl, resample_load_window, \\\n",
    "    add_edge_population, add_edge_cells, get_population_area"
   ]
  },
  {
   "cell_type": "code",
   "execution_count": null,
   "metadata": {
    "ExecuteTime": {
     "end_time": "2023-06-20T08:11:05.214762774Z",
     "start_time": "2023-06-20T08:11:04.511958018Z"
    }
   },
   "outputs": [],
   "source": [
    "# Generate Example Voronoi Tessellation\n",
    "np.random.seed(1671593280)\n",
    "points = np.random.multivariate_normal(mean=[0, 0], cov=[[1, 0], [0, 0.6]], size=40)\n",
    "vor = Voronoi(points)\n",
    "fig = voronoi_plot_2d(vor, figsize=(5, 4), show_vertices=False, line_colors='green',\n",
    "                      line_width=1.5, line_alpha=0.6, point_size=4)\n",
    "plt.tick_params(axis='both', which='both', bottom=False, top=False, labelbottom=False,\n",
    "                right=False, left=False, labelleft=False)"
   ]
  },
  {
   "cell_type": "markdown",
   "metadata": {},
   "source": [
    "To keep the code effective, we renounce calculating the Voronoi tessellation for each\n",
    "partition of the road network. Instead, tessellate the whole road network once using\n",
    "roads and calculate the population and area of each road cell. Then, we can use this\n",
    "information to determine the population density of each Superblock repeatedly.\n",
    "\n",
    "There are two approaches we want to consider integrating the population raster data over\n",
    "the road cells. The first approach is to use up-sampled raster data, as we did before.\n",
    "The second approach is to polygonize the raster data and intersect the road cells with\n",
    "it. For both, we need to consider used memory and computation time. Loading in a big\n",
    "city with an up-sampled raster dataset can take a lot of time and memory, but it\n",
    "needs to be up-sampled to reach better population approximations. Calculating\n",
    "intersections between polygons could be computationally heavy.\n",
    "\n",
    "## Data Preparation\n",
    "\n",
    "First, let's get an example road network and tessellate it. We are Using _La Crosse,\n",
    "Wisconsin_ as an example. By the Native American Neshnabé/Potawatomi, it is called\n",
    "_ensewaksak_.\n",
    "The working CRS is the World Mollweide projection, as it is an equal-area projection,\n",
    "and the GHS-POP raster data is in this projection. But the edge cells need to be\n",
    "calculated in the local CRS, to avoid distortion."
   ]
  },
  {
   "cell_type": "code",
   "execution_count": null,
   "metadata": {
    "ExecuteTime": {
     "end_time": "2023-06-20T13:02:41.561465456Z",
     "start_time": "2023-06-20T13:02:28.409652368Z"
    }
   },
   "outputs": [],
   "source": [
    "lc_graph = ox.graph_from_place(\"La Crosse, La Crosse County, Wisconsin, United \"\n",
    "                               \"States\",\n",
    "                               network_type=\"drive\")\n",
    "lc_graph = ox.project_graph(lc_graph)  # to local UTM zone\n",
    "# Get Road Cells\n",
    "lc_road_cells = get_edge_cells(lc_graph)\n",
    "# Project to World Mollweide\n",
    "lc_road_cells = lc_road_cells.to_crs(\"World Mollweide\")"
   ]
  },
  {
   "cell_type": "code",
   "execution_count": null,
   "metadata": {
    "ExecuteTime": {
     "end_time": "2023-06-20T13:02:45.295305100Z",
     "start_time": "2023-06-20T13:02:41.548217659Z"
    }
   },
   "outputs": [],
   "source": [
    "# random color of CSS4_COLORS\n",
    "lc_road_cells[\"color_name\"] = np.random.choice(list(CSS4_COLORS.keys()),\n",
    "                                               size=len(lc_road_cells))\n",
    "lc_road_cells.explore(color=\"color_name\", style_kwds={\"color\": \"black\", \"opacity\": 0.5,\n",
    "                                                      \"weight\": 1}, zoom_start=14)"
   ]
  },
  {
   "cell_type": "markdown",
   "metadata": {},
   "source": [
    "We need to get the GHS-POP raster data for the area of interest. For that we can\n",
    "use the `get_ghsl` function from the `superblockify` package. It needs a bounding box\n",
    "of the whole are in Mollweide projection, and it will download the raster data and\n",
    "return the file path(s) to the raster data. The raster data is in GeoTIFF format.\n",
    "For that, we take the union of all road cells and get the bounding box of it. When\n",
    "looking at the union, the _skewness_ of our projection is visible."
   ]
  },
  {
   "cell_type": "code",
   "execution_count": null,
   "metadata": {
    "ExecuteTime": {
     "end_time": "2023-06-20T13:02:45.907164744Z",
     "start_time": "2023-06-20T13:02:45.424365129Z"
    }
   },
   "outputs": [],
   "source": [
    "lc_road_cells.unary_union"
   ]
  },
  {
   "cell_type": "code",
   "execution_count": null,
   "metadata": {
    "ExecuteTime": {
     "end_time": "2023-06-20T13:02:46.526197223Z",
     "start_time": "2023-06-20T13:02:45.906983049Z"
    }
   },
   "outputs": [],
   "source": [
    "lc_bbox = lc_road_cells.unary_union.bounds\n",
    "lc_ghsl = get_ghsl(lc_bbox)"
   ]
  },
  {
   "cell_type": "markdown",
   "metadata": {},
   "source": [
    "## Up-sampled Raster Data\n",
    "\n",
    "Try to load the raster data inside the bounding box into memory and scale up by a\n",
    "factor of 10. The original cells are 100m x 100m, so the up-sampled cells are 10m x 10m.\n",
    "For that, we use the `resample_load_window` function from the `superblockify` package.\n"
   ]
  },
  {
   "cell_type": "code",
   "execution_count": null,
   "metadata": {
    "ExecuteTime": {
     "end_time": "2023-06-20T13:02:47.297927399Z",
     "start_time": "2023-06-20T13:02:46.539011043Z"
    }
   },
   "outputs": [],
   "source": [
    "lc_ghsl_upsampled, lc_affine_upsampled = resample_load_window(\n",
    "    file=lc_ghsl, resample_factor=10, window=lc_road_cells)\n",
    "# The resampling strategy for upscaling is `nearest`, so to conserve the population\n",
    "# values, we need to divide the population values by the resample factor squared.\n",
    "lc_ghsl_upsampled /= 10 ** 2"
   ]
  },
  {
   "cell_type": "markdown",
   "metadata": {},
   "source": [
    "Now, we can use the `zonal_stats` function from the `rasterstats` package to calculate\n",
    "the population and area of each road cell. Just like we did in the Population Density notebook."
   ]
  },
  {
   "cell_type": "code",
   "execution_count": null,
   "metadata": {
    "ExecuteTime": {
     "end_time": "2023-06-20T13:02:51.895980521Z",
     "start_time": "2023-06-20T13:02:47.301136575Z"
    }
   },
   "outputs": [],
   "source": [
    "lc_zonal_stats = zonal_stats(lc_road_cells, lc_ghsl_upsampled,\n",
    "                             affine=lc_affine_upsampled,\n",
    "                             stats=[\"sum\"], nodata=0, all_touched=False)\n",
    "lc_zonal_stats"
   ]
  },
  {
   "cell_type": "code",
   "execution_count": null,
   "metadata": {
    "ExecuteTime": {
     "end_time": "2023-06-20T13:02:53.583738156Z",
     "start_time": "2023-06-20T13:02:51.897942922Z"
    }
   },
   "outputs": [],
   "source": [
    "# Write to lc_road_cells\n",
    "lc_road_cells[\"population_sampled_10\"] = [zs_cell[\"sum\"] for zs_cell in lc_zonal_stats]\n",
    "# pop density in people per square meter\n",
    "lc_road_cells[\"pop_density_sampled_10\"] = lc_road_cells[\"population_sampled_10\"] / \\\n",
    "                                          lc_road_cells[\"geometry\"].area\n",
    "# Plot with colormap\n",
    "lc_road_cells.explore(column=\"pop_density_sampled_10\")"
   ]
  },
  {
   "cell_type": "markdown",
   "metadata": {},
   "source": [
    "Here we also see cells with a population density of 0. This is the case on Barron Island\n",
    "in the Mississippi River, as it should, or industrial areas. For especially small\n",
    "cells, the uncertainty introduced by the raster is higher in comparison to the absolute\n",
    "population. This effect might be visible here, when specifically looking at the\n",
    "cells, but when dissolving the cells into Superblocks, the effect will compensate itself."
   ]
  },
  {
   "cell_type": "markdown",
   "metadata": {},
   "source": [
    "## Polygonized Raster Data\n",
    "\n",
    "For this approach first, we need to polygonize the raster data. For that, `rasterio`\n",
    "has the `features.shapes` function.\n",
    "\n",
    "Then we will use a :class:`shapely.STRtree` to intersect the road cells with\n",
    "the polygons. The :class:`shapely.STRtree` is a spatial index, which can be used to\n",
    "efficiently query the intersection of two geometries. From the tesselation we will\n",
    "build up the spatial index and query the intersection of the road cells with the\n",
    "polygons. This way we will distribute the population of the raster to the road cells,\n",
    "weighted by the intersecting fraction."
   ]
  },
  {
   "cell_type": "code",
   "execution_count": null,
   "metadata": {
    "ExecuteTime": {
     "end_time": "2023-06-20T13:02:54.167462735Z",
     "start_time": "2023-06-20T13:02:53.581434571Z"
    }
   },
   "outputs": [],
   "source": [
    "# raster, no upsample\n",
    "lc_ghsl_unsampled, lc_affine_unsampled = resample_load_window(file=lc_ghsl,\n",
    "                                                              window=lc_road_cells)\n",
    "# convert to float32\n",
    "lc_ghsl_unsampled = lc_ghsl_unsampled.astype(np.float32)"
   ]
  },
  {
   "cell_type": "code",
   "execution_count": null,
   "metadata": {
    "ExecuteTime": {
     "end_time": "2023-06-20T13:02:55.751504333Z",
     "start_time": "2023-06-20T13:02:54.171048405Z"
    }
   },
   "outputs": [],
   "source": [
    "lc_shapes = [\n",
    "    {'population': pop, 'geometry': shp}\n",
    "    for _, (shp, pop) in enumerate(shapes(lc_ghsl_unsampled,\n",
    "                                          transform=lc_affine_unsampled))\n",
    "    if pop > 0\n",
    "]\n",
    "lc_ghsl_polygons = gpd.GeoDataFrame(\n",
    "    geometry=[shape(geom[\"geometry\"]) for geom in lc_shapes],\n",
    "    data=[geom[\"population\"] for geom in lc_shapes],\n",
    "    columns=[\"population\"],\n",
    "    crs=\"World Mollweide\"\n",
    ")\n",
    "lc_ghsl_polygons.explore(column=\"population\", vmax=260)"
   ]
  },
  {
   "cell_type": "markdown",
   "metadata": {},
   "source": [
    "One cell has a population of over 500 people; this is why we set the cutoff to 260.\n",
    "Looking at the cell on a map, a number this high is implausible. For our analysis, we\n",
    "could provide a sanity-check, where one can set a cutoff. But other than that, this is\n",
    "a problem of the GHS-POP data. In general, the data quality of the GHS-POP dataset is\n",
    "very high and well suited for our evaluation, in spite of this outlier.\n",
    "\n",
    "Let us build up the spatial index of the tesselation."
   ]
  },
  {
   "cell_type": "code",
   "execution_count": null,
   "metadata": {
    "ExecuteTime": {
     "end_time": "2023-06-20T11:49:53.633980379Z",
     "start_time": "2023-06-20T11:49:53.564390278Z"
    }
   },
   "outputs": [],
   "source": [
    "lc_road_cells_sindex = STRtree(lc_road_cells.geometry)"
   ]
  },
  {
   "cell_type": "code",
   "execution_count": null,
   "metadata": {
    "ExecuteTime": {
     "end_time": "2023-06-20T13:03:43.709837280Z",
     "start_time": "2023-06-20T13:03:43.646972026Z"
    }
   },
   "outputs": [],
   "source": [
    "def population_fraction(ghsl_polygon, population, road_cell):\n",
    "    intersection = road_cell.intersection(ghsl_polygon)\n",
    "    return population * intersection.area / ghsl_polygon.area"
   ]
  },
  {
   "cell_type": "code",
   "execution_count": null,
   "metadata": {
    "ExecuteTime": {
     "end_time": "2023-06-20T11:23:38.322138265Z",
     "start_time": "2023-06-20T11:23:29.573655987Z"
    }
   },
   "outputs": [],
   "source": [
    "# Distributing the population over the road cells\n",
    "# initialize population column\n",
    "lc_road_cells[\"population_polygons\"] = 0\n",
    "# Query all geometries at once lc_road_cells_sindex.query(lc_ghsl_polygons[\"geometry\"])\n",
    "lc_road_cells_loc_pop = lc_road_cells.columns.get_loc(\"population_polygons\")\n",
    "for pop_cell_idx, road_cell_idx in lc_road_cells_sindex.query(\n",
    "        lc_ghsl_polygons[\"geometry\"]).T:\n",
    "    lc_road_cells.iat[road_cell_idx, lc_road_cells_loc_pop] += population_fraction(\n",
    "        lc_ghsl_polygons.iloc[pop_cell_idx][\"geometry\"],\n",
    "        lc_ghsl_polygons.iloc[pop_cell_idx][\"population\"],\n",
    "        lc_road_cells.iloc[road_cell_idx][\"geometry\"]\n",
    "    )"
   ]
  },
  {
   "cell_type": "code",
   "execution_count": null,
   "metadata": {
    "ExecuteTime": {
     "end_time": "2023-06-20T11:32:40.114775948Z",
     "start_time": "2023-06-20T11:32:34.741123979Z"
    }
   },
   "outputs": [],
   "source": [
    "from tqdm import tqdm\n",
    "\n",
    "# Write a version of the function where batches of 200 polygons are queried at once\n",
    "# to have less overhead - loading bar with tqdm\n",
    "lc_road_cells[\"population_polygons\"] = 0\n",
    "for n_batch in tqdm(\n",
    "        range(0, np.ceil(len(lc_road_cells) / 200).astype(int)),\n",
    "        desc=\"Distributing population over road cells\",\n",
    "        total=len(lc_road_cells) // 200 + 1,\n",
    "        unit=\"Cells\",\n",
    "        unit_scale=200,\n",
    "        unit_divisor=200,\n",
    "):\n",
    "    for pop_cell_idx, road_cell_idx in lc_road_cells_sindex.query(\n",
    "            lc_ghsl_polygons.iloc[n_batch * 200:(n_batch + 1) * 200][\"geometry\"],\n",
    "            predicate=\"intersects\").T:\n",
    "        lc_road_cells.iat[\n",
    "            road_cell_idx, lc_road_cells_loc_pop] += population_fraction(\n",
    "            lc_ghsl_polygons.iloc[pop_cell_idx + n_batch * 200][\"geometry\"],\n",
    "            lc_ghsl_polygons.iloc[pop_cell_idx + n_batch * 200][\"population\"],\n",
    "            lc_road_cells.iloc[road_cell_idx][\"geometry\"]\n",
    "        )\n"
   ]
  },
  {
   "cell_type": "code",
   "execution_count": null,
   "metadata": {
    "ExecuteTime": {
     "end_time": "2023-06-20T13:02:55.850433264Z",
     "start_time": "2023-06-20T13:02:55.750398266Z"
    }
   },
   "outputs": [],
   "source": [
    "# Indexing the population grid\n",
    "lc_ghsl_polygons_sindex = STRtree(lc_ghsl_polygons.geometry)"
   ]
  },
  {
   "cell_type": "code",
   "execution_count": null,
   "metadata": {
    "ExecuteTime": {
     "end_time": "2023-06-20T11:30:21.143876185Z",
     "start_time": "2023-06-20T11:30:12.681451281Z"
    }
   },
   "outputs": [],
   "source": [
    "# Distributing the road cells over the population grid\n",
    "# initialize population column\n",
    "lc_road_cells[\"population_polygons\"] = 0\n",
    "# Query all geometries at once\n",
    "lc_road_cells_loc_pop = lc_road_cells.columns.get_loc(\"population_polygons\")\n",
    "for road_cell_idx, pop_cell_idx in lc_ghsl_polygons_sindex.query(\n",
    "        lc_road_cells[\"geometry\"]).T:\n",
    "    lc_road_cells.iat[\n",
    "        road_cell_idx, lc_road_cells_loc_pop] += population_fraction(\n",
    "        lc_ghsl_polygons.iloc[pop_cell_idx][\"geometry\"],\n",
    "        lc_ghsl_polygons.iloc[pop_cell_idx][\"population\"],\n",
    "        lc_road_cells.iloc[road_cell_idx][\"geometry\"]\n",
    "    )"
   ]
  },
  {
   "cell_type": "code",
   "execution_count": null,
   "metadata": {
    "ExecuteTime": {
     "end_time": "2023-06-20T11:32:46.598130224Z",
     "start_time": "2023-06-20T11:32:40.118999398Z"
    }
   },
   "outputs": [],
   "source": [
    "# Write a version of the function where batches of 200 polygons are queried at once\n",
    "# to have less overhead - loading bar with tqdm\n",
    "lc_road_cells[\"population_polygons\"] = 0\n",
    "for n_batch in tqdm(\n",
    "        range(0, np.ceil(len(lc_ghsl_polygons) / 200).astype(int)),\n",
    "        desc=\"Distributing population over road cells\",\n",
    "        total=len(lc_ghsl_polygons) // 200 + 1,\n",
    "        unit=\"Cells\",\n",
    "        unit_scale=200,\n",
    "        unit_divisor=200,\n",
    "):\n",
    "    for road_cell_idx, pop_cell_idx in lc_ghsl_polygons_sindex.query(\n",
    "            lc_road_cells.iloc[n_batch * 200:(n_batch + 1) * 200][\"geometry\"],\n",
    "            predicate=\"intersects\").T:\n",
    "        lc_road_cells.iat[\n",
    "            road_cell_idx + n_batch * 200, lc_road_cells_loc_pop] += population_fraction(\n",
    "            lc_ghsl_polygons.iloc[pop_cell_idx][\"geometry\"],\n",
    "            lc_ghsl_polygons.iloc[pop_cell_idx][\"population\"],\n",
    "            lc_road_cells.iloc[road_cell_idx + n_batch * 200][\"geometry\"]\n",
    "        )\n"
   ]
  },
  {
   "cell_type": "code",
   "execution_count": null,
   "metadata": {
    "ExecuteTime": {
     "end_time": "2023-06-20T13:03:57.482332962Z",
     "start_time": "2023-06-20T13:03:57.477457521Z"
    }
   },
   "outputs": [],
   "source": [
    "# Split up road cells into batches\n",
    "def population_fraction_list(ghsl_polygons, ghsl_populations,\n",
    "                             overlap_index_pairs, road_cell_geometries):\n",
    "    \"\"\"Function returns population count for each road cell in road_cell_geometries\"\"\"\n",
    "    population = np.zeros(len(road_cell_geometries))\n",
    "    for road_cell_idx, pop_cell_idx in overlap_index_pairs:\n",
    "        population[road_cell_idx] += population_fraction(\n",
    "            ghsl_polygons[pop_cell_idx],\n",
    "            ghsl_populations[pop_cell_idx],\n",
    "            road_cell_geometries[road_cell_idx]\n",
    "        )\n",
    "    return population"
   ]
  },
  {
   "cell_type": "code",
   "execution_count": null,
   "metadata": {
    "ExecuteTime": {
     "end_time": "2023-06-20T11:54:07.392560894Z",
     "start_time": "2023-06-20T11:54:05.009847438Z"
    }
   },
   "outputs": [],
   "source": [
    "batch_size = 200\n",
    "lc_road_cells[\"population_polygons\"] = 0\n",
    "for n_batch in tqdm(\n",
    "        range(0, np.ceil(len(lc_ghsl_polygons) / batch_size).astype(int)),\n",
    "        desc=\"Distributing population over road cells\",\n",
    "        total=len(lc_ghsl_polygons) // batch_size + 1,\n",
    "        unit=\"Cells\",\n",
    "        unit_scale=batch_size,\n",
    "        unit_divisor=batch_size,\n",
    "):\n",
    "    # index slice for the cells - for the last batch, the slice can be shorter\n",
    "    cell_slice = slice(n_batch * batch_size, min((n_batch + 1) * batch_size,\n",
    "                                                 len(lc_road_cells)))\n",
    "    lc_road_cells.loc[\n",
    "        lc_road_cells.index[\n",
    "            cell_slice], \"population_polygons\"] = population_fraction_list(\n",
    "        lc_ghsl_polygons[\"geometry\"],\n",
    "        lc_ghsl_polygons[\"population\"],\n",
    "        lc_ghsl_polygons_sindex.query(\n",
    "            lc_road_cells.iloc[cell_slice][\"geometry\"],\n",
    "            predicate=\"intersects\").T,\n",
    "        lc_road_cells.iloc[cell_slice][\"geometry\"],\n",
    "    )"
   ]
  },
  {
   "cell_type": "code",
   "execution_count": null,
   "metadata": {
    "ExecuteTime": {
     "end_time": "2023-06-20T13:14:58.926830027Z",
     "start_time": "2023-06-20T13:14:58.888310718Z"
    }
   },
   "outputs": [],
   "source": [
    "def _population_fraction_list(ghsl_polygons, ghsl_populations, lc_ghsl_polygons_sindex, road_cell_geometries, slice_n):\n",
    "    return slice_n, population_fraction_list(\n",
    "        ghsl_polygons,\n",
    "        ghsl_populations,\n",
    "        lc_ghsl_polygons_sindex.query(\n",
    "                        road_cell_geometries[slice_n],\n",
    "                        predicate=\"intersects\").T,\n",
    "        road_cell_geometries[slice_n],\n",
    "    )"
   ]
  },
  {
   "cell_type": "code",
   "execution_count": null,
   "metadata": {
    "ExecuteTime": {
     "end_time": "2023-06-20T13:28:53.992264043Z",
     "start_time": "2023-06-20T13:28:52.693364016Z"
    }
   },
   "outputs": [],
   "source": [
    "# Now the same but with multiple workers\n",
    "from multiprocessing import Pool, cpu_count\n",
    "from functools import partial\n",
    "\n",
    "batch_size = 1000\n",
    "print(f\"Batch size: {batch_size}\")\n",
    "lc_road_cells[\"population_polygons\"] = 0\n",
    "with Pool() as pool:\n",
    "    slices = (\n",
    "        slice(n_batch * batch_size, min((n_batch + 1) * batch_size, len(lc_road_cells)))\n",
    "        for n_batch in range(0, np.ceil(len(lc_ghsl_polygons) / batch_size).astype(int))\n",
    "    )\n",
    "\n",
    "    population_sums = list(\n",
    "        tqdm(\n",
    "            pool.imap_unordered(\n",
    "                partial(_population_fraction_list,\n",
    "                        lc_ghsl_polygons[\"geometry\"].values,\n",
    "                        lc_ghsl_polygons[\"population\"].values,\n",
    "                        lc_ghsl_polygons_sindex,\n",
    "                        lc_road_cells[\"geometry\"].values,\n",
    "                        ),\n",
    "                slices,\n",
    "            ),\n",
    "            desc=\"Distributing population over road cells\",\n",
    "            total=len(lc_ghsl_polygons) // batch_size + 1,\n",
    "            unit=\"Cells\",\n",
    "            unit_scale=batch_size,\n",
    "            unit_divisor=batch_size,\n",
    "        )\n",
    "    )\n",
    "\n",
    "    # write the results to the dataframe\n",
    "    for _, (cell_slice, population) in enumerate(population_sums):\n",
    "        lc_road_cells.loc[\n",
    "            lc_road_cells.index[\n",
    "                cell_slice], \"population_polygons\"] = population\n"
   ]
  },
  {
   "cell_type": "code",
   "execution_count": null,
   "metadata": {
    "ExecuteTime": {
     "end_time": "2023-06-20T13:15:06.512574145Z",
     "start_time": "2023-06-20T13:15:06.497260053Z"
    }
   },
   "outputs": [],
   "source": [
    "lc_road_cells[\"population_polygons\"]"
   ]
  },
  {
   "cell_type": "code",
   "execution_count": null,
   "metadata": {
    "ExecuteTime": {
     "end_time": "2023-06-20T13:15:11.709653700Z",
     "start_time": "2023-06-20T13:15:09.424498481Z"
    }
   },
   "outputs": [],
   "source": [
    "# pop density in people per square meter\n",
    "lc_road_cells[\"pop_density_polygons\"] = lc_road_cells[\"population_polygons\"] / \\\n",
    "                                        lc_road_cells[\"geometry\"].area\n",
    "# Plot with colormap\n",
    "lc_road_cells.explore(column=\"pop_density_polygons\")"
   ]
  },
  {
   "cell_type": "markdown",
   "metadata": {},
   "source": [
    "## Uncertainty Estimation\n",
    "\n",
    "The GHSL datasheet does not give an explicit error estimation for the population\n",
    "values. However, it gives expected errors of the new GHS-BUILT-S R2023A release at\n",
    "10m for the various area types, see Table 6 in the report[^1]. For the urban and\n",
    "built up areas the RMSE (root mean square error) is $0.296$ and the MAPE (mean\n",
    "absolute percentage error) is $0.218$. Because the population data is inferred from\n",
    "this data, we can assume the error is of the same magnitude. As the used GHS-POP data\n",
    " we use has a lower resolution, we estimate the error for our 100m x 100m cells is\n",
    "lower. For each population cell, we estimate the uncertainty by a symmetric triangle\n",
    "distribution of the width $p\\cdot \\mathrm{MAPE}_\\mathrm{urban}$, where $p$ is the\n",
    "population of each raster cell. From this we get a standard deviation of $u(p) =\n",
    "\\frac{p\\cdot \\mathrm{MAPE}_\\mathrm{urban}}{\\sqrt{6}}$ [^2].\n",
    "\n",
    "For Poland and Portugal case studies Calka and Bielecka estimate MAPEs from 1.0% to\n",
    "5.71% for the 250m resolution of th 2019 data[^3], while Kuffer et al. stress that\n",
    "overestimation in low-density or sparsely populated outskirts of cities can be even\n",
    "bigger. Underestimation can happen for high-density residential areas. Crucial is\n",
    "also, there is no one accepted standard for the uncertainty estimation of population\n",
    "data [^4]. This means while our population estimates are not perfect, we can expect\n",
    "them to show differences between the Superblock estimates.\n",
    "\n",
    "In our calculation, we do not need a separate numerical uncertainty estimate, as the\n",
    "mathematical operations we do are only additive and multiplicative. For the cell area\n",
    "we do not add an uncertainty. Due to this choice, the final uncertainty estimate of\n",
    "each Superblocks aggregated population density has a standard deviation\n",
    "$u(\\rho_\\mathrm{Superblock}) = \\sqrt{\\sum_{i=1}^N \\left(\\frac{u(p_i)}{A_i}\\right)^2} =\n",
    "\\frac{\\rho_\\mathrm{Superblock}\\cdot \\mathrm{MAPE}_\\mathrm{urban}}{\\sqrt{6}}$, where $N$ is\n",
    "the number of cells in the Superblock and $A_i$ is the area of the $i$-th cell.\n",
    "\n",
    "[^1]: Schiavina, M., Freire, S. & MacManus, K. GHS-POP R2023A - GHS population grid\n",
    "multitemporal (1975-2030). (2023)\n",
    "[doi:10.2905/2FF68A52-5B5B-4A22-8F40-C41DA8332CFE](https://doi.org/10.2905/2FF68A52-5B5B-4A22-8F40-C41DA8332CFE).\n",
    "\n",
    "[^2]: Kotz, S. & Van Dorp, J. R. The Triangular Distribution. in Beyond Beta: Other\n",
    "Continuous Families of Distributions with Bounded Support and Applications 1–32\n",
    "(WORLD SCIENTIFIC, 2004). [doi:10.1142/9789812701282_0001](https://doi.org/10.1142/9789812701282_0001).\n",
    "\n",
    "[^3]: Calka, B. & Bielecka, E. GHS-POP Accuracy Assessment: Poland and Portugal Case\n",
    "Study. Remote Sensing 12, 1105 (2020).\n",
    "\n",
    "[^4]: Kuffer, M., Owusu, M., Oliveira, L., Sliuzas, R. & van Rijn, F. The Missing\n",
    "Millions in Maps: Exploring Causes of Uncertainties in Global Gridded Population\n",
    "Datasets. ISPRS International Journal of Geo-Information 11, 403 (2022).\n",
    "\n"
   ]
  },
  {
   "cell_type": "markdown",
   "metadata": {},
   "source": [
    "## Comparison with the Superblock population density\n",
    "\n",
    "To compare the two approaches, we will show the population densities in a scatter\n",
    "plot. We will calculate a fit with uncertainties to see the correlation\n",
    "between the two approaches. The expected result is a linear correlation with a\n",
    "slope of 1 if both approaches return the same population density. This is why we will\n",
    "use a linear fit. The fitting procedure will be a ODR (orthogonal distance\n",
    "regression) fit, as it is more robust than a simple linear regression and can\n",
    "handle uncertainties in both variables."
   ]
  },
  {
   "cell_type": "code",
   "execution_count": null,
   "metadata": {
    "ExecuteTime": {
     "end_time": "2023-06-18T12:41:44.428613303Z",
     "start_time": "2023-06-18T12:41:37.208607012Z"
    }
   },
   "outputs": [],
   "source": [
    "# ODR fit y= B[0] * x + B[1]\n",
    "model_linear = Model(lambda B, x: B[0] * x + B[1])\n",
    "mask = (lc_road_cells[\"pop_density_polygons\"] > 0\n",
    "        ) & (lc_road_cells[\"pop_density_sampled_10\"] > 0)\n",
    "data = RealData(lc_road_cells[\"pop_density_polygons\"][mask],\n",
    "                lc_road_cells[\"pop_density_sampled_10\"][mask],\n",
    "                sx=lc_road_cells[\"pop_density_polygons\"][mask] * 0.218 * 6 ** 0.5,\n",
    "                sy=lc_road_cells[\"pop_density_sampled_10\"][mask] * 0.218 * 6 ** 0.5)\n",
    "odr_linear = ODR(data, model_linear, beta0=[1, 0])\n",
    "output_linear = odr_linear.run()\n",
    "# Plot the results\n",
    "fig, ax = plt.subplots(figsize=(8, 6))\n",
    "errorbars = ax.errorbar(x=data.x, y=data.y, xerr=data.sx, yerr=data.sy,\n",
    "            marker=\"\", capsize=3, alpha=0.3, linestyle=\"\")\n",
    "x_fit = np.logspace(-6, -1, 200)\n",
    "# nominal fit\n",
    "ax.plot(x_fit, output_linear.beta[0] * x_fit + output_linear.beta[1],\n",
    "        label=r\"Linear Fit $\\rho_\\mathrm{sampled} = \"\n",
    "              f\"( {output_linear.beta[0]:.2f} \\pm {output_linear.sd_beta[0]:.2f} ) \"\n",
    "              r\"\\cdot \\rho_\\mathrm{polygons} + \"\n",
    "              f\"( {1e7 * output_linear.beta[1]:.2f} \\pm \"\n",
    "              f\"{1e7 * output_linear.sd_beta[1]:.2f} ) \\cdot 10^7$\",\n",
    "        color=\"black\")\n",
    "# Uncertainty fit +-2 sigma\n",
    "ax.plot(x_fit, (output_linear.beta[0] + 2 * output_linear.sd_beta[0]) * x_fit +\n",
    "        (output_linear.beta[1] + 2 * output_linear.sd_beta[1]),\n",
    "        color=\"black\", linestyle=\"--\")\n",
    "ax.plot(x_fit, (output_linear.beta[0] - 2 * output_linear.sd_beta[0]) * x_fit +\n",
    "        (output_linear.beta[1] - 2 * output_linear.sd_beta[1]),\n",
    "        color=\"black\", linestyle=\"--\", label=\"95% Confidence Interval\")\n",
    "# Settings\n",
    "ax.set_xscale(\"log\")\n",
    "ax.set_yscale(\"log\")\n",
    "ax.set_xlabel(r\"Weighted Intersections $\\rho_\\mathrm{polygons}$ (people/m$^2$)\")\n",
    "ax.set_ylabel(r\"Raster Stats $\\rho_\\mathrm{sampled}$ (people/m$^2$)\")\n",
    "ax.set_title(\"Comparison of Population Density (10m up-sampled)\")\n",
    "ax.legend()\n",
    "ax.grid()\n",
    "# rasterize errorbars\n",
    "for artist in errorbars.get_children():\n",
    "    artist.set_rasterized(True)\n",
    "fig.savefig(\"../../data/plots/odr_population_density_approaches_10-upsample.pdf\",\n",
    "            bbox_inches=\"tight\")\n",
    "# plt.show()"
   ]
  },
  {
   "cell_type": "markdown",
   "metadata": {},
   "source": [
    "This shows both approaches are well proportional to each other. The 95% confidence\n",
    "interval looks narrow, while the scattered datapoints seem to have a large spread,\n",
    "but as there are many overlaying datapoints, the thin confidence interval reliably\n",
    "points out the proportionality. As the slope is a little above 1, we know the raster\n",
    "stats approach produces a slightly higher population densities.\n",
    "When we look at the comparison when not up-sampling, we see greater overestimation."
   ]
  },
  {
   "cell_type": "code",
   "execution_count": null,
   "metadata": {
    "ExecuteTime": {
     "end_time": "2023-06-18T12:42:29.928425975Z",
     "start_time": "2023-06-18T12:42:17.993535446Z"
    }
   },
   "outputs": [],
   "source": [
    "# Sample approach not upsampled\n",
    "lc_road_cells[\"population_unsampled\"] = [zs_cell[\"sum\"] for zs_cell in\n",
    "                                          zonal_stats(lc_road_cells, lc_ghsl_unsampled,\n",
    "                             affine=lc_affine_unsampled,\n",
    "                             stats=[\"sum\"], nodata=0, all_touched=False)\n",
    "                                          ]\n",
    "# pop density in people per square meter\n",
    "lc_road_cells[\"pop_density_unsampled\"] = lc_road_cells[\"population_unsampled\"] / \\\n",
    "                                          lc_road_cells[\"geometry\"].area\n",
    "# ODR fit y= B[0] * x + B[1]\n",
    "model_linear = Model(lambda B, x: B[0] * x + B[1])\n",
    "mask = (lc_road_cells[\"pop_density_polygons\"] > 0\n",
    "        ) & (lc_road_cells[\"pop_density_unsampled\"] > 0)\n",
    "data = RealData(lc_road_cells[\"pop_density_polygons\"][mask],\n",
    "                lc_road_cells[\"pop_density_unsampled\"][mask],\n",
    "                sx=lc_road_cells[\"pop_density_polygons\"][mask] * 0.218 * 6 ** 0.5,\n",
    "                sy=lc_road_cells[\"pop_density_unsampled\"][mask] * 0.218 * 6 ** 0.5)\n",
    "odr_linear = ODR(data, model_linear, beta0=[1, 0])\n",
    "output_linear = odr_linear.run()\n",
    "# Plot the results\n",
    "fig, ax = plt.subplots(figsize=(8, 6))\n",
    "errorbars = ax.errorbar(x=data.x, y=data.y, xerr=data.sx, yerr=data.sy,\n",
    "            marker=\"\", capsize=3, alpha=0.3, linestyle=\"\")\n",
    "x_fit = np.logspace(-6, -1, 200)\n",
    "# nominal fit\n",
    "ax.plot(x_fit, output_linear.beta[0] * x_fit + output_linear.beta[1],\n",
    "        label=r\"Linear Fit $\\rho_\\mathrm{sampled} = \"\n",
    "              f\"( {output_linear.beta[0]:.2f} \\pm {output_linear.sd_beta[0]:.2f} ) \"\n",
    "              r\"\\cdot \\rho_\\mathrm{polygons} + \"\n",
    "              f\"( {1e7 * output_linear.beta[1]:.2f} \\pm \"\n",
    "              f\"{1e7 * output_linear.sd_beta[1]:.2f} ) \\cdot 10^7$\",\n",
    "        color=\"black\")\n",
    "# Uncertainty fit +-2 sigma\n",
    "ax.plot(x_fit, (output_linear.beta[0] + 2 * output_linear.sd_beta[0]) * x_fit +\n",
    "        (output_linear.beta[1] + 2 * output_linear.sd_beta[1]),\n",
    "        color=\"black\", linestyle=\"--\")\n",
    "ax.plot(x_fit, (output_linear.beta[0] - 2 * output_linear.sd_beta[0]) * x_fit +\n",
    "        (output_linear.beta[1] - 2 * output_linear.sd_beta[1]),\n",
    "        color=\"black\", linestyle=\"--\", label=\"95% Confidence Interval\")\n",
    "# Settings\n",
    "ax.set_xscale(\"log\")\n",
    "ax.set_yscale(\"log\")\n",
    "ax.set_xlabel(r\"Weighted Intersections $\\rho_\\mathrm{polygons}$ (people/m$^2$)\")\n",
    "ax.set_ylabel(r\"Raster Stats $\\rho_\\mathrm{sampled}$ (people/m$^2$)\")\n",
    "ax.set_title(\"Comparison of Population Density (no up-sampling)\")\n",
    "ax.legend()\n",
    "ax.grid()\n",
    "# rasterize errorbars\n",
    "for artist in errorbars.get_children():\n",
    "    artist.set_rasterized(True)\n",
    "fig.savefig(\"../../data/plots/odr_population_density_approaches_no-upsample.pdf\",\n",
    "            bbox_inches=\"tight\")\n",
    "# plt.show()"
   ]
  },
  {
   "cell_type": "code",
   "execution_count": null,
   "metadata": {
    "ExecuteTime": {
     "end_time": "2023-06-18T12:43:05.766383760Z",
     "start_time": "2023-06-18T12:43:04.661989793Z"
    }
   },
   "outputs": [],
   "source": [
    "# Relative difference between the two approaches\n",
    "lc_road_cells[\"pop_density_diff_samp\"] = (lc_road_cells[\"pop_density_polygons\"] /\n",
    "                                          lc_road_cells[\"pop_density_sampled_10\"]) - 1\n",
    "lc_road_cells[\"pop_density_diff_poly\"] = (lc_road_cells[\"pop_density_sampled_10\"] /\n",
    "                                          lc_road_cells[\"pop_density_polygons\"]) - 1\n",
    "# Plot scatter pop density difference vs. pop density\n",
    "fig, ax = plt.subplots(figsize=(8, 6))\n",
    "ax.scatter(lc_road_cells[\"pop_density_sampled_10\"],\n",
    "           lc_road_cells[\"pop_density_diff_samp\"], marker=\".\", alpha=0.3, color=\"C0\",\n",
    "           label=r\"Base = Sampled\")\n",
    "ax.scatter(lc_road_cells[\"pop_density_polygons\"],\n",
    "           lc_road_cells[\"pop_density_diff_poly\"], marker=\".\", alpha=0.3, color=\"C1\",\n",
    "           label=r\"Base = Polygons\")\n",
    "ax.set_xscale(\"log\")\n",
    "# y symlog, starting from 0.01\n",
    "ax.set_yscale(\"symlog\", linthresh=0.01)\n",
    "ax.set_xlabel(r\"Population Density $\\rho_\\mathrm{base}$ [people per $\\mathrm{m}^2$]\")\n",
    "ax.set_ylabel(r\"Relative Difference\")\n",
    "ax.set_title(\"Relative Difference of Population Density\")\n",
    "ax.grid()\n",
    "ax.legend()\n",
    "plt.show()"
   ]
  },
  {
   "cell_type": "markdown",
   "metadata": {},
   "source": [
    "This plot shows the relative difference between the two approaches.\n",
    "We see the second approach, weighing the population by the intersecting fraction,\n",
    "does never underestimate the raster-based approach by less than 1% (cut-off at $-10^{0}$).\n",
    "The average relative difference is around $\\pm 2 \\times 10^{-1} \\approx \\pm 0\n",
    ".2\\%$. For smaller population densities, the relative difference is larger, but\n",
    "the absolute difference is smaller. Again, this effect might be visible for single\n",
    "cells, but when dissolving the cells into Superblocks, the effect will compensate itself."
   ]
  },
  {
   "cell_type": "code",
   "execution_count": null,
   "metadata": {
    "ExecuteTime": {
     "end_time": "2023-06-18T12:43:21.360497315Z",
     "start_time": "2023-06-18T12:43:20.011251399Z"
    }
   },
   "outputs": [],
   "source": [
    "# Distribution of the densities, next to each other\n",
    "fig, ax = plt.subplots(figsize=(8, 6))\n",
    "ax.hist(lc_road_cells[\"pop_density_sampled_10\"], bins=100, alpha=0.5, color=\"C0\",\n",
    "        label=r\"Base = Sampled\")\n",
    "ax.hist(lc_road_cells[\"pop_density_polygons\"], bins=100, alpha=0.5, color=\"C1\",\n",
    "        label=r\"Base = Polygons\")\n",
    "# ax.set_xscale(\"log\")\n",
    "ax.set_yscale(\"log\")\n",
    "ax.set_xlabel(r\"Population Density $\\rho$ [people per $\\mathrm{m}^2$]\")\n",
    "ax.set_ylabel(r\"Number of Cells\")\n",
    "ax.set_title(\"Distribution of Population Density\")\n",
    "ax.grid()\n",
    "ax.legend()\n",
    "plt.show()"
   ]
  },
  {
   "cell_type": "markdown",
   "metadata": {},
   "source": [
    "We will settle for the second approach, as it is a cleaner approach, not needing\n",
    "the data up-sampling. This can be useful for large cities.\n",
    "\n",
    "## Implementation Usage\n",
    "\n",
    "The package has the function `add_edge_population` which adds the edge attributes\n",
    "`population`, `area` and `cell_id` to the edges of a graph. Furthermore, there is the\n",
    "function `get_population_area` which you can pass a graph to summarize the population\n",
    "and area, respecting the edges with the same geometry. Cells with the same geometry\n",
    "share the same cell, `cell_id` is used to identify the cells. The function returns\n",
    "a tuple of the population and area. As for many different Superblock configurations we want\n",
    "to calculate the population density, `add_edge_population` is called when loading the\n",
    "graph the first time, so this preprocessing step is only done once.\n",
    "\n",
    "To demonstrate the implemented functions we will use a new place. This time the 11th\n",
    "District in Kandahar, Afghanistan. The District is called یولسمه ناحیه.\n",
    "Kandahar is the second largest city in Afghanistan after Kabul[^5].\n",
    "\n",
    "[^5]: Wikipedia contributors, \"Kandahar,\" Wikipedia, The Free Encyclopedia,\n",
    "https://en.wikipedia.org/w/index.php?title=Kandahar&oldid=1159334105 (accessed June\n",
    "18, 2023)."
   ]
  },
  {
   "cell_type": "code",
   "execution_count": null,
   "metadata": {
    "ExecuteTime": {
     "end_time": "2023-06-20T13:35:34.820500827Z",
     "start_time": "2023-06-20T13:35:33.008410768Z"
    }
   },
   "outputs": [],
   "source": [
    "kd_graph = ox.graph_from_place(\"11th District, Kandahar, Kandahar Province, \"\n",
    "                               \"Afghanistan\", network_type=\"drive\")\n",
    "kd_graph = ox.project_graph(kd_graph)"
   ]
  },
  {
   "cell_type": "code",
   "execution_count": null,
   "metadata": {
    "ExecuteTime": {
     "end_time": "2023-06-20T13:35:49.675142628Z",
     "start_time": "2023-06-20T13:35:34.809910983Z"
    }
   },
   "outputs": [],
   "source": [
    "# Add population to the edges\n",
    "add_edge_population(kd_graph)\n",
    "# Make up subgraph to calculate the population for\n",
    "kd_subgraph = ego_graph(kd_graph, list(kd_graph.nodes())[0], radius=15, undirected=True)\n",
    "# Get population and area\n",
    "get_population_area(kd_subgraph)  # returns population (people) and area (m^2)"
   ]
  },
  {
   "cell_type": "markdown",
   "metadata": {},
   "source": [
    "To visualize this, we could plot it using the edges, but as the other plots were also\n",
    "with edge cells, let's add them."
   ]
  },
  {
   "cell_type": "code",
   "execution_count": null,
   "metadata": {
    "ExecuteTime": {
     "end_time": "2023-06-20T13:36:39.511430861Z",
     "start_time": "2023-06-20T13:36:27.771695380Z"
    }
   },
   "outputs": [],
   "source": [
    "add_edge_cells(kd_graph)"
   ]
  },
  {
   "cell_type": "code",
   "execution_count": null,
   "metadata": {
    "ExecuteTime": {
     "end_time": "2023-06-20T13:36:43.466165497Z",
     "start_time": "2023-06-20T13:36:39.531218948Z"
    }
   },
   "outputs": [],
   "source": [
    "kd_edges = ox.graph_to_gdfs(kd_graph, nodes=False, edges=True)\n",
    "kd_subgraph_edges = ox.graph_to_gdfs(kd_subgraph, nodes=False, edges=True)\n",
    "# Add cell geometry to the subgraph edges\n",
    "kd_subgraph_edges[\"cell_geometry\"] = kd_subgraph_edges.apply(\n",
    "    lambda x: kd_edges.loc[x.name, \"cell\"], axis=1)\n",
    "kd_edges.set_geometry(\"cell\", inplace=True)\n",
    "kd_subgraph_edges.set_geometry(\"cell_geometry\", inplace=True)\n",
    "axe = kd_edges.plot(figsize=(8, 8), column=\"population\", legend=True,\n",
    "                         cmap=\"viridis\", alpha=0.6, edgecolor=\"white\")\n",
    "kd_subgraph_edges.dissolve().plot(ax=axe, color=\"none\", edgecolor=\"blue\",\n",
    "                                  linewidth=2)\n",
    "plt.show()"
   ]
  },
  {
   "cell_type": "code",
   "execution_count": null,
   "metadata": {},
   "outputs": [],
   "source": []
  }
 ],
 "metadata": {
  "kernelspec": {
   "display_name": "sb_env",
   "language": "python",
   "name": "sb_env"
  },
  "language_info": {
   "codemirror_mode": {
    "name": "ipython",
    "version": 3
   },
   "file_extension": ".py",
   "mimetype": "text/x-python",
   "name": "python",
   "nbconvert_exporter": "python",
   "pygments_lexer": "ipython3",
   "version": "3.12.3"
  }
 },
 "nbformat": 4,
 "nbformat_minor": 4
}
