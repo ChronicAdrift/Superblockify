{
 "cells": [
  {
   "attachments": {
    "8a415f1d-cfcf-4c3e-9078-13167177082e.png": {
     "image/png": "[encoded data removed]"
    }
   },
   "cell_type": "markdown",
   "metadata": {},
   "source": [
    "![superblockify_logo.png](attachment:8a415f1d-cfcf-4c3e-9078-13167177082e.png)"
   ]
  },
  {
   "cell_type": "markdown",
   "metadata": {},
   "source": [
    "More info: [superblockify.city](https://superblockify.city)"
   ]
  },
  {
   "cell_type": "markdown",
   "metadata": {},
   "source": [
    "# Superblock boundary\n",
    "\n",
    "This notebook illustrates an example for determining the boundary polygon of a Superblock."
   ]
  },
  {
   "cell_type": "code",
   "execution_count": null,
   "metadata": {
    "ExecuteTime": {
     "end_time": "2023-06-21T06:51:11.073727050Z",
     "start_time": "2023-06-21T06:50:24.748792764Z"
    }
   },
   "outputs": [],
   "source": [
    "from datetime import datetime\n",
    "\n",
    "import geopandas as gpd\n",
    "import matplotlib.pyplot as plt\n",
    "import osmnx as ox\n",
    "import shapely as shp\n",
    "\n",
    "import superblockify as sb\n",
    "from superblockify.config import logger, Config"
   ]
  },
  {
   "cell_type": "code",
   "execution_count": null,
   "metadata": {
    "ExecuteTime": {
     "end_time": "2023-06-19T06:07:46.297372144Z",
     "start_time": "2023-06-19T06:07:46.288387323Z"
    }
   },
   "outputs": [],
   "source": [
    "Config.PLACES_SMALL"
   ]
  },
  {
   "cell_type": "code",
   "execution_count": null,
   "metadata": {
    "ExecuteTime": {
     "end_time": "2023-06-19T06:08:03.896382934Z",
     "start_time": "2023-06-19T06:07:46.296993093Z"
    }
   },
   "outputs": [],
   "source": [
    "# CITY_NAME, SEARCH_STR = Config.PLACES_GENERAL[2]\n",
    "CITY_NAME, SEARCH_STR = Config.PLACES_SMALL[2]\n",
    "# CITY_NAME, SEARCH_STR = Config.PLACES_100_CITIES[1]\n",
    "\n",
    "logger.info(\n",
    "    \"Running partitioner for %s with search string %s.\", CITY_NAME, SEARCH_STR\n",
    ")\n",
    "\n",
    "part = sb.ResidentialPartitioner(\n",
    "    name=CITY_NAME + \"_main\", city_name=CITY_NAME, search_str=SEARCH_STR\n",
    ")\n",
    "\n",
    "part.run(calculate_metrics=False, make_plots=True)"
   ]
  },
  {
   "cell_type": "markdown",
   "metadata": {},
   "source": [
    "## Buffer subgraphs - concave border"
   ]
  },
  {
   "cell_type": "code",
   "execution_count": null,
   "metadata": {
    "ExecuteTime": {
     "end_time": "2023-06-19T06:08:05.121575832Z",
     "start_time": "2023-06-19T06:08:03.896000865Z"
    }
   },
   "outputs": [],
   "source": [
    "subgraph = part.partitions[6][\"subgraph\"]\n",
    "subgraph_edges = ox.graph_to_gdfs(subgraph, nodes=False, edges=True)\n",
    "subgraph_edges.explore(style_kwds={\"weight\": 4})"
   ]
  },
  {
   "cell_type": "code",
   "execution_count": null,
   "metadata": {
    "ExecuteTime": {
     "end_time": "2023-06-19T06:08:05.289810554Z",
     "start_time": "2023-06-19T06:08:05.121982968Z"
    }
   },
   "outputs": [],
   "source": [
    "# From subgraph_edges we want to get a hull that encloses all edges\n",
    "convex_hull = subgraph_edges.union_all().convex_hull\n",
    "# Make gdf from convex hull with the same crs as the subgraph\n",
    "convex_hull_gdf = gpd.GeoDataFrame(\n",
    "    geometry=[convex_hull], crs=subgraph_edges.crs\n",
    ")\n",
    "# plot both gdfs together\n",
    "ax = subgraph_edges.plot()\n",
    "convex_hull_gdf.plot(ax=ax, color=\"lightgray\")\n",
    "plt.axis(\"off\")\n",
    "plt.show()"
   ]
  },
  {
   "cell_type": "code",
   "execution_count": null,
   "metadata": {
    "ExecuteTime": {
     "end_time": "2023-06-19T06:08:05.539692945Z",
     "start_time": "2023-06-19T06:08:05.291903630Z"
    }
   },
   "outputs": [],
   "source": [
    "subgraph_edges.boundary.plot()"
   ]
  },
  {
   "cell_type": "code",
   "execution_count": null,
   "metadata": {
    "ExecuteTime": {
     "end_time": "2023-06-19T06:08:05.584687737Z",
     "start_time": "2023-06-19T06:08:05.536992398Z"
    }
   },
   "outputs": [],
   "source": [
    "# Shapely MultiLineString geometry\n",
    "subgraph_edges.explode().union_all().boundary\n"
   ]
  },
  {
   "cell_type": "code",
   "execution_count": null,
   "metadata": {
    "ExecuteTime": {
     "end_time": "2023-06-19T06:08:05.709422732Z",
     "start_time": "2023-06-19T06:08:05.572647148Z"
    }
   },
   "outputs": [],
   "source": [
    "# Concave hull of the edges\n",
    "shp.concave_hull(\n",
    "    subgraph_edges.union_all(),\n",
    "    ratio=0.4,\n",
    "    allow_holes=True,\n",
    ")"
   ]
  },
  {
   "cell_type": "code",
   "execution_count": null,
   "metadata": {
    "ExecuteTime": {
     "end_time": "2023-06-19T06:08:05.712153532Z",
     "start_time": "2023-06-19T06:08:05.659458748Z"
    }
   },
   "outputs": [],
   "source": [
    "def plot_concave_hull(ax, subgraph_edges, ratio=0.4, allow_holes=False,\n",
    "                      color=\"crimson\"):\n",
    "    concave_hull = shp.concave_hull(\n",
    "        subgraph_edges.union_all(),\n",
    "        ratio=ratio,\n",
    "        allow_holes=allow_holes,\n",
    "    )\n",
    "    # Make gdf from convex hull with the same crs as the subgraph\n",
    "    convex_hull_gdf = gpd.GeoDataFrame(\n",
    "        geometry=[concave_hull], crs=subgraph_edges.crs\n",
    "    )\n",
    "    # plot both gdfs together\n",
    "    convex_hull_gdf.plot(ax=ax, color=color)"
   ]
  },
  {
   "cell_type": "code",
   "execution_count": null,
   "metadata": {
    "ExecuteTime": {
     "end_time": "2023-06-19T08:00:18.446761671Z",
     "start_time": "2023-06-19T08:00:10.257933182Z"
    }
   },
   "outputs": [],
   "source": [
    "from numpy import linspace\n",
    "\n",
    "# Figure different ratios\n",
    "fig = plt.figure(layout=\"constrained\", figsize=(10, 8))\n",
    "subfigs = fig.subfigures(2, 1, hspace=0.07, height_ratios=[2., 1.])\n",
    "# Overlaying\n",
    "axs0 = subfigs[0].subplots(1, 1)\n",
    "for ratio in linspace(1, 1 / 10, 10):\n",
    "    color = plt.cm.coolwarm(ratio)\n",
    "    plot_concave_hull(axs0, subgraph_edges, ratio=ratio, color=color)\n",
    "subgraph_edges.plot(ax=axs0, color=\"black\", linewidth=3)\n",
    "axs0.set_axis_off()\n",
    "colorbar = plt.cm.ScalarMappable(cmap=plt.cm.coolwarm,\n",
    "                                 norm=plt.Normalize(vmin=1, vmax=0.1))\n",
    "# vertically oriented colorbar with title Ratio of Alpha Shape\n",
    "cbar = fig.colorbar(colorbar, ax=axs0, orientation=\"vertical\", shrink=0.8)\n",
    "cbar.set_label(\"Ratio of Alpha Shape\", rotation=270, labelpad=20)\n",
    "cbar.ax.get_yaxis().labelpad = 20\n",
    "\n",
    "# Side by side\n",
    "axs1 = subfigs[1].subplots(1, 7)\n",
    "for i, ratio in enumerate(linspace(1, 1 / 10, 7)):\n",
    "    color = plt.cm.coolwarm(ratio)\n",
    "    plot_concave_hull(axs1[i], subgraph_edges, ratio=ratio, color=color)\n",
    "    subgraph_edges.plot(ax=axs1[i], color=\"black\", linewidth=3)\n",
    "    axs1[i].set_axis_off()\n",
    "\n",
    "plt.show()"
   ]
  },
  {
   "cell_type": "code",
   "execution_count": null,
   "metadata": {
    "ExecuteTime": {
     "end_time": "2023-06-12T09:00:51.227608668Z",
     "start_time": "2023-06-12T09:00:51.222719764Z"
    }
   },
   "outputs": [],
   "source": [
    "# Make multilinestring from the edges\n",
    "subgraph_edges_multilinestring = shp.MultiLineString(subgraph_edges.geometry.values)\n",
    "subgraph_edges_multilinestring.convex_hull"
   ]
  },
  {
   "cell_type": "code",
   "execution_count": null,
   "metadata": {
    "ExecuteTime": {
     "end_time": "2023-06-12T09:00:52.195801136Z",
     "start_time": "2023-06-12T09:00:51.227918654Z"
    }
   },
   "outputs": [],
   "source": [
    "def border_from_subgraph(subgraph, buffer=2):\n",
    "    edges = ox.graph_to_gdfs(subgraph, nodes=False, edges=True)\n",
    "    return edges.union_all().buffer(buffer, cap_style='flat').buffer(-buffer / 2)"
   ]
  },
  {
   "cell_type": "code",
   "execution_count": null,
   "metadata": {
    "ExecuteTime": {
     "end_time": "2023-06-12T09:00:54.657643873Z",
     "start_time": "2023-06-12T09:00:52.197303285Z"
    }
   },
   "outputs": [],
   "source": [
    "gpd.GeoDataFrame(\n",
    "    geometry=[border_from_subgraph(p[\"subgraph\"]) for p in part.partitions],\n",
    "    crs=part.partitions[0][\"subgraph\"].graph[\"crs\"]\n",
    ").explore()"
   ]
  },
  {
   "cell_type": "code",
   "execution_count": null,
   "metadata": {
    "ExecuteTime": {
     "end_time": "2023-06-12T09:00:56.716681898Z",
     "start_time": "2023-06-12T09:00:54.657878380Z"
    }
   },
   "outputs": [],
   "source": [
    "# Now the same, but color every partition differently\n",
    "fig, ax = plt.subplots(figsize=(10, 10))\n",
    "for i, p in enumerate(part.partitions):\n",
    "    border = border_from_subgraph(p[\"subgraph\"])\n",
    "    gpd.GeoDataFrame(\n",
    "        geometry=[border],\n",
    "        crs=p[\"subgraph\"].graph[\"crs\"]\n",
    "    ).plot(ax=ax, color=f\"C{i}\")\n",
    "    ax.set_title(\"Borders of the partitions\")\n",
    "\n",
    "plt.show()"
   ]
  },
  {
   "cell_type": "code",
   "execution_count": null,
   "metadata": {
    "ExecuteTime": {
     "end_time": "2023-06-19T08:01:17.841242792Z",
     "start_time": "2023-06-19T08:01:16.284265039Z"
    }
   },
   "outputs": [],
   "source": [
    "def border_from_subgraph_shrinked(subgraph, buffer=1):\n",
    "    \"\"\"Shrinked subgraph borders, to avoid overlap between partitions.\n",
    "    Does work well with small buffer values.\"\"\"\n",
    "    edges = ox.graph_to_gdfs(subgraph, nodes=False, edges=True)\n",
    "    # First buffer with flat cap style to avoid self-intersections\n",
    "    polygon = shp.Polygon(edges.union_all().buffer(2 * buffer, cap_style='flat')\n",
    "                          .exterior)\n",
    "    # Simplify the polygon to remove small artifacts of flat cap style at curved edges\n",
    "    # polygon = polygon.simplify(buffer*2, preserve_topology=True)\n",
    "    # Here the simple Ramer–Douglas–Peucker algorithm does not suffice our needs,\n",
    "    # because the result does not inherently enclose the original polygon.\n",
    "    # geos::simplify::PolygonHullSimplifier would do the job.\n",
    "    # It got added in GEOS 3.11, but no python package has any bindings, yet.\n",
    "    # https://libgeos.org/doxygen/classgeos_1_1simplify_1_1PolygonHullSimplifier.html\n",
    "    # http://lin-ear-th-inking.blogspot.com/2022/04/outer-and-inner-concave-polygon-hulls.html\n",
    "    # http://lin-ear-th-inking.blogspot.com/2022/05/using-outer-hulls-for-smoothing.html\n",
    "    # Also low-res smoothing could be a solution - taking all midpoints and buffering\n",
    "    # slightly\n",
    "\n",
    "    # Second erode the polygon to avoid overlap between partitions\n",
    "    return polygon.buffer(-buffer, cap_style='round')\n",
    "\n",
    "\n",
    "border_from_subgraph_shrinked(part.partitions[6][\"subgraph\"], buffer=1)"
   ]
  },
  {
   "cell_type": "code",
   "execution_count": null,
   "metadata": {
    "ExecuteTime": {
     "end_time": "2023-06-12T09:00:56.804279432Z",
     "start_time": "2023-06-12T09:00:56.735380607Z"
    }
   },
   "outputs": [],
   "source": [
    "def border_from_subgraph_smoothed(subgraph, buffer=10):\n",
    "    \"\"\"Smoothed subgraph borders, to avoid overlap between partitions.\n",
    "    Works better with larger buffer values.\"\"\"\n",
    "    edges = ox.graph_to_gdfs(subgraph, nodes=False, edges=True)\n",
    "    # First buffer with flat cap style to avoid self-intersections\n",
    "    lin_ring = edges.union_all().buffer(buffer, cap_style='flat').exterior\n",
    "    # Smoothen the linear ring, taking the midpoints of the edges\n",
    "    lin_ring = shp.LinearRing(\n",
    "        [shp.Point((x1 + x2) / 2, (y1 + y2) / 2) for (x1, y1), (x2, y2) in zip(\n",
    "            lin_ring.coords[:-1], lin_ring.coords[1:]\n",
    "        )]\n",
    "    )\n",
    "    # Second erode the polygon to avoid overlap between partitions\n",
    "    return shp.Polygon(lin_ring).buffer(-buffer / 10, cap_style='round')\n",
    "\n",
    "\n",
    "border_from_subgraph_smoothed(part.partitions[6][\"subgraph\"], buffer=10)"
   ]
  },
  {
   "cell_type": "markdown",
   "metadata": {},
   "source": [
    "## Morphological tessellation\n",
    "\n",
    "Use borders of partitions with smaller (but positive) buffer to generate\n",
    "morphological tessellation (MT). The difference to the usual usage is that we use the\n",
    "borders instead of building footprints.\n",
    "\n",
    "See Momepy\n",
    "[Morphological tessellation](http://docs.momepy.org/en/stable/user_guide/elements/tessellation.html#Morphological-tessellation)."
   ]
  },
  {
   "cell_type": "code",
   "execution_count": null,
   "metadata": {
    "ExecuteTime": {
     "end_time": "2023-06-19T08:01:34.404311361Z",
     "start_time": "2023-06-19T08:01:29.537724760Z"
    }
   },
   "outputs": [],
   "source": [
    "import momepy as mm"
   ]
  },
  {
   "cell_type": "code",
   "execution_count": null,
   "metadata": {
    "ExecuteTime": {
     "end_time": "2023-06-19T08:01:35.439104913Z",
     "start_time": "2023-06-19T08:01:34.415326064Z"
    }
   },
   "outputs": [],
   "source": [
    "# Add borders to the partitions\n",
    "borders = gpd.GeoDataFrame(\n",
    "    geometry=[border_from_subgraph_shrinked(p[\"subgraph\"], buffer=1) for p in part\n",
    "    .partitions],\n",
    "    crs=part.partitions[0][\"subgraph\"].graph[\"crs\"],\n",
    "    data=[p[\"name\"] for p in part.partitions],\n",
    "    columns=[\"partition_id\"]\n",
    ")\n",
    "# # We do not want overlap between the partitions, so we\n",
    "# borders = borders.dissolve(by=\"partition_id\")\n",
    "# gpd.GeoDataFrame(geometry=borders.geometry, crs=borders.crs).explore(column=\"partition_id\")"
   ]
  },
  {
   "cell_type": "code",
   "execution_count": null,
   "metadata": {
    "ExecuteTime": {
     "end_time": "2023-06-19T08:01:35.450584968Z",
     "start_time": "2023-06-19T08:01:35.441071687Z"
    }
   },
   "outputs": [],
   "source": [
    "# Get the graphs boundary polygon\n",
    "part.graph.graph[\"boundary\"]"
   ]
  },
  {
   "cell_type": "markdown",
   "metadata": {},
   "source": [
    "### Morphological tessellation\n",
    "\n",
    "Basically doing Voronoi cells for the whole graph and grouping them by the\n",
    "borders/partitions. Using the whole graph."
   ]
  },
  {
   "cell_type": "code",
   "execution_count": null,
   "metadata": {
    "ExecuteTime": {
     "end_time": "2023-06-19T08:02:15.847812955Z",
     "start_time": "2023-06-19T08:01:35.449284801Z"
    }
   },
   "outputs": [],
   "source": [
    "# Morphological tessellation around given buildings ``gdf`` within set ``limit``.\n",
    "t0 = datetime.now()\n",
    "tessellation = mm.Tessellation(borders, unique_id=\"partition_id\",\n",
    "                               limit=part.graph.graph[\"boundary\"],\n",
    "                               shrink=0.0)\n",
    "time_full_tess = datetime.now() - t0"
   ]
  },
  {
   "cell_type": "code",
   "execution_count": null,
   "metadata": {
    "ExecuteTime": {
     "end_time": "2023-06-19T08:02:21.644476426Z",
     "start_time": "2023-06-19T08:02:20.201311676Z"
    }
   },
   "outputs": [],
   "source": [
    "tessellation_gdf = tessellation.tessellation\n",
    "fig, axe = plt.subplots(figsize=(10, 10))\n",
    "tessellation_gdf.plot(ax=axe, edgecolor=\"white\", column=\"partition_id\", legend=True,\n",
    "                      cmap=\"tab20\")\n",
    "borders.plot(ax=axe, color=\"white\", alpha=0.5, facecolor=\"white\")\n",
    "ox.plot_graph(part.sparsified, ax=axe, node_size=0, edge_color=\"black\",\n",
    "              edge_linewidth=1)\n",
    "axe.set_axis_off()\n",
    "plt.show()"
   ]
  },
  {
   "cell_type": "markdown",
   "metadata": {},
   "source": [
    "### Enclosed tessellation\n",
    "\n",
    "Enclosed tessellation is a special case of morphological tessellation. It is\n",
    "based on the same principle, but it is done for each enclosure separately. Enclosure\n",
    "is a polygonal area enclosed by primary barriers (e.g. roads). Enclosed tessellation\n",
    "is useful for example for analysis of building plots. As the enclosures can be\n",
    "handled separately, this approach is more efficient.\n",
    "In our case we know that the sparsified network functions as barrier for Superblocks, so we\n",
    "create enclosures (polygonize) from it first."
   ]
  },
  {
   "cell_type": "code",
   "execution_count": null,
   "metadata": {
    "ExecuteTime": {
     "end_time": "2023-06-12T09:01:43.445135470Z",
     "start_time": "2023-06-12T09:01:42.931988832Z"
    }
   },
   "outputs": [],
   "source": [
    "# Enclosed tessellation based on given buildings ``gdf`` within ``enclosures``.\n",
    "edges_sparsified = ox.graph_to_gdfs(part.sparsified, nodes=False, edges=True,\n",
    "                                    node_geometry=False)\n",
    "enclosures = mm.enclosures(\n",
    "    primary_barriers=gpd.GeoDataFrame(\n",
    "        geometry=part.graph.graph[\"boundary\"].difference(\n",
    "            gpd.GeoSeries(edges_sparsified.buffer(5)\n",
    "                          .union_all())),\n",
    "        crs=part.graph.graph[\"boundary_crs\"]\n",
    "    ),\n",
    "    limit=  #mm.buffered_limit(borders, 1).convex_hull,\n",
    "    gpd.GeoSeries(\n",
    "        [part.graph.graph[\"boundary\"]],\n",
    "        crs=part.graph.graph[\"boundary_crs\"]\n",
    "    ),\n",
    "    enclosure_id=\"eID\",\n",
    ")\n",
    "enclosures.explore(column=\"eID\")"
   ]
  },
  {
   "cell_type": "markdown",
   "metadata": {},
   "source": [
    "Note the big enclosure around the whole graph. This is because the simplified network\n",
    "does not reach to the boundary of the graph, so it is contained in one. But other\n",
    "polygons are contained inside."
   ]
  },
  {
   "cell_type": "code",
   "execution_count": null,
   "metadata": {
    "ExecuteTime": {
     "end_time": "2023-06-12T09:02:06.372907236Z",
     "start_time": "2023-06-12T09:01:46.722577023Z"
    }
   },
   "outputs": [],
   "source": [
    "t0 = datetime.now()\n",
    "tessellation = mm.Tessellation(borders, unique_id=\"partition_id\",\n",
    "                               enclosures=enclosures, enclosure_id=\"eID\",\n",
    "                               use_dask=False)\n",
    "time_enclosed_tess = datetime.now() - t0"
   ]
  },
  {
   "cell_type": "code",
   "execution_count": null,
   "metadata": {
    "ExecuteTime": {
     "end_time": "2023-06-12T09:02:06.376102132Z",
     "start_time": "2023-06-12T09:02:06.374514749Z"
    }
   },
   "outputs": [],
   "source": [
    "tessellation_gdf = tessellation.tessellation"
   ]
  },
  {
   "cell_type": "code",
   "execution_count": null,
   "metadata": {
    "ExecuteTime": {
     "end_time": "2023-06-12T09:02:07.617502979Z",
     "start_time": "2023-06-12T09:02:06.379085232Z"
    }
   },
   "outputs": [],
   "source": [
    "fig, axe = plt.subplots(figsize=(10, 10))\n",
    "tessellation_gdf.plot(ax=axe, edgecolor=\"white\", column=\"partition_id\", legend=True,\n",
    "                      cmap=\"tab20\")\n",
    "borders.plot(ax=axe, color=\"white\", alpha=0.5, facecolor=\"white\")\n",
    "ox.plot_graph(part.graph, ax=axe, node_size=0, edge_color=\"black\", edge_linewidth=0.5)\n",
    "axe.set_axis_off()\n",
    "plt.show()"
   ]
  },
  {
   "cell_type": "markdown",
   "metadata": {},
   "source": [
    "The enclosed tesselation takes less time, and the tesselation cells are cleaner, for\n",
    "the enclosed areas. The execution times are:"
   ]
  },
  {
   "cell_type": "code",
   "execution_count": null,
   "metadata": {
    "ExecuteTime": {
     "end_time": "2023-06-12T09:02:07.617901894Z",
     "start_time": "2023-06-12T09:02:07.617722849Z"
    }
   },
   "outputs": [],
   "source": [
    "print(f\"Full tessellation: {time_full_tess}\")\n",
    "print(f\"Enclosed tessellation: {time_enclosed_tess}\")\n",
    "print(f\"Enclosed tessellation is {time_full_tess / time_enclosed_tess} times faster.\")"
   ]
  },
  {
   "cell_type": "markdown",
   "metadata": {},
   "source": [
    "For bigger graphs the difference is expected to be larger.\n",
    "\n",
    "## Independent tessellation\n",
    "\n",
    "When looking into the code, `momepy` uses `scipy.spatial.Voronoi` to generate the\n",
    "tessellation for every enclosure. This is done with a dense point array for the\n",
    "geometry boundaries (borders in our case).\n",
    "\n",
    "As we want to calculate area and population for each Partition, we can save time by\n",
    "calculating the Voronoi diagram once for the whole graph/city (to keep it light only\n",
    "for nodes), and save `area` and `population` for each note. Later we can use this data\n",
    "to calculate the area and population for each Partition."
   ]
  },
  {
   "cell_type": "code",
   "execution_count": null,
   "metadata": {
    "ExecuteTime": {
     "end_time": "2023-06-19T08:16:14.822554923Z",
     "start_time": "2023-06-19T08:16:14.489808652Z"
    }
   },
   "outputs": [],
   "source": [
    "import pandas as pd\n",
    "import numpy as np\n",
    "from scipy.spatial import Voronoi, voronoi_plot_2d"
   ]
  },
  {
   "cell_type": "markdown",
   "metadata": {},
   "source": [
    "### Nodes"
   ]
  },
  {
   "cell_type": "code",
   "execution_count": null,
   "metadata": {
    "ExecuteTime": {
     "end_time": "2023-06-12T15:56:45.821809460Z",
     "start_time": "2023-06-12T15:56:45.554733894Z"
    }
   },
   "outputs": [],
   "source": [
    "nodes = ox.graph_to_gdfs(part.graph, nodes=True, edges=False)\n",
    "nodes.explore(column=\"street_count\")"
   ]
  },
  {
   "cell_type": "code",
   "execution_count": null,
   "metadata": {
    "ExecuteTime": {
     "end_time": "2023-06-12T10:03:49.931668714Z",
     "start_time": "2023-06-12T10:03:48.441063819Z"
    }
   },
   "outputs": [],
   "source": [
    "nodes"
   ]
  },
  {
   "cell_type": "code",
   "execution_count": null,
   "metadata": {
    "ExecuteTime": {
     "end_time": "2023-06-12T10:03:50.160340551Z",
     "start_time": "2023-06-12T10:03:49.868922499Z"
    }
   },
   "outputs": [],
   "source": [
    "# get numpy array with x, y coordinates of the nodes\n",
    "node_points = nodes[[\"x\", \"y\"]].to_numpy()\n",
    "node_points"
   ]
  },
  {
   "cell_type": "code",
   "execution_count": null,
   "metadata": {
    "ExecuteTime": {
     "end_time": "2023-06-12T10:03:52.108950039Z",
     "start_time": "2023-06-12T10:03:51.677706362Z"
    }
   },
   "outputs": [],
   "source": [
    "node_voronoi_diagram = Voronoi(node_points)\n",
    "fig = voronoi_plot_2d(node_voronoi_diagram, show_vertices=False, line_colors='orange',\n",
    "                      line_width=2, line_alpha=0.6, point_size=2)\n",
    "plt.show()"
   ]
  },
  {
   "cell_type": "code",
   "execution_count": null,
   "metadata": {
    "ExecuteTime": {
     "end_time": "2023-06-12T10:03:52.113579257Z",
     "start_time": "2023-06-12T10:03:51.927866899Z"
    }
   },
   "outputs": [],
   "source": [
    "# Construct cell polygons for each node\n",
    "node_vertices = pd.Series(node_voronoi_diagram.regions).take(\n",
    "    node_voronoi_diagram.point_region)\n",
    "node_polygons = []\n",
    "for region in node_vertices:\n",
    "    if -1 not in region:\n",
    "        node_polygons.append(\n",
    "            shp.polygons(node_voronoi_diagram.vertices[region]).intersection(\n",
    "                part.graph.graph[\"boundary\"]))\n",
    "    else:\n",
    "        node_polygons.append(None)\n",
    "\n",
    "node_polygons"
   ]
  },
  {
   "cell_type": "code",
   "execution_count": null,
   "metadata": {
    "ExecuteTime": {
     "end_time": "2023-06-12T10:03:54.576867436Z",
     "start_time": "2023-06-12T10:03:52.243134644Z"
    }
   },
   "outputs": [],
   "source": [
    "# Create GeoDataFrame with the polygons\n",
    "node_poly_gdf = gpd.GeoDataFrame(geometry=node_polygons,\n",
    "                                 crs=part.graph.graph[\"boundary_crs\"],\n",
    "                                 index=nodes.index)\n",
    "# get street_count column from nodes\n",
    "node_poly_gdf[\"street_count\"] = nodes[\"street_count\"]\n",
    "# plot with street_count as color with colormap\n",
    "fig, axe = plt.subplots(figsize=(10, 10))\n",
    "node_poly_gdf.plot(column=\"street_count\", ax=axe, legend=True)\n",
    "ox.plot_graph(part.graph, ax=axe, node_size=8, edge_color=\"white\", edge_linewidth=0.5,\n",
    "              node_color=\"white\")\n",
    "# poly_gdf.explore(column=\"street_count\")"
   ]
  },
  {
   "cell_type": "markdown",
   "metadata": {},
   "source": [
    "Now show which partition they would make with the Partitioner `part`."
   ]
  },
  {
   "cell_type": "code",
   "execution_count": null,
   "metadata": {
    "ExecuteTime": {
     "end_time": "2023-06-12T10:03:54.577178782Z",
     "start_time": "2023-06-12T10:03:54.225100153Z"
    }
   },
   "outputs": [],
   "source": [
    "# Add cell polygon to the graph for each node\n",
    "for node in part.graph.nodes:\n",
    "    part.graph.nodes[node][\"cell\"] = node_poly_gdf.loc[node, \"geometry\"]\n",
    "# For each partition create boundary as union of cells\n",
    "for p, p_order in zip(part.partitions, part.get_partition_nodes()):\n",
    "    p[\"boundary\"] = shp.union_all()(\n",
    "        [part.graph.nodes[node][\"cell\"] for node in p_order[\"nodes\"]])"
   ]
  },
  {
   "cell_type": "code",
   "execution_count": null,
   "metadata": {
    "ExecuteTime": {
     "end_time": "2023-06-12T10:03:54.581893837Z",
     "start_time": "2023-06-12T10:03:54.238624514Z"
    }
   },
   "outputs": [],
   "source": [
    "gpd.GeoDataFrame(\n",
    "    geometry=[p[\"boundary\"] for p in part.partitions],\n",
    "    crs=part.graph.graph[\"boundary_crs\"],\n",
    "    data=[p[\"name\"] for p in part.partitions],\n",
    "    columns=[\"partition_id\"]\n",
    ").explore(column=\"partition_id\")"
   ]
  },
  {
   "cell_type": "markdown",
   "metadata": {},
   "source": [
    "These cells are a bit too rough, but we can make them smoother by creating the\n",
    "Voronoi diagram with a dense point array, like the Momepy Tessellation does.\n",
    "\n",
    "### Edges\n",
    "\n",
    "Also, let's depart from the nodes and use the edges instead. This way we also dodge\n",
    "the intricacy that nodes are shared between partitions, edges are not."
   ]
  },
  {
   "cell_type": "code",
   "execution_count": null,
   "metadata": {
    "ExecuteTime": {
     "end_time": "2023-06-19T08:17:34.954763879Z",
     "start_time": "2023-06-19T08:17:33.822114736Z"
    }
   },
   "outputs": [],
   "source": [
    "edges = ox.graph_to_gdfs(part.graph,\n",
    "                         nodes=False,\n",
    "                         edges=True,\n",
    "                         node_geometry=False,\n",
    "                         fill_edge_geometry=True)\n",
    "# `edges` is a pandas dataframe with the multiindex (u, v, key)\n",
    "# Merge two columns, when the geometry of one is equal or the reverse of the other\n",
    "# 1. Group if u==u and v==v or u==v and v==u (match for hashed index (u, v) where u<v)\n",
    "# get flat index of the first match\n",
    "edges[\"edge_id\"] = edges.index.to_flat_index()\n",
    "# sort the edge_id tuples\n",
    "edges[\"node_pair\"] = edges[\"edge_id\"].apply(lambda x: tuple(sorted(x[:2])))\n",
    "# 2. Aggregate if the geometry is equal or the reverse of the other\n",
    "# Merge columns if geometry_1 == geometry_2 or geometry_1 == geometry_2.reverse()\n",
    "# reverse geometry if x_start >= x_end\n",
    "edges[\"geometry\"] = edges[\"geometry\"].apply(\n",
    "    lambda x: x if x.coords[0] < x.coords[-1] else x.reverse())\n",
    "# 3. Group by node_pair and geometry\n",
    "edges = edges.groupby([\"node_pair\", \"geometry\"]).agg({\n",
    "    \"edge_id\": tuple,\n",
    "    \"component_name\": \"first\",\n",
    "}).reset_index()\n",
    "edges.set_index(\"edge_id\", inplace=True)\n",
    "\n",
    "# If length == 0, take the length from the geometry\n",
    "# edges[\"length\"] = edges[\"length\"].where(edges[\"length\"] > 0, edges[\"geometry\"].length)\n",
    "# edges[\"length\"] = edges[\"geometry\"].length\n",
    "\n",
    "# Offset the geometry randomly by 5 meters\n",
    "# edges[\"geometry\"] = edges[\"geometry\"].apply(\n",
    "#     lambda x: shp.affinity.translate(x, xoff=np.random.uniform(-5, 5), yoff=np.random.uniform(-5, 5)))\n",
    "\n",
    "edges = gpd.GeoDataFrame(edges, geometry=\"geometry\", crs=part.graph.graph[\"crs\"])\n",
    "edges.explore()"
   ]
  },
  {
   "cell_type": "markdown",
   "metadata": {},
   "source": [
    "Now we will create an array of points along the edges,"
   ]
  },
  {
   "cell_type": "code",
   "execution_count": null,
   "metadata": {
    "ExecuteTime": {
     "end_time": "2023-06-19T08:20:07.344571335Z",
     "start_time": "2023-06-19T08:20:06.892156Z"
    }
   },
   "outputs": [],
   "source": [
    "distance = 10\n",
    "# The maximum distance between points after discretization.\n",
    "edge_points = []\n",
    "edge_indices = []\n",
    "# iterate over street_id, geometry\n",
    "for idx, geometry in edges[\"geometry\"].items():\n",
    "    if geometry.length < 2 * distance:\n",
    "        # for edges that would result in no point, take the middle\n",
    "        pts = [shp.line_interpolate_point(geometry, 0.5, normalized=True)]\n",
    "    else:\n",
    "        # interpolate points along the line with at least distance between them\n",
    "        # start and end 0.1 from the ends to avoid edge effects\n",
    "        pts = shp.line_interpolate_point(\n",
    "            geometry,\n",
    "            np.linspace(\n",
    "                0.1,\n",
    "                geometry.length - 0.1,\n",
    "                num=int((geometry.length - 0.1) // distance),\n",
    "            ),\n",
    "        )  # offset to keep nodes out\n",
    "    edge_points.append(shp.get_coordinates(pts))\n",
    "    # Append multiindices for this geometry\n",
    "    edge_indices += [idx] * len(pts)\n",
    "\n",
    "points = np.vstack(edge_points)\n",
    "\n",
    "points"
   ]
  },
  {
   "cell_type": "code",
   "execution_count": null,
   "metadata": {
    "ExecuteTime": {
     "end_time": "2023-06-12T19:10:43.292752846Z",
     "start_time": "2023-06-12T19:10:41.379538877Z"
    }
   },
   "outputs": [],
   "source": [
    "gpd.GeoDataFrame(geometry=[shp.Point(p) for p in points],\n",
    "                 crs=part.graph.graph[\"crs\"]).plot(markersize=0.5)"
   ]
  },
  {
   "cell_type": "markdown",
   "metadata": {},
   "source": [
    "Now we know for each point, which edge it belongs to. We can use this to calculate the\n",
    "Voronoi diagram.\n",
    "\n",
    "Before we continue, let's also introduce a hull around the points, so that the outer\n",
    "edge cells are not infinite or too large. As a hull we can use the boundary polygon\n",
    "of the graph from OSM, as used in the node approach, or a buffered union of the edge\n",
    "geometries. Then we can also split up the hull into points and add them to the points\n",
    "array."
   ]
  },
  {
   "cell_type": "code",
   "execution_count": null,
   "metadata": {
    "ExecuteTime": {
     "end_time": "2023-06-19T08:22:55.107136148Z",
     "start_time": "2023-06-19T08:22:48.628016656Z"
    }
   },
   "outputs": [],
   "source": [
    "# get hull from the graph boundary\n",
    "# hull = part.graph.graph[\"boundary\"]\n",
    "hull = shp.Polygon(edges.union_all().buffer(100).exterior)\n",
    "hull"
   ]
  },
  {
   "cell_type": "code",
   "execution_count": null,
   "metadata": {
    "ExecuteTime": {
     "end_time": "2023-06-19T08:22:55.107913787Z",
     "start_time": "2023-06-19T08:22:55.106653379Z"
    }
   },
   "outputs": [],
   "source": [
    "# interpolate points along the hull - double the distance\n",
    "hull_points = shp.line_interpolate_point(\n",
    "    hull.boundary,\n",
    "    np.linspace(0.1, hull.length - 0.1, num=int(hull.length // (2 * distance))),\n",
    ")\n",
    "# add hull points to the points array\n",
    "points = np.vstack([points, shp.get_coordinates(hull_points)])\n",
    "# add edge indices to the edge_indices array\n",
    "edge_indices += [-1] * len(hull_points)"
   ]
  },
  {
   "cell_type": "code",
   "execution_count": null,
   "metadata": {
    "ExecuteTime": {
     "end_time": "2023-06-19T08:22:55.108501388Z",
     "start_time": "2023-06-19T08:22:55.107659993Z"
    }
   },
   "outputs": [],
   "source": [
    "edge_voronoi_diagram = Voronoi(points)"
   ]
  },
  {
   "cell_type": "code",
   "execution_count": null,
   "metadata": {
    "ExecuteTime": {
     "end_time": "2023-06-19T08:22:58.217828374Z",
     "start_time": "2023-06-19T08:22:55.108235689Z"
    }
   },
   "outputs": [],
   "source": [
    "from matplotlib.patches import Rectangle, ConnectionPatch\n",
    "\n",
    "# Plot with inset axes\n",
    "fig, axe = plt.subplots(figsize=(10, 10))\n",
    "zoom_window = (587000, 587500, 5772000, 5772500)\n",
    "\n",
    "edges.plot(ax=axe, color=\"black\", linewidth=0.5)\n",
    "voronoi_plot_2d(edge_voronoi_diagram, ax=axe, show_vertices=False, line_colors='orange',\n",
    "                line_width=1, line_alpha=0.6, point_size=2)\n",
    "axe.set_title(\"Voronoi diagram of dense edge points\")\n",
    "# Create inset axes\n",
    "axins = axe.inset_axes([0.6, 0.01, 0.45, 0.45])\n",
    "edges.plot(ax=axins, color=\"black\", linewidth=2)\n",
    "voronoi_plot_2d(edge_voronoi_diagram, ax=axins, show_vertices=False,\n",
    "                line_colors='orange',\n",
    "                line_width=2, line_alpha=0.6, point_size=4)\n",
    "axins.set_xlim(*zoom_window[:2])\n",
    "axins.set_ylim(*zoom_window[2:])\n",
    "axins.set_xticks([])\n",
    "axins.set_yticks([])\n",
    "# Indicate zoom window\n",
    "rect = Rectangle((zoom_window[0], zoom_window[2]), zoom_window[1] - zoom_window[0],\n",
    "                 zoom_window[3] - zoom_window[2], linewidth=1, edgecolor='r',\n",
    "                 facecolor='none', zorder=10)\n",
    "axe.add_patch(rect)\n",
    "# Connect zoom window to inset\n",
    "axe.add_artist(\n",
    "    ConnectionPatch(xyA=(zoom_window[0], zoom_window[2]),\n",
    "                    xyB=(zoom_window[0], zoom_window[2]),\n",
    "                    coordsA=\"data\", coordsB=\"data\", axesA=axe, axesB=axins,\n",
    "                    linewidth=1, zorder=10))\n",
    "axe.add_artist(\n",
    "    ConnectionPatch(xyA=(zoom_window[1], zoom_window[3]),\n",
    "                    xyB=(zoom_window[1], zoom_window[3]),\n",
    "                    coordsA=\"data\", coordsB=\"data\", axesA=axe, axesB=axins,\n",
    "                    linewidth=1, zorder=10))\n",
    "plt.show()"
   ]
  },
  {
   "cell_type": "markdown",
   "metadata": {},
   "source": [
    "Let's see how the cells look like for the Partitioner `part`."
   ]
  },
  {
   "cell_type": "code",
   "execution_count": null,
   "metadata": {
    "ExecuteTime": {
     "end_time": "2023-06-19T08:24:50.391692220Z",
     "start_time": "2023-06-19T08:24:48.339615199Z"
    }
   },
   "outputs": [],
   "source": [
    "# Construct cell polygons for each of the dense points\n",
    "point_vertices = pd.Series(edge_voronoi_diagram.regions).take(\n",
    "    edge_voronoi_diagram.point_region)\n",
    "point_polygons = []\n",
    "for region in point_vertices:\n",
    "    if -1 not in region:\n",
    "        point_polygons.append(\n",
    "            shp.polygons(edge_voronoi_diagram.vertices[region]))\n",
    "    else:\n",
    "        point_polygons.append(None)\n",
    "\n",
    "# Create GeoDataFrame with cells and index\n",
    "edge_poly_gdf = gpd.GeoDataFrame(\n",
    "    geometry=point_polygons,\n",
    "    index=edge_indices,\n",
    "    crs=part.graph.graph[\"boundary_crs\"],\n",
    ")\n",
    "# Drop cells that are outside the boundary\n",
    "edge_poly_gdf = edge_poly_gdf.loc[edge_poly_gdf.index != -1]\n",
    "# Dissolve cells by index\n",
    "edge_poly_gdf = edge_poly_gdf.dissolve(by=edge_poly_gdf.index)\n",
    "# delete index_str\n",
    "edge_poly_gdf"
   ]
  },
  {
   "cell_type": "code",
   "execution_count": null,
   "metadata": {
    "ExecuteTime": {
     "end_time": "2023-06-19T08:24:50.392135552Z",
     "start_time": "2023-06-19T08:24:50.248247846Z"
    }
   },
   "outputs": [],
   "source": [
    "edges"
   ]
  },
  {
   "cell_type": "code",
   "execution_count": null,
   "metadata": {
    "ExecuteTime": {
     "end_time": "2023-06-19T08:30:12.812339511Z",
     "start_time": "2023-06-19T08:30:10.574978865Z"
    }
   },
   "outputs": [],
   "source": [
    "# bearing_90, component_name, residential, length\n",
    "edge_poly_gdf[\"component_name\"] = edges.loc[edge_poly_gdf.index, \"component_name\"]\n",
    "# Set NaNs to \"sparse\"\n",
    "edge_poly_gdf[\"component_name\"] = edge_poly_gdf[\"component_name\"].fillna(\"sparse\")\n",
    "# Plot with color by edge label\n",
    "fig, axe = plt.subplots(figsize=(10, 10))\n",
    "edge_poly_gdf.plot(column=\"component_name\", ax=axe, legend=True, cmap=\"tab20\")\n",
    "ox.plot_graph(part.graph, ax=axe, node_size=8, edge_color=\"black\", edge_linewidth=0.5,\n",
    "              node_color=\"black\")"
   ]
  },
  {
   "cell_type": "code",
   "execution_count": null,
   "metadata": {
    "ExecuteTime": {
     "end_time": "2023-06-19T08:24:53.350940093Z",
     "start_time": "2023-06-19T08:24:51.595685239Z"
    }
   },
   "outputs": [],
   "source": [
    "edge_poly_gdf.explore(column=\"component_name\", cmap=\"tab20\")"
   ]
  },
  {
   "cell_type": "markdown",
   "metadata": {},
   "source": [
    "Much better!"
   ]
  },
  {
   "cell_type": "code",
   "execution_count": null,
   "metadata": {
    "ExecuteTime": {
     "end_time": "2023-06-12T19:11:54.439017503Z",
     "start_time": "2023-06-12T19:11:53.484144552Z"
    }
   },
   "outputs": [],
   "source": [
    "# Interactive explore map with unions of partitions\n",
    "edge_poly_gdf.dissolve(by=\"component_name\", as_index=False).explore(\n",
    "    column=\"component_name\", cmap=\"tab20\")"
   ]
  },
  {
   "cell_type": "code",
   "execution_count": null,
   "metadata": {
    "ExecuteTime": {
     "end_time": "2023-06-12T19:12:08.512736139Z",
     "start_time": "2023-06-12T19:12:08.255596534Z"
    }
   },
   "outputs": [],
   "source": [
    "edges"
   ]
  },
  {
   "cell_type": "code",
   "execution_count": null,
   "metadata": {
    "ExecuteTime": {
     "end_time": "2023-06-12T19:13:39.899662290Z",
     "start_time": "2023-06-12T19:13:39.818562319Z"
    }
   },
   "outputs": [],
   "source": [
    "# Write edge attribute to graph\n",
    "for edge_keys, polygon in edge_poly_gdf.geometry.items():\n",
    "    for edge_key in edge_keys:\n",
    "        part.graph.edges[edge_key][\"cell\"] = polygon"
   ]
  },
  {
   "cell_type": "markdown",
   "metadata": {},
   "source": [
    "### Implementation\n",
    "\n",
    "For this we implemented the `add_edge_cells` method to the `population` submodule."
   ]
  },
  {
   "cell_type": "markdown",
   "metadata": {},
   "source": [
    "Get some bigger graph from OSM."
   ]
  },
  {
   "cell_type": "code",
   "execution_count": null,
   "metadata": {
    "ExecuteTime": {
     "end_time": "2023-06-21T06:51:34.569999218Z",
     "start_time": "2023-06-21T06:51:11.074256643Z"
    }
   },
   "outputs": [],
   "source": [
    "ky_graph = ox.graph_from_place(\"Kyiv, Ukraine\", network_type=\"drive\")\n",
    "# graph = ox.graph_from_place(\"Scheveningen, The Hague, Netherlands\", network_type=\"drive\")\n",
    "ky_graph = ox.project_graph(ky_graph)"
   ]
  },
  {
   "cell_type": "code",
   "execution_count": null,
   "metadata": {
    "ExecuteTime": {
     "end_time": "2023-06-21T06:53:27.319030945Z",
     "start_time": "2023-06-21T06:51:34.600041511Z"
    }
   },
   "outputs": [],
   "source": [
    "sb.add_edge_cells(ky_graph, show_plot=True)"
   ]
  },
  {
   "cell_type": "code",
   "execution_count": null,
   "metadata": {
    "ExecuteTime": {
     "end_time": "2023-06-21T06:54:17.653043469Z",
     "start_time": "2023-06-21T06:53:57.528079845Z"
    }
   },
   "outputs": [],
   "source": [
    "# Get polygons from edges and plot\n",
    "edge_poly_gdf = gpd.GeoDataFrame(\n",
    "    geometry=[data[\"cell\"] for _, _, data in ky_graph.edges(data=True)],\n",
    "    crs=ky_graph.graph[\"crs\"],\n",
    "    index=ky_graph.edges(),\n",
    "    columns=[\"geometry\"],\n",
    ")\n",
    "fig, axe = plt.subplots(figsize=(10, 10))\n",
    "edge_poly_gdf.plot(ax=axe, color=\"orange\", alpha=0.5, edgecolor=\"black\", linewidth=0.5)\n",
    "ox.plot_graph(ky_graph, ax=axe, node_size=0, edge_color=\"black\", edge_linewidth=0.5,\n",
    "              node_color=\"black\")\n",
    "# edge_poly_gdf.explore()"
   ]
  }
 ],
 "metadata": {
  "kernelspec": {
   "display_name": "sb_env",
   "language": "python",
   "name": "sb_env"
  },
  "language_info": {
   "codemirror_mode": {
    "name": "ipython",
    "version": 3
   },
   "file_extension": ".py",
   "mimetype": "text/x-python",
   "name": "python",
   "nbconvert_exporter": "python",
   "pygments_lexer": "ipython3",
   "version": "3.12.3"
  }
 },
 "nbformat": 4,
 "nbformat_minor": 4
}
