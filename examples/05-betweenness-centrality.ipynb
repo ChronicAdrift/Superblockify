{
 "cells": [
  {
   "attachments": {
    "8a415f1d-cfcf-4c3e-9078-13167177082e.png": {
     "image/png": "[encoded data removed]"
    }
   },
   "cell_type": "markdown",
   "metadata": {},
   "source": [
    "![superblockify_logo.png](attachment:8a415f1d-cfcf-4c3e-9078-13167177082e.png)"
   ]
  },
  {
   "cell_type": "markdown",
   "metadata": {},
   "source": [
    "More info: [superblockify.city](https://superblockify.city)"
   ]
  },
  {
   "cell_type": "markdown",
   "metadata": {},
   "source": [
    "# Betweenness centrality\n",
    "\n",
    "This notebook calculate betweenness centrality of a street network, to be used in partitioning approaches and for evaluation of nodes and edges. Because we need to respect the\n",
    "[Partition Requirements](./partition_requirements), we need to calculate\n",
    "betweenness centrality in a special way, using the shortest paths we calculated in\n",
    "[Restricted Distance Calculation](./dist_calc_restricted).\n",
    "We will show this conceptually using pair-wise dependencies, as shown by Brandes (2001),\n",
    "and modified from {external+networkx:mod}`networkx.algorithms.centrality.betweenness`.\n",
    "\n",
    "### Pair-Wise Dependencies\n",
    "\"... the cubic number of pair-wise dependencies\n",
    "$\\delta(s, t \\mid v)=\\sigma(s, t \\mid v) / \\sigma(s, t)$\n",
    "can be aggregated without computing all of the explicitly.\"\n",
    "\n",
    "One-sided dependencies:\n",
    "$\\delta(s \\mid v)=\\sum_{t \\in V} \\delta(s, t \\mid v)$\n",
    "\n",
    "(see [Brandes, 2008](https://doi.org/10.1016/j.socnet.2007.11.001))\n",
    "\n",
    "We can span up trees for each row in the predecessor matrix, symbolizing the\n",
    "shortest paths from the source node to all other nodes. Starting from the leafs,\n",
    "we can accumulate the dependencies of each node on its parent, going up the tree.\n",
    "This way, we can accumulate the dependencies of all nodes (and edges!) on the way.\n",
    "\n",
    "First we will modify the implementation of brandes algorithm in networkx pointedly,\n",
    "to see the concept in action. Then, we will simplify it to our needs. Lastly we\n",
    "compare the performance.\n",
    "\n",
    "## Modified implementation\n",
    "\n",
    "Special part: Replace single-source shortest-path step discovery with\n",
    "given predecessor and distance matrices to stipulate the shortest paths.\n",
    "Finding them again would be redundant and costly, also we prescribe the filtered paths."
   ]
  },
  {
   "cell_type": "code",
   "execution_count": null,
   "metadata": {
    "ExecuteTime": {
     "end_time": "2024-04-18T09:45:20.590663Z",
     "start_time": "2024-04-18T09:45:20.581492Z"
    }
   },
   "outputs": [],
   "source": [
    "import matplotlib.pyplot as plt\n",
    "import networkx as nx\n",
    "import numpy as np\n",
    "import pandas as pd\n",
    "from networkx.algorithms.centrality.betweenness import \\\n",
    "    _single_source_dijkstra_path_basic, \\\n",
    "    _rescale, _rescale_e\n",
    "from scipy.sparse.csgraph import dijkstra\n",
    "\n",
    "from superblockify.metrics.distances import shortest_paths_restricted"
   ]
  },
  {
   "cell_type": "markdown",
   "metadata": {
    "collapsed": false,
    "jupyter": {
     "outputs_hidden": false
    }
   },
   "source": [
    "Let's use the same graph as in the second example of\n",
    "[Restricted Distance Calculation](./dist_calc_restricted)."
   ]
  },
  {
   "cell_type": "code",
   "execution_count": null,
   "metadata": {
    "ExecuteTime": {
     "end_time": "2024-04-18T09:45:47.814566Z",
     "start_time": "2024-04-18T09:45:47.257378Z"
    }
   },
   "outputs": [],
   "source": [
    "# Create planar graph, similar to a street network\n",
    "G = nx.MultiDiGraph(nx.Graph(\n",
    "    [\n",
    "        (10, 11, {\"weight\": 1}),\n",
    "        (11, 12, {\"weight\": 1}),\n",
    "        (12, 13, {\"weight\": 1}),\n",
    "        (13, 0, {\"weight\": 1.5}),\n",
    "        (13, 14, {\"weight\": 1}),\n",
    "        (14, 0, {\"weight\": 1}),\n",
    "        (0, 10, {\"weight\": 1}),\n",
    "        (0, 1, {\"weight\": 1}),\n",
    "        (10, 1, {\"weight\": 1}),\n",
    "        (1, 2, {\"weight\": 1}),\n",
    "        (2, 3, {\"weight\": 1}),\n",
    "        (3, 4, {\"weight\": 1.5}),\n",
    "        (4, 5, {\"weight\": 1}),\n",
    "        (5, 9, {\"weight\": 1}),\n",
    "        (5, 6, {\"weight\": 1}),\n",
    "        (7, 2, {\"weight\": 1}),\n",
    "        (8, 7, {\"weight\": 0.5}),\n",
    "        (7, 1, {\"weight\": 1}),\n",
    "        (8, 9, {\"weight\": 0.7}),\n",
    "        (6, 9, {\"weight\": 1}),\n",
    "        (8, 4, {\"weight\": 1}),\n",
    "        (9, 1, {\"weight\": 1}),\n",
    "        (0, 18, {\"weight\": 0.4}),\n",
    "        (18, 2, {\"weight\": 0.4}),\n",
    "        (6, 15, {\"weight\": 0.8}),\n",
    "        (15, 16, {\"weight\": 1}),\n",
    "        (16, 17, {\"weight\": 1}),\n",
    "        (17, 6, {\"weight\": 1}),\n",
    "    ]\n",
    "))\n",
    "G.add_node(19)  # isolated node\n",
    "# Delete directed edges (1, 9), (6, 17), (10, 1)\n",
    "G.remove_edges_from([(1, 9), (6, 17), (10, 1)])\n",
    "# Add longer edge 0 -> 13\n",
    "G.add_edge(0, 13, weight=G[0][13][0][\"weight\"] * 2)\n",
    "\n",
    "n_sparse = [0, 1, 2, 3, 4, 5, 6, 19]\n",
    "partitions = {\n",
    "    \"sparsified\":\n",
    "        {\"nodes\": n_sparse, \"color\": \"black\", \"subgraph\": G.subgraph(n_sparse)},\n",
    "    \"G_r\": {\"nodes\": [7, 8, 9], \"color\": \"crimson\"},\n",
    "    \"G_g\": {\"nodes\": [10, 11, 12, 13, 14], \"color\": \"mediumseagreen\"},\n",
    "    \"G_b\": {\"nodes\": [15, 16, 17], \"color\": \"dodgerblue\"},\n",
    "    \"G_o\": {\"nodes\": [18], \"color\": \"darkorange\"},\n",
    "}\n",
    "for name, part in partitions.items():\n",
    "    if \"subgraph\" not in part:\n",
    "        # subgraph for all edges from or to nodes in partition\n",
    "        part[\"subgraph\"] = G.edge_subgraph(\n",
    "            # [(u, v) for u, v in G.edges if u in part[\"nodes\"] or v in part[\"nodes\"]]\n",
    "            [e for e in G.edges if e[0] in part[\"nodes\"] or e[1] in part[\"nodes\"]]\n",
    "        )\n",
    "    part[\"nodelist\"] = part[\"subgraph\"].nodes\n",
    "    for node in part[\"nodes\"]:\n",
    "        G.nodes[node][\"partition\"] = part[\"color\"]\n",
    "\n",
    "nx.draw(G, with_labels=True, node_color=[G.nodes[n][\"partition\"] for n in G\n",
    "        .nodes],\n",
    "        font_color=\"white\",\n",
    "        pos=nx.kamada_kawai_layout(G),\n",
    "        ax=plt.figure(figsize=(8, 5)).gca(),\n",
    "        connectionstyle=\"arc3,rad=0.1\",\n",
    "        )"
   ]
  },
  {
   "cell_type": "markdown",
   "metadata": {},
   "source": [
    "First, calculate distance and predecessor matrices for the whole graph. Once plain, once\n",
    "restricted to the sparsified nodes."
   ]
  },
  {
   "cell_type": "code",
   "execution_count": null,
   "metadata": {
    "ExecuteTime": {
     "end_time": "2024-04-18T09:46:19.934335Z",
     "start_time": "2024-04-18T09:46:19.923953Z"
    }
   },
   "outputs": [],
   "source": [
    "node_order = list(range(len(G.nodes)))\n",
    "G_sparse = nx.to_scipy_sparse_array(G, nodelist=node_order, weight=\"weight\")\n",
    "G_sparse.indices, G_sparse.indptr = G_sparse.indices.astype(\n",
    "    np.int32), G_sparse.indptr.astype(np.int32)\n",
    "dist, pred = dijkstra(G_sparse, directed=True, indices=node_order,\n",
    "                      return_predecessors=True)\n",
    "dist_restr, pred_restr = shortest_paths_restricted(G, partitions, weight=\"weight\",\n",
    "                                                   node_order=node_order)"
   ]
  },
  {
   "cell_type": "markdown",
   "metadata": {},
   "source": [
    "Now we want to calculate node and edge betweenness centrality for the whole graph, using\n",
    " three methods\n",
    "- a new dijkstra pass, just as in\n",
    "  {py:func}`networkx.edge_betweenness_centrality`\n",
    "- with given distance and predecessor matrices\n",
    "- with restricted distance and predecessor matrices"
   ]
  },
  {
   "cell_type": "code",
   "execution_count": null,
   "metadata": {
    "ExecuteTime": {
     "end_time": "2024-04-18T09:46:40.943464Z",
     "start_time": "2024-04-18T09:46:40.938234Z"
    }
   },
   "outputs": [],
   "source": [
    "# Helper function to visualize the predecessor graph\n",
    "def plot_graph_from_predecessors(P, s, method_name):\n",
    "    \"\"\"Plot tree graph from predecessors dict P, with source s highlighted.\"\"\"\n",
    "    G_pred = nx.DiGraph()\n",
    "    # value pf P is list of predecessors\n",
    "    G_pred.add_edges_from(\n",
    "        [(u, v) for v, u_list in P.items() for u in u_list]\n",
    "    )\n",
    "    axe = plt.figure(figsize=(8, 5)).gca()\n",
    "    nx.draw_networkx(\n",
    "        G_pred, with_labels=True,\n",
    "        node_color=[G.nodes[n][\"partition\"] if s != n else \"pink\"\n",
    "                    for n in G_pred.nodes],\n",
    "        font_color=\"white\",\n",
    "        pos=nx.kamada_kawai_layout(G),\n",
    "        ax=axe,\n",
    "    )\n",
    "    # Add title\n",
    "    axe.set_title(f\"Predecessor graph for {method_name} from node {s}\")"
   ]
  },
  {
   "cell_type": "markdown",
   "metadata": {
    "collapsed": false,
    "jupyter": {
     "outputs_hidden": false
    }
   },
   "source": [
    "A function that generates the same output as the NetworkX internal function\n",
    "{external+networkx:func}`networkx.algorithms.centrality.betweenness._single_source_dijkstra_path_basic`,\n",
    "so we can swap it out."
   ]
  },
  {
   "cell_type": "code",
   "execution_count": null,
   "metadata": {
    "ExecuteTime": {
     "end_time": "2024-04-18T09:47:17.588377Z",
     "start_time": "2024-04-18T09:47:17.581682Z"
    }
   },
   "outputs": [],
   "source": [
    "from numpy import argsort\n",
    "\n",
    "\n",
    "def _single_source_given_paths_basic(_, s, node_order, pred, dist):\n",
    "    \"\"\" Single source shortest paths algorithm for precomputed paths.\n",
    "\n",
    "    Parameters\n",
    "    ----------\n",
    "    _ : np.array\n",
    "        Graph. For compatibility with other functions.\n",
    "    s : int\n",
    "        Source node id.\n",
    "    node_order : list\n",
    "        List of node ids in the order pred and dist are given,\n",
    "        not ordered by distance from s.\n",
    "    pred : np.array\n",
    "        Predecessor matrix for source node s.\n",
    "    dist : np.array\n",
    "        Distance matrix for source node s.\n",
    "\n",
    "    Returns\n",
    "    -------\n",
    "    S : list\n",
    "        List of nodes in order of non-decreasing distance from s.\n",
    "    P : dict\n",
    "        Dictionary of predecessors of nodes in order of non-decreasing distance from s.\n",
    "    sigma : dict\n",
    "        Dictionary of number of shortest paths to nodes.\n",
    "    D : dict\n",
    "        Dictionary of distances to nodes.\n",
    "\n",
    "    Notes\n",
    "    -----\n",
    "    Modified from :mod:`networkx.algorithms.centrality.betweenness`.\n",
    "\n",
    "    Does not include endpoints.\n",
    "    \"\"\"\n",
    "    # Order node_order, pred_row, and dist_row by distance from s\n",
    "    dist_order = argsort(dist[s])\n",
    "    # Remove unreachable indices (-9999),\n",
    "    # check from back which is the first reachable node\n",
    "    try:\n",
    "        while pred[s][dist_order[-1]] == -9999:\n",
    "            dist_order = dist_order[:-1]\n",
    "    except IndexError:\n",
    "        # If all nodes are unreachable, return empty lists\n",
    "        return [], {}, {}, {}\n",
    "    # Get node ids from order indices\n",
    "    S = [node_order[i] for i in dist_order]\n",
    "    P = {node_order[i]: [pred[s][i]] for i in dist_order}\n",
    "    P[s] = []  # not -9999\n",
    "    # Because the given paths are unique, the number of shortest paths is 2.0\n",
    "    sigma = dict.fromkeys(S, 2.0)\n",
    "    D = {node_order[i]: dist[s][i] for i in dist_order}\n",
    "    return S, P, sigma, D"
   ]
  },
  {
   "cell_type": "markdown",
   "metadata": {
    "collapsed": false,
    "jupyter": {
     "outputs_hidden": false
    }
   },
   "source": [
    "To calculate not only node betweenness, but also edge betweenness, as well as length and\n",
    "linearly scaled betweenness, we need to modify the function. This function returns\n",
    "the different kinds of betweenness in a dict. For the edge $t = 17$, we plot the\n",
    "predecessor graphs for the three methods."
   ]
  },
  {
   "cell_type": "code",
   "execution_count": null,
   "metadata": {
    "ExecuteTime": {
     "end_time": "2024-04-18T09:47:41.937097Z",
     "start_time": "2024-04-18T09:47:40.740062Z"
    }
   },
   "outputs": [],
   "source": [
    "t = 17\n",
    "\n",
    "\n",
    "def calculate_betweenness_with(method, *args, show_tree=True):\n",
    "    \"\"\"Calculate betweenness with given method and args, and plot the graph.\n",
    "    Show tree graph of predecessors for node ``t``.\"\"\"\n",
    "    betweenness = dict.fromkeys(G, 0.0)\n",
    "    betweenness_len = betweenness.copy()  # Length scaled betweenness\n",
    "    betweenness_lin = betweenness.copy()  # Linear scaled betweenness\n",
    "    betweenness_edge = betweenness.copy()\n",
    "    betweenness_edge.update(dict.fromkeys(G.edges(), 0.0))\n",
    "    betweenness_edge_len = betweenness_edge.copy()\n",
    "    betweenness_edge_lin = betweenness_edge.copy()\n",
    "    # b[v]=0 for v in G and b[e]=0 for e in G.edges\n",
    "    # Loop over nodes to collect betweenness using pair-wise dependencies\n",
    "    for s in G:\n",
    "        S, P, sigma, D = method(G, s, *args)\n",
    "        # betweenness, _ = _accumulate_basic(betweenness, S.copy(), P, sigma, s)\n",
    "        # betweenness_edge = _accumulate_edges(betweenness_edge, S.copy(), P, sigma, s)\n",
    "        delta = dict.fromkeys(S, 0)\n",
    "        delta_len = delta.copy()\n",
    "        while S:\n",
    "            w = S.pop()\n",
    "            coeff = (1 + delta[w]) / sigma[w]\n",
    "            coeff_len = (1 / D[w] + delta[w]) / sigma[w] if D[w] != 0 else 0\n",
    "            for v in P[w]:\n",
    "                c = sigma[v] * coeff\n",
    "                c_len = sigma[v] * coeff_len\n",
    "                if (v, w) not in betweenness_edge:\n",
    "                    betweenness_edge[(w, v)] += c\n",
    "                    betweenness_edge_len[(w, v)] += c_len\n",
    "                    betweenness_edge_lin[(w, v)] += D[w] * c_len\n",
    "                else:\n",
    "                    betweenness_edge[(v, w)] += c\n",
    "                    betweenness_edge_len[(v, w)] += c_len\n",
    "                    betweenness_edge_lin[(v, w)] += D[w] * c_len\n",
    "                delta[v] += c\n",
    "                delta_len[v] += sigma[v] * coeff_len\n",
    "            if w != s:\n",
    "                betweenness[w] += delta[w]\n",
    "                betweenness_len[w] += delta_len[w]\n",
    "                betweenness_lin[w] += D[w] * delta_len[w]\n",
    "        if s == t and show_tree:\n",
    "            plot_graph_from_predecessors(P, s, method.__name__)\n",
    "    # Normalize betweenness values\n",
    "    betweenness = _rescale(betweenness, len(G), normalized=True, directed=True)\n",
    "    betweenness_len = _rescale(betweenness_len, len(G), normalized=True, directed=True)\n",
    "    betweenness_lin = _rescale(betweenness_lin, len(G), normalized=True, directed=True)\n",
    "    for n in G:  # Remove nodes\n",
    "        del betweenness_edge[n]\n",
    "        del betweenness_edge_len[n]\n",
    "        del betweenness_edge_lin[n]\n",
    "    betweenness_edge = _rescale_e(betweenness_edge, len(G), normalized=True,\n",
    "                                  directed=True)\n",
    "    betweenness_edge_len = _rescale_e(betweenness_edge_len, len(G), normalized=True,\n",
    "                                      directed=True)\n",
    "    betweenness_edge_lin = _rescale_e(betweenness_edge_lin, len(G), normalized=True,\n",
    "                                      directed=True)\n",
    "    return {\n",
    "        \"Node\": betweenness,\n",
    "        \"Edge\": betweenness_edge,\n",
    "        \"Node_len\": betweenness_len,\n",
    "        \"Edge_len\": betweenness_edge_len,\n",
    "        \"Node_lin\": betweenness_lin,\n",
    "        \"Edge_lin\": betweenness_edge_lin\n",
    "    }\n",
    "\n",
    "\n",
    "cb = calculate_betweenness_with(_single_source_dijkstra_path_basic, \"weight\")\n",
    "cb_paths = calculate_betweenness_with(_single_source_given_paths_basic,\n",
    "                                      node_order, pred, dist)\n",
    "cb_restr = calculate_betweenness_with(_single_source_given_paths_basic,\n",
    "                                      node_order, pred_restr, dist_restr)"
   ]
  },
  {
   "cell_type": "markdown",
   "metadata": {},
   "source": [
    "The most obvious difference between the predecessor graphs is that the paths to node 17\n",
    "go through the sparsified, black nodes. A bit less obvious is that between the first two\n",
    "trees, the first dijkstra approach unveils that there are two shortest paths between 17\n",
    "and 18, as 18 has two predecessors. The second approach (unrestricted, using\n",
    "predecessor matrix), however, only shows one path, as such predecessor matrix is only\n",
    "able to store one path per node pair.\n",
    "\n",
    "The comparison between the node betweenness shows the same. The first approaches yield\n",
    "mostly the same results, but 2 and 0 as predecessors of 18 differ. The maximal\n",
    "difference is just $1.1\\%$."
   ]
  },
  {
   "cell_type": "code",
   "execution_count": null,
   "metadata": {
    "ExecuteTime": {
     "end_time": "2024-04-18T09:49:15.417307Z",
     "start_time": "2024-04-18T09:49:15.370684Z"
    }
   },
   "outputs": [],
   "source": [
    "display(pd.DataFrame({\n",
    "    (\"\", \"C_B\"): cb[\"Node\"], (\"\", \"C_B_paths\"): cb_paths[\"Node\"],\n",
    "    (\"\", \"C_B_restr\"): cb_restr[\"Node\"],\n",
    "    (\"Len scales\", \"C_B\"): cb[\"Node_len\"],\n",
    "    (\"Len scales\", \"C_B_paths\"): cb_paths[\"Node_len\"],\n",
    "    (\"Len scales\", \"C_B_restr\"): cb_restr[\"Node_len\"],\n",
    "    (\"Lin scales\", \"C_B\"): cb[\"Node_lin\"],\n",
    "    (\"Lin scales\", \"C_B_paths\"): cb_paths[\"Node_lin\"],\n",
    "    (\"Lin scales\", \"C_B_restr\"): cb_restr[\"Node_lin\"]\n",
    "}\n",
    ").sort_values(by=[(\"\", \"C_B\")], ascending=False)\n",
    "        .style.background_gradient(cmap=\"Blues\", axis=None)\n",
    "        .format(precision=3)\n",
    "        .map_index(lambda x: f\"color: {G.nodes[x]['partition']}\" if x in G\n",
    "                   .nodes else \"\"). \\\n",
    "        set_table_attributes('style=\"font-size: 12px\"'),\n",
    "        )"
   ]
  },
  {
   "cell_type": "markdown",
   "metadata": {
    "collapsed": false,
    "jupyter": {
     "outputs_hidden": false
    }
   },
   "source": [
    "When sorting after the linearly scaled edge betweenness for restricted paths, we see\n",
    "mostly sparsified nodes at the top."
   ]
  },
  {
   "cell_type": "code",
   "execution_count": null,
   "metadata": {
    "ExecuteTime": {
     "end_time": "2024-04-18T09:49:46.517845Z",
     "start_time": "2024-04-18T09:49:46.440574Z"
    }
   },
   "outputs": [],
   "source": [
    "display(pd.DataFrame({\n",
    "    (\"\", \"C_B_e\"): cb[\"Edge\"], (\"\", \"C_B_e_paths\"): cb_paths[\"Edge\"],\n",
    "    (\"\", \"C_B_e_restr\"): cb_restr[\"Edge\"],\n",
    "    (\"Len scales\", \"C_B_e\"): cb[\"Edge_len\"],\n",
    "    (\"Len scales\", \"C_B_e_paths\"): cb_paths[\"Edge_len\"],\n",
    "    (\"Len scales\", \"C_B_e_restr\"): cb_restr[\"Edge_len\"],\n",
    "    (\"Lin scales\", \"C_B_e\"): cb[\"Edge_lin\"],\n",
    "    (\"Lin scales\", \"C_B_e_paths\"): cb_paths[\"Edge_lin\"],\n",
    "    (\"Lin scales\", \"C_B_e_restr\"): cb_restr[\"Edge_lin\"]\n",
    "}\n",
    ").sort_values(by=[(\"Lin scales\", \"C_B_e_restr\")], ascending=False)\n",
    "        .style.background_gradient(cmap=\"Blues\", axis=None)\n",
    "        .format(precision=3)\n",
    "        .map_index(lambda x: f\"color: {G.nodes[x]['partition']}\" if x in G\n",
    "                   .nodes else \"\"). \\\n",
    "        set_table_attributes('style=\"font-size: 12px\"'),\n",
    "        )"
   ]
  },
  {
   "cell_type": "markdown",
   "metadata": {
    "collapsed": false,
    "jupyter": {
     "outputs_hidden": false
    }
   },
   "source": [
    "For a more intuitive comparison, we can plot the betweenness values for the edges\n",
    "(and nodes) on the graph. The size of the nodes is proportional to the node betweenness\n",
    "and the color of the edges is proportional to the edge betweenness."
   ]
  },
  {
   "cell_type": "code",
   "execution_count": null,
   "metadata": {
    "ExecuteTime": {
     "end_time": "2024-04-18T09:50:34.670455Z",
     "start_time": "2024-04-18T09:50:33.125241Z"
    }
   },
   "outputs": [],
   "source": [
    "def betweenness_plot(G, cb, cb_e, title):\n",
    "    \"\"\"Plot graph with edge widths proportional to edge betweenness.\"\"\"\n",
    "    fig, ax = plt.subplots(figsize=(8, 5))\n",
    "    pos = nx.kamada_kawai_layout(G, weight=None)\n",
    "    nx.draw_networkx_nodes(\n",
    "        G, pos=pos, ax=ax,\n",
    "        node_color=[G.nodes[n][\"partition\"] for n in G.nodes],\n",
    "        # linewidths=2,\n",
    "        node_size=[v * 1000 + 10 for v in cb.values()],\n",
    "    )\n",
    "    e_col = nx.draw_networkx_edges(\n",
    "        G, pos=pos, ax=ax,\n",
    "        edge_color=[cb_e[(u, v)] for u, v in G.edges(keys=False)],\n",
    "        edge_cmap=plt.cm.Blues,\n",
    "        # alpha=0.8,\n",
    "        # width=[v * 10 for v in cb_e.values()],\n",
    "        connectionstyle=\"arc3,rad=0.1\",\n",
    "    )\n",
    "    for col in e_col:\n",
    "        col.set_zorder(2)\n",
    "    # Add title\n",
    "    ax.set_title(title)\n",
    "    plt.show()\n",
    "\n",
    "\n",
    "betweenness_plot(G, cb[\"Node\"], cb[\"Edge\"], \"Betweenness centrality\")\n",
    "betweenness_plot(G, cb_paths[\"Node\"], cb_paths[\"Edge\"],\n",
    "                 \"Betweenness centrality given paths\")\n",
    "betweenness_plot(G, cb_restr[\"Node\"], cb_restr[\"Edge\"],\n",
    "                 \"Betweenness centrality restricted paths\")"
   ]
  },
  {
   "cell_type": "markdown",
   "metadata": {},
   "source": [
    "## Simplify algorithm\n",
    "\n",
    "For our case of given graphs, the algorithm can be simplified, as we always only have\n",
    "one path between two nodes. This means that `P` doesn't need to be a dictionary, as it\n",
    "would always only have one entry. All outputs can be lists. We do not need `sigma` as it\n",
    "would always be 2. We can omit it totally in the calculation, as it would be 1 and\n",
    "correct for the linear factor when rescaling. As the predecessors are in the predecessor\n",
    "matrix, we basically only need to figure out in which order to accumulate the\n",
    "dependencies."
   ]
  },
  {
   "cell_type": "code",
   "execution_count": null,
   "metadata": {
    "ExecuteTime": {
     "end_time": "2024-04-18T09:51:07.533970Z",
     "start_time": "2024-04-18T09:51:07.528496Z"
    },
    "collapsed": false,
    "jupyter": {
     "outputs_hidden": false
    }
   },
   "outputs": [],
   "source": [
    "def _single_source_given_paths_simplified(dist_row):\n",
    "    \"\"\"Sort nodes, predecessors and distances by distance.\n",
    "\n",
    "    Parameters\n",
    "    ----------\n",
    "    dist_row : np.array\n",
    "        Distance row sorted non-decreasingly.\n",
    "\n",
    "    Returns\n",
    "    -------\n",
    "    S : list\n",
    "        List of node indices in order of distance.\n",
    "\n",
    "    Notes\n",
    "    -----\n",
    "    Does not include endpoints.\n",
    "    \"\"\"\n",
    "    dist_order = argsort(dist_row)\n",
    "    try:\n",
    "        # Remove unreachable indices (inf), check from back which is the first\n",
    "        # reachable node\n",
    "        while dist_row[dist_order[-1]] == np.inf:\n",
    "            dist_order = dist_order[:-1]\n",
    "        # Remove immediately reachable nodes with distance 0, including s itself\n",
    "        while dist_row[dist_order[0]] == 0:\n",
    "            dist_order = dist_order[1:]\n",
    "    except IndexError:\n",
    "        # If all nodes are unreachable, return empty list\n",
    "        return []\n",
    "    return list(dist_order)"
   ]
  },
  {
   "cell_type": "markdown",
   "metadata": {
    "collapsed": false,
    "jupyter": {
     "outputs_hidden": false
    }
   },
   "source": [
    "The iteration over the nodes then becomes:"
   ]
  },
  {
   "cell_type": "code",
   "execution_count": null,
   "metadata": {
    "ExecuteTime": {
     "end_time": "2024-04-18T09:51:29.611450Z",
     "start_time": "2024-04-18T09:51:29.560024Z"
    }
   },
   "outputs": [],
   "source": [
    "def simplified_betweenness(node_order, edge_list, dist, pred):\n",
    "    \"\"\"Simplified betweenness centrality calculation.\"\"\"\n",
    "    node_indices = list(range(len(node_order)))\n",
    "    betweenness = dict.fromkeys(node_indices, 0.0)\n",
    "    betweenness_len = betweenness.copy()  # Length scaled betweenness\n",
    "    betweenness_lin = betweenness.copy()  # Linear scaled betweenness\n",
    "    betweenness_edge = betweenness.copy()\n",
    "    betweenness_edge.update(dict.fromkeys(\n",
    "        [(node_order.index(u), node_order.index(v)) for u, v in edge_list],\n",
    "        0.0))\n",
    "    betweenness_edge_len = betweenness_edge.copy()\n",
    "    betweenness_edge_lin = betweenness_edge.copy()\n",
    "    # b[v]=0 for v in G and b[e]=0 for e in G.edges\n",
    "    # Loop over nodes to collect betweenness using pair-wise dependencies\n",
    "    for s in node_indices:\n",
    "        S = _single_source_given_paths_simplified(dist[s])\n",
    "        # betweenness, _ = _accumulate_basic(betweenness, S.copy(), P, sigma, s)\n",
    "        # betweenness_edge = _accumulate_edges(betweenness_edge, S.copy(), P, sigma, s)\n",
    "        delta = dict.fromkeys(node_indices, 0)\n",
    "        delta_len = delta.copy()\n",
    "        # S is 1d-ndarray, while not empty\n",
    "        while S:\n",
    "            w = S.pop()\n",
    "            # No while loop over multiple predecessors, only one path per node pair\n",
    "            v = pred[s, w]  # P[w]\n",
    "            d = dist[s, w]  # D[w]\n",
    "            # Calculate dependency contribution\n",
    "            coeff = 1 + delta[w]\n",
    "            coeff_len = (1 / d + delta[w])\n",
    "            # Add edge betweenness contribution\n",
    "            if (v, w) not in betweenness_edge:\n",
    "                betweenness_edge[(w, v)] += coeff\n",
    "                betweenness_edge_len[(w, v)] += coeff_len\n",
    "                betweenness_edge_lin[(w, v)] += d * coeff_len\n",
    "            else:\n",
    "                betweenness_edge[(v, w)] += coeff\n",
    "                betweenness_edge_len[(v, w)] += coeff_len\n",
    "                betweenness_edge_lin[(v, w)] += d * coeff_len\n",
    "            # Add to dependency for further nodes/loops\n",
    "            delta[v] += coeff\n",
    "            delta_len[v] += coeff_len\n",
    "            # Add node betweenness contribution\n",
    "            if w != s:\n",
    "                betweenness[w] += delta[w]\n",
    "                betweenness_len[w] += delta_len[w]\n",
    "                betweenness_lin[w] += d * delta_len[w]\n",
    "    # Normalize betweenness values and rename node index keys to ids\n",
    "    scale = 1 / ((len(node_order) - 1) * (len(node_order) - 2))\n",
    "    for bc_dict in [betweenness, betweenness_len, betweenness_lin]:  # u_idx -> u_id\n",
    "        for v in bc_dict.keys():\n",
    "            bc_dict[v] *= scale\n",
    "            v = node_order[v]\n",
    "    for n in node_indices:  # Remove nodes\n",
    "        del betweenness_edge[n]\n",
    "        del betweenness_edge_len[n]\n",
    "        del betweenness_edge_lin[n]\n",
    "    scale = 1 / (len(node_order) * (len(node_order) - 1))\n",
    "    for bc_e_dict in [betweenness_edge, betweenness_edge_len,\n",
    "                      betweenness_edge_lin]:  # (u_idx, v_idx) -> (u_id, v_id)\n",
    "        for e in bc_e_dict.keys():\n",
    "            bc_e_dict[e] *= scale\n",
    "            e = (node_order[e[0]], node_order[e[1]])\n",
    "\n",
    "    return {\n",
    "        \"Node\": betweenness,\n",
    "        \"Edge\": betweenness_edge,\n",
    "        \"Node_len\": betweenness_len,\n",
    "        \"Edge_len\": betweenness_edge_len,\n",
    "        \"Node_lin\": betweenness_lin,\n",
    "        \"Edge_lin\": betweenness_edge_lin\n",
    "    }\n",
    "\n",
    "\n",
    "cb_paths_2 = simplified_betweenness(node_order, G.edges(keys=False), dist, pred)\n",
    "cb_restr_2 = simplified_betweenness(node_order, G.edges(keys=False), dist_restr,\n",
    "                                    pred_restr)"
   ]
  },
  {
   "cell_type": "code",
   "execution_count": null,
   "metadata": {
    "ExecuteTime": {
     "end_time": "2024-04-18T09:51:44.214518Z",
     "start_time": "2024-04-18T09:51:44.188049Z"
    }
   },
   "outputs": [],
   "source": [
    "# Check if results are the same when unsimplified\n",
    "cb_paths[\"Edge\"] == cb_paths_2[\"Edge\"]\n",
    "for k, v in cb_paths.items():\n",
    "    print(\n",
    "        f\"{k}: {all([np.isclose(cb_paths[k][k1], cb_paths_2[k][k1]) for k1 in cb_paths[k].keys()])}\")\n",
    "    print(f\"keys: {v.keys() == cb_paths_2[k].keys()}\")\n",
    "    for k1, val1 in v.items():\n",
    "        val2 = cb_paths_2[k][k1]\n",
    "        if not np.isclose(val1, val2):\n",
    "            print(val1, val2)"
   ]
  },
  {
   "cell_type": "markdown",
   "metadata": {},
   "source": [
    "## Performance comparison\n",
    "\n",
    "We compare the performance of the simplified and the original betweenness centrality\n",
    "calculation."
   ]
  },
  {
   "cell_type": "code",
   "execution_count": null,
   "metadata": {
    "ExecuteTime": {
     "end_time": "2024-04-18T09:52:23.580242Z",
     "start_time": "2024-04-18T09:52:00.815835Z"
    }
   },
   "outputs": [],
   "source": [
    "%timeit calculate_betweenness_with(_single_source_dijkstra_path_basic, \"weight\", show_tree=False)\n",
    "%timeit calculate_betweenness_with(_single_source_given_paths_basic, node_order, pred, dist, show_tree=False)\n",
    "%timeit simplified_betweenness(node_order, G.edges(keys=False), dist, pred)"
   ]
  },
  {
   "cell_type": "markdown",
   "metadata": {},
   "source": [
    "On the first look, the simplified version is not faster, this is because the\n",
    "example graph is too small. But for larger graphs the implemented function\n",
    "[{py:func}`betweenness_centrality()`](betweenness_centrality_impl) is orders of\n",
    "magnitude faster.\n",
    "\n",
    "In the [Implementation](#implementation) we also use arrays for the betweenness and\n",
    "dependency values $\\delta$, which is more efficient than dictionaries. For\n",
    "acceleration, we also use the {external+numba:mod}`numba` package to compile the\n",
    "functions to machine code. {external+numba:mod}`numba` provides the\n",
    "{external+numba:func}`njit` decorator, which can be used to pre-compile functions and\n",
    "easy parallelization.\n",
    "\n",
    "### Real world example\n",
    "\n",
    "To compare further we use a real city, not especially large, but large enough for us\n",
    "to see a difference."
   ]
  },
  {
   "cell_type": "code",
   "execution_count": null,
   "metadata": {
    "ExecuteTime": {
     "end_time": "2024-04-18T09:54:47.350395Z",
     "start_time": "2024-04-18T09:54:47.328785Z"
    },
    "collapsed": false,
    "jupyter": {
     "outputs_hidden": false
    }
   },
   "outputs": [],
   "source": [
    "part.graph"
   ]
  },
  {
   "cell_type": "code",
   "execution_count": null,
   "metadata": {
    "ExecuteTime": {
     "end_time": "2024-04-18T10:04:17.300351Z",
     "start_time": "2024-04-18T10:04:16.580503Z"
    }
   },
   "outputs": [],
   "source": [
    "from superblockify import ResidentialPartitioner\n",
    "from superblockify.config import Config\n",
    "\n",
    "CITY_NAME, SEARCH_STR = Config.PLACES_SMALL[1]\n",
    "part = ResidentialPartitioner(\n",
    "    name=CITY_NAME + \"_main\", city_name=CITY_NAME, search_str=SEARCH_STR, unit=\"time\"\n",
    ")\n",
    "part.run(calculate_metrics=False)\n",
    "\n",
    "# Intended use usually only with `run` method\n",
    "# or `calculate_metrics_before` partitioning\n",
    "node_list = part.get_sorted_node_list()"
   ]
  },
  {
   "cell_type": "code",
   "execution_count": null,
   "metadata": {
    "ExecuteTime": {
     "end_time": "2024-04-18T10:07:41.749617Z",
     "start_time": "2024-04-18T10:07:11.229057Z"
    }
   },
   "outputs": [],
   "source": [
    "from superblockify.metrics.measures import betweenness_centrality\n",
    "from superblockify.metrics.distances import calculate_path_distance_matrix\n",
    "%timeit betweenness_centrality(part.graph, node_list, *calculate_path_distance_matrix(part.graph, weight = \"travel_time\", node_order = node_list), weight=\"travel_time\")\n",
    "%timeit nx.betweenness_centrality(part.graph, weight=\"travel_time\")"
   ]
  },
  {
   "cell_type": "markdown",
   "metadata": {},
   "source": [
    "The code scales with the number of nodes and number of edges. As in real world cities\n",
    "the edges do not scale with the number of nodes, the runtime is well bearable for\n",
    "simplified graphs of metropolitan cities.\n",
    "\n",
    "## Implementation\n",
    "\n",
    "(betweenness_centrality_impl)=\n",
    "```{eval-rst}\n",
    ".. autofunction:: superblockify.metrics.measures.betweenness_centrality\n",
    "    :noindex:\n",
    "```\n",
    "\n",
    "```{eval-rst}\n",
    ".. autofunction:: superblockify.metrics.measures.__accumulate_bc\n",
    "    :noindex:\n",
    "```\n"
   ]
  }
 ],
 "metadata": {
  "kernelspec": {
   "display_name": "sb_env",
   "language": "python",
   "name": "sb_env"
  },
  "language_info": {
   "codemirror_mode": {
    "name": "ipython",
    "version": 3
   },
   "file_extension": ".py",
   "mimetype": "text/x-python",
   "name": "python",
   "nbconvert_exporter": "python",
   "pygments_lexer": "ipython3",
   "version": "3.12.3"
  }
 },
 "nbformat": 4,
 "nbformat_minor": 4
}
