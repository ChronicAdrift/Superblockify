{
 "cells": [
  {
   "attachments": {
    "8a415f1d-cfcf-4c3e-9078-13167177082e.png": {
     "image/png": "[encoded data removed]"
    }
   },
   "cell_type": "markdown",
   "metadata": {},
   "source": [
    "![superblockify_logo.png](attachment:8a415f1d-cfcf-4c3e-9078-13167177082e.png)"
   ]
  },
  {
   "cell_type": "markdown",
   "metadata": {},
   "source": [
    "More info: [superblockify.city](https://superblockify.city)"
   ]
  },
  {
   "cell_type": "markdown",
   "metadata": {},
   "source": [
    "# Population density\n",
    "\n",
    "This notebook calculates population density, parametrized to work globally for any place.\n",
    "This is split up into two parts:\n",
    "\n",
    "1. Get the boundary for each place and calculate its area.\n",
    "2. Find the enclosed population and divide by the area.\n",
    "\n",
    "On the way, we will also touch upon resampling, raster data, and affine transformations.\n",
    "\n",
    "As an example, we will use Bogotá, Colombia. First, we need to get the boundary\n",
    "(multi)polygon."
   ]
  },
  {
   "cell_type": "code",
   "execution_count": null,
   "metadata": {
    "ExecuteTime": {
     "end_time": "2023-06-17T16:20:46.415225315Z",
     "start_time": "2023-06-17T16:20:46.017523130Z"
    }
   },
   "outputs": [],
   "source": [
    "import io\n",
    "import zipfile\n",
    "from os.path import exists, basename\n",
    "\n",
    "import matplotlib.pyplot as plt\n",
    "import osmnx as ox\n",
    "import rasterio\n",
    "import requests\n",
    "from matplotlib.colors import SymLogNorm\n",
    "from rasterio.plot import show\n",
    "from rasterio.windows import Window\n",
    "from rasterio.enums import Resampling\n",
    "from rasterstats import zonal_stats"
   ]
  },
  {
   "cell_type": "markdown",
   "metadata": {},
   "source": [
    "## 1. Area Boundary"
   ]
  },
  {
   "cell_type": "code",
   "execution_count": null,
   "metadata": {
    "ExecuteTime": {
     "end_time": "2023-06-17T16:20:46.856876543Z",
     "start_time": "2023-06-17T16:20:46.043807375Z"
    }
   },
   "outputs": [],
   "source": [
    "bogota_gdf = ox.geocode_to_gdf('Bogotá, Colombia')\n",
    "# Project to UTM, so we can treat it as flat Cartesian coordinates (meters)\n",
    "bogota_gdf = ox.project_gdf(bogota_gdf)\n",
    "print(f\"The area of Bogotá is {round(bogota_gdf.area[0] / 10 ** 6, 2)} km²\")\n",
    "bogota_gdf.explore()"
   ]
  },
  {
   "cell_type": "code",
   "execution_count": null,
   "metadata": {
    "ExecuteTime": {
     "end_time": "2023-06-17T16:20:46.857034169Z",
     "start_time": "2023-06-17T16:20:46.757979701Z"
    }
   },
   "outputs": [],
   "source": [
    "bogota_multipolygon = bogota_gdf.geometry.unary_union"
   ]
  },
  {
   "cell_type": "code",
   "execution_count": null,
   "metadata": {
    "ExecuteTime": {
     "end_time": "2023-06-17T16:20:48.268428899Z",
     "start_time": "2023-06-17T16:20:46.769426670Z"
    }
   },
   "outputs": [],
   "source": [
    "bogota_multipolygon"
   ]
  },
  {
   "cell_type": "markdown",
   "metadata": {},
   "source": [
    "## 2. Population\n",
    "\n",
    "For a general solution, we want to be able to query the population dataset\n",
    "(GHS-POP R2023A[^1]) for any place. We do not want to load the whole dataset,\n",
    "so we will find out the bounding box of the place and only load the\n",
    "raster data for that area.\n",
    "To get an idea of the dataset structure, the\n",
    "[download page](https://ghsl.jrc.ec.europa.eu/download.php) has a visualization of\n",
    "the tiling. There is also an\n",
    "[Interactive visualisation of the GHS population grid (R2023)](https://ghsl.jrc.ec.europa.eu/visualisation.php#lnlt=@50,15,4z&v=301&ln=0&gr=ds&lv=00000000000000100000000000000000000000011111&lo=aaaaaaaaaaaaaaaaaaaaaaaaaaaaaaaaaaaaaaaaaaaa&pg=V).\n",
    "\n",
    "All different GHSL datasets are available on the FTP server\n",
    "[`https://jeodpp.jrc.ec.europa.eu/ftp/jrc-opendata/GHSL/`](https://jeodpp.jrc.ec.europa.eu/ftp/jrc-opendata/GHSL/)\n",
    "and the 2023 population dataset is in the folder\n",
    "[`GHS_POP_GLOBE_R2023A`](https://jeodpp.jrc.ec.europa.eu/ftp/jrc-opendata/GHSL/GHS_POP_GLOBE_R2023A/).\n",
    "The dataset is available in 5-year intervals and in resolutions of 100m, 1km, 3\n",
    "arcsec, and 30 arcsec. We are interested in the 100m 2025 projection data.\n",
    "The files are under\n",
    "`https://jeodpp.jrc.ec.europa.eu/ftp/jrc-opendata/GHSL/GHS_POP_GLOBE_R2023A/GHS_POP_E2025_GLOBE_R2023A_54009_100/V1-0/tiles/GHS_POP_E2025_GLOBE_R2023A_54009_100_V1_0_R{row}_C{col}.zip`,\n",
    "where `row` and `col` are the row and column of the raster tile.\n",
    "Each tile is 100km x 100km (row 1 to 18, column 1 to 36).\n",
    "The whole dataset is in World Mollweide (ESRI:54009) projection (with the prime\n",
    "meridian at Greenwich (EPSG:4326)) for the 100m and 1km resolution, and in WGS84\n",
    "(EPSG:4326) for the 3 and 30 arcsec resolutions.\n",
    "\n",
    "Another option is to directly download the whole dataset\n",
    "[`/V1-0/GHS_POP_E2025_GLOBE_R2023A_54009_100_V1_0.zip`](https://jeodpp.jrc.ec.europa.eu/ftp/jrc-opendata/GHSL/GHS_POP_GLOBE_R2023A/GHS_POP_E2025_GLOBE_R2023A_54009_100/V1-0/GHS_POP_E2025_GLOBE_R2023A_54009_100_V1_0.zip).\n",
    "In 100m resolution, the file is 4.9 GB (compressed). This way, we do not need to worry\n",
    "about the tiling.\n",
    "\n",
    "\n",
    "[^1]: Schiavina, M., Freire, S. & MacManus, K. GHS-POP R2023A - GHS population grid\n",
    "multitemporal (1975-2030). (2023)\n",
    "[doi:10.2905/2FF68A52-5B5B-4A22-8F40-C41DA8332CFE](https://doi.org/10.2905/2FF68A52-5B5B-4A22-8F40-C41DA8332CFE)."
   ]
  },
  {
   "cell_type": "code",
   "execution_count": null,
   "metadata": {
    "ExecuteTime": {
     "end_time": "2023-06-17T16:20:48.314355621Z",
     "start_time": "2023-06-17T16:20:48.268050982Z"
    }
   },
   "outputs": [],
   "source": [
    "def get_GHSL_urls(bbox_moll):\n",
    "    \"\"\"Get the URLs of the GHSL population raster tiles that contain the\n",
    "    boundary.\n",
    "\n",
    "    100m resolution, 2025 projection, World Mollweide projection.\n",
    "\n",
    "    Parameters\n",
    "    ----------\n",
    "    bbox_moll : list\n",
    "        Boundary of the place in Mollweide projection.\n",
    "        [minx, miny, maxx, maxy]\n",
    "    \"\"\"\n",
    "    corners = [\n",
    "        (bbox_moll[0], bbox_moll[1]),  # southwest\n",
    "        (bbox_moll[0], bbox_moll[3]),  # northwest\n",
    "        (bbox_moll[2], bbox_moll[1]),  # southeast\n",
    "        (bbox_moll[2], bbox_moll[3]),  # northeast\n",
    "    ]\n",
    "    # Empty set of URLs\n",
    "    urls = set()\n",
    "    # Check what tile(s) the boundary corners are in\n",
    "    for corner in corners:\n",
    "        # Get the row and column of the tile\n",
    "        row = int((9000000 - corner[1]) / 1e6) + 1\n",
    "        col = min(int((18041000 + corner[0]) / 1e6) + 1, 36)\n",
    "        # Get the URL of the tile\n",
    "        url = (\n",
    "            f\"https://jeodpp.jrc.ec.europa.eu/ftp/jrc-opendata/GHSL\"\n",
    "            f\"/GHS_POP_GLOBE_R2023A/GHS_POP_E2025_GLOBE_R2023A_54009_100/V1-0/tiles/\"\n",
    "            f\"GHS_POP_E2025_GLOBE_R2023A_54009_100_V1_0_R{row}_C{col}.zip\"\n",
    "        )\n",
    "        # Add the URL to the set of URLs\n",
    "        urls.add(url)\n",
    "    return list(urls)"
   ]
  },
  {
   "cell_type": "markdown",
   "metadata": {},
   "source": [
    "Load the whole tile of Bogotá in 100m resolution to get an idea of the data."
   ]
  },
  {
   "cell_type": "code",
   "execution_count": null,
   "metadata": {
    "ExecuteTime": {
     "end_time": "2023-06-17T16:20:48.697820033Z",
     "start_time": "2023-06-17T16:20:48.314030157Z"
    }
   },
   "outputs": [],
   "source": [
    "# Project to World Mollweide to get the tile urls\n",
    "bogota_gdf = bogota_gdf.to_crs(\"World Mollweide\")\n",
    "bogota_bbox = list(bogota_gdf.bounds.values[0])\n",
    "bogota_url = get_GHSL_urls(bogota_bbox)"
   ]
  },
  {
   "cell_type": "code",
   "execution_count": null,
   "metadata": {
    "ExecuteTime": {
     "end_time": "2023-06-17T16:20:48.763906060Z",
     "start_time": "2023-06-17T16:20:48.698545629Z"
    }
   },
   "outputs": [],
   "source": [
    "def download_GHSL(urls):\n",
    "    \"\"\"Download the GHSL population raster tile.\n",
    "\n",
    "    Parameters\n",
    "    ----------\n",
    "    urls : str or list\n",
    "        URL(s) of the raster tile(s).\n",
    "\n",
    "    Returns\n",
    "    -------\n",
    "    str or list\n",
    "        Path(s) to the downloaded raster tile(s).\n",
    "    \"\"\"\n",
    "    files = []\n",
    "    for url in urls if isinstance(urls, (list, tuple)) else [urls]:\n",
    "        # Check if file already exists - same as url but without the path and .tif\n",
    "        if exists(basename(url)[:-4]+\".tif\"):\n",
    "            files.append(basename(url)[:-4]+\".tif\")\n",
    "            continue\n",
    "        # Download zip file\n",
    "        r = requests.get(url)\n",
    "        # Unzip to working directory\n",
    "        z = zipfile.ZipFile(io.BytesIO(r.content))\n",
    "        z.extractall()  # zip includes tif, meta and data report\n",
    "        # append file ending in .tif from z.namelist()\n",
    "        files.append([f for f in z.namelist() if f.endswith(\".tif\")][0])\n",
    "    return files[0] if len(files) == 1 else files"
   ]
  },
  {
   "cell_type": "code",
   "execution_count": null,
   "metadata": {
    "ExecuteTime": {
     "end_time": "2023-06-17T16:20:50.392346037Z",
     "start_time": "2023-06-17T16:20:48.750199031Z"
    }
   },
   "outputs": [],
   "source": [
    "# Download tile of the data for the area of Bogotá\n",
    "file_colombia = download_GHSL(urls=bogota_url)\n",
    "file_colombia"
   ]
  },
  {
   "cell_type": "markdown",
   "metadata": {},
   "source": [
    "### Windowed Loading\n",
    "\n",
    "As we do not want to always load the whole tile, we will load a window of the raster\n",
    "determined by the bounding box of Bogotá.\n",
    "Additionally, to that data subset, an affine transformation is needed to\n",
    "address the coordinates.\n",
    "The affine transformation is used to transform the raster coordinates to the\n",
    "projection coordinates, and basically work like a `linspace` function.\n",
    "It specifies step length in x and y direction, and the starting point (Northings\n",
    "and Eastings).\n",
    "The last column is `[0, 0, 1]`, because there is no rotation. Note that there is also\n",
    "no shear."
   ]
  },
  {
   "cell_type": "markdown",
   "metadata": {},
   "source": [
    "Labelled affine transformation:\n",
    "$$\n",
    "\\begin{bmatrix}\n",
    "    x_{\\text{step}} & 0 & x_{\\text{start}} \\\\\n",
    "    0 & y_{\\text{step}} & y_{\\text{start}} \\\\\n",
    "    0 & 0 & 1\n",
    "\\end{bmatrix}\n",
    "$$"
   ]
  },
  {
   "cell_type": "markdown",
   "metadata": {},
   "source": [
    "### Resampling the Population\n",
    "\n",
    "In our application, the areas of interests are neighborhoods, the size\n",
    "of the polygons might in some cases be not much larger than the resolution of the\n",
    "raster. The rasterization strategy can be to include all pixels that are fully\n",
    "covered by the polygon, or to include all pixels that are at least partially\n",
    "covered. For a relatively small polygon, there can be a difference in the\n",
    "chosen strategy. Up-scaling the population raster can help to mitigate this.\n",
    "\n",
    "An illustration of this effect[^2]:\n",
    "![rasterization](../docs/_static/rasterization.png)\n",
    "[^2]: [Rasterization strategies](https://pythonhosted.org/rasterstats/manual.html#rasterization-strategy)\n",
    "rasterstats documentation.\n",
    "\n",
    "A definitive resampling strategy does not exist; the only important consideration\n",
    "is that the sum of the population is conserved.\n",
    "One such approach is to homogeneously distribute the population over the pixels.\n",
    "When splitting each pixel into :math:`n \\times n` sub-pixels, the population becomes\n",
    ":math:`P_{\\mathrm{new}} = P_{\\mathrm{old}} n^{-2}`.\n",
    "The affine transformation also needs to be adjusted.\n",
    "$$\n",
    "\\begin{bmatrix}\n",
    "    x_{\\text{step}} \\frac{n_{x,\\text{old}}}{n_{x,\\text{new}}} & 0 & x_{\\text{start}} \\\\\n",
    "    0 & y_{\\text{step}} \\frac{n_{y,\\text{old}}}{n_{y,\\text{new}}} & y_{\\text{start}} \\\\\n",
    "    0 & 0 & 1\n",
    "\\end{bmatrix}\n",
    "$$"
   ]
  },
  {
   "cell_type": "code",
   "execution_count": null,
   "metadata": {
    "ExecuteTime": {
     "end_time": "2023-06-17T16:20:50.399955180Z",
     "start_time": "2023-06-17T16:20:50.392599229Z"
    }
   },
   "outputs": [],
   "source": [
    "def resample_load_window(file, resample_factor=1, window=None, res_stategy=Resampling\n",
    "                    .average):\n",
    "    \"\"\"Load and resample a window of a raster file.\n",
    "\n",
    "    Parameters\n",
    "    -----------\n",
    "    file : str\n",
    "        Path to the raster file. It Can be a tile or the whole raster.\n",
    "    resample_factor : float, optional\n",
    "        Factor to resample the window by. Values > 1 increase the resolution\n",
    "        of the raster, values < 1 decrease the resolution of the raster by that\n",
    "        factor in each dimension.\n",
    "    window : rasterio.windows.Window, optional\n",
    "        Window of the raster to resample, by default None.\n",
    "    res_stategy : rasterio.enums.Resampling, optional\n",
    "        Resampling strategy, by default Resampling.average.\n",
    "\n",
    "    Returns\n",
    "    -------\n",
    "    raster_rescaled : numpy.ndarray\n",
    "        Resampled raster.\n",
    "    res_affine : rasterio.Affine\n",
    "        Affine transformation of the resampled raster.\n",
    "    \"\"\"\n",
    "    with rasterio.open(file) as src:\n",
    "        if window is None:\n",
    "            window = src.window(*src.bounds)\n",
    "        # Resample the window\n",
    "        res_window = Window(window.col_off * resample_factor,\n",
    "                            window.row_off * resample_factor,\n",
    "                            window.width * resample_factor,\n",
    "                            window.height * resample_factor)\n",
    "        # Read the raster while resampling\n",
    "        raster_rescaled = src.read(\n",
    "            1,\n",
    "            out_shape=(1, int(res_window.height), int(res_window.width)),\n",
    "            resampling=res_stategy,\n",
    "            window=window,\n",
    "            masked=True,\n",
    "            boundless=True,\n",
    "            fill_value=0,\n",
    "        )\n",
    "\n",
    "        # Affine transformation - respects the resampling\n",
    "        res_affine = src.window_transform(window) * src.transform.scale(1 /\n",
    "                                                                        resample_factor)\n",
    "\n",
    "    return raster_rescaled, res_affine"
   ]
  },
  {
   "cell_type": "markdown",
   "metadata": {},
   "source": [
    "To demonstrate the functionality up until now, we will load the population raster two\n",
    "times. Once the whole raster tile, but downscaled by a factor of 10. We do not need\n",
    "the full resolution for the whole tile, and it would take too long to load.\n",
    "Secondly, we will load a window of the raster, unscaled."
   ]
  },
  {
   "cell_type": "code",
   "execution_count": null,
   "metadata": {
    "ExecuteTime": {
     "end_time": "2023-06-17T16:20:54.516411153Z",
     "start_time": "2023-06-17T16:20:50.398522639Z"
    }
   },
   "outputs": [],
   "source": [
    "def plot_tile_and_boundary(pop_file, boundary_gdf):\n",
    "    \"\"\"Plot the population raster tile and the boundary.\n",
    "    Only works for places in single tile.\"\"\"\n",
    "    pop_raster_downsampled, affine = resample_load_window(pop_file, 1/10,\n",
    "                                                   res_stategy=Resampling.average)\n",
    "    pop_raster_downsampled = pop_raster_downsampled / (1/10)**2  # for population conservation\n",
    "    fig, axes = plt.subplots(1, 2, figsize=(12, 6), width_ratios=[2, 1])\n",
    "    show(pop_raster_downsampled, ax=axes[0], norm=SymLogNorm(linthresh=5,\n",
    "                                                             linscale=1), transform=affine)\n",
    "    cbar = fig.colorbar(axes[0].get_images()[0], ax=axes[0])\n",
    "    cbar.ax.set_ylabel(\"Population per pixel\")\n",
    "    axes[0].set_title(\"Population around Bogotá\")\n",
    "    # Zoom in to Bogotá - linear scale\n",
    "    with rasterio.open(pop_file) as src:\n",
    "        window = src.window(*boundary_gdf.buffer(1000).total_bounds)\n",
    "    pop_raster_zoom, affine = resample_load_window(pop_file, window=window)\n",
    "    show(pop_raster_zoom, ax=axes[1], transform=affine)\n",
    "    cbar = fig.colorbar(axes[1].get_images()[0], ax=axes[1])\n",
    "    cbar.ax.set_ylabel(\"Population per pixel\")\n",
    "    boundary_gdf.boundary.plot(ax=axes[1], color=\"white\")\n",
    "    axes[1].set_xlim(boundary_gdf.total_bounds[0], boundary_gdf.total_bounds[2])\n",
    "    axes[1].set_ylim(boundary_gdf.total_bounds[1], boundary_gdf.total_bounds[3])\n",
    "    axes[1].set_title(\"Bogotá, Colombia\")\n",
    "    plt.tight_layout()\n",
    "    plt.show()\n",
    "\n",
    "plot_tile_and_boundary(file_colombia, bogota_gdf)"
   ]
  },
  {
   "cell_type": "markdown",
   "metadata": {},
   "source": [
    "In the whole tile we can see Bogotá as the largest urban area. Other than that,\n",
    "there is Santiago de Cali in the south-west of Bogotá, Medellín in the north-west,\n",
    "and further north-east Bucaramanga, Cúcuta, and San Cristóbal (Venezuela)."
   ]
  },
  {
   "cell_type": "code",
   "execution_count": null,
   "metadata": {
    "ExecuteTime": {
     "end_time": "2023-06-17T16:20:55.222153296Z",
     "start_time": "2023-06-17T16:20:54.516615352Z"
    }
   },
   "outputs": [],
   "source": [
    "# Just in testing notebook, not for resources\n",
    "# Testing the up-scaling with zoomed plot\n",
    "resample_factor = 2/1\n",
    "with rasterio.open(file_colombia) as src:\n",
    "    window = src.window(*bogota_gdf.buffer(100).total_bounds)\n",
    "pop_raster_zoom, affine_zoom = resample_load_window(\n",
    "    file_colombia,\n",
    "    window=window,\n",
    "    resample_factor=resample_factor,\n",
    "    res_stategy=Resampling.nearest\n",
    ")\n",
    "pop_raster_zoom = pop_raster_zoom / resample_factor**2\n",
    "\n",
    "fig, ax = plt.subplots(figsize=(6, 6))\n",
    "# plt.imshow(bogota_pop_raster, norm=SymLogNorm(linthresh=1, linscale=1))\n",
    "show(pop_raster_zoom, transform=affine_zoom, norm=SymLogNorm(linthresh=1,\n",
    "                                                            linscale=1), ax=ax)\n",
    "z = 20\n",
    "xdiff = bogota_gdf.total_bounds[2] - bogota_gdf.total_bounds[0]\n",
    "ydiff = bogota_gdf.total_bounds[3] - bogota_gdf.total_bounds[1]\n",
    "ax.set_xlim(bogota_gdf.total_bounds[0] + xdiff * (1/2 - z/100),\n",
    "            bogota_gdf.total_bounds[2] - xdiff * (1/2 - z/100))\n",
    "ax.set_ylim(bogota_gdf.total_bounds[1] + ydiff * (1/2 - z/200),\n",
    "            bogota_gdf.total_bounds[3] - ydiff * (1/2 - z/200))\n",
    "ax.set_title(\"Bogotá, Colombia\")\n",
    "plt.show()"
   ]
  },
  {
   "cell_type": "markdown",
   "metadata": {},
   "source": [
    "### Population Summation\n",
    "\n",
    "To sum up the population under a polygon, while respecting the population density,\n",
    "we use the `zonal_stats` function from the `rasterstats` package.\n",
    "We can use the `resample_load_window` function to load the raster for the polygon,\n",
    "possibly upscaled, and then use `zonal_stats` to sum up the population."
   ]
  },
  {
   "cell_type": "code",
   "execution_count": null,
   "metadata": {
    "ExecuteTime": {
     "end_time": "2023-06-17T16:20:55.322103008Z",
     "start_time": "2023-06-17T16:20:55.221800747Z"
    }
   },
   "outputs": [],
   "source": [
    "zs_bogota = zonal_stats(bogota_gdf, pop_raster_zoom, affine=affine_zoom,\n",
    "                        stats=\"sum\", nodata=0)\n",
    "zs_bogota"
   ]
  },
  {
   "cell_type": "code",
   "execution_count": null,
   "metadata": {
    "ExecuteTime": {
     "end_time": "2023-06-17T16:20:55.708785202Z",
     "start_time": "2023-06-17T16:20:55.323226977Z"
    }
   },
   "outputs": [],
   "source": [
    "file_all = \"../../data/ghsl/GHS_POP_E2025_GLOBE_R2023A_54009_100_V1_0.tif\"\n",
    "\n",
    "resample_factor = 2\n",
    "\n",
    "with rasterio.open(file_all) as src:\n",
    "    window = src.window(*bogota_gdf.buffer(100).total_bounds)\n",
    "\n",
    "pop_raster_zoom, affine_zoom = resample_load_window(\n",
    "    file_all,\n",
    "    window=window,\n",
    "    resample_factor=resample_factor,\n",
    "    res_stategy=Resampling.nearest\n",
    ")\n",
    "pop_raster_zoom = pop_raster_zoom / resample_factor**2\n",
    "\n",
    "zonal_stats(bogota_gdf, pop_raster_zoom, affine=affine_zoom,\n",
    "                        stats=\"sum\", nodata=0)"
   ]
  },
  {
   "cell_type": "markdown",
   "metadata": {},
   "source": [
    "The urban population of Bogotá about 8 million, the metropolitan area has\n",
    "10 million inhabitants[^3]. This is a fitting result.\n",
    "\n",
    "Finally, we want to write a function that takes a polygon of a place as a\n",
    "GeoDataFrame, the population raster file, and a resample factor, and returns\n",
    "the population of the place.\n",
    "\n",
    "[^3]: Colaboradores de Wikipedia. Bogotá [en línea]. Wikipedia, La enciclopedia libre, 2023 [fecha de consulta: 4 de junio del 2023]. Disponible en <https://es.wikipedia.org/w/index.php?title=Bogot%C3%A1&oldid=151625853>."
   ]
  },
  {
   "cell_type": "code",
   "execution_count": null,
   "metadata": {
    "ExecuteTime": {
     "end_time": "2023-06-17T16:20:55.716701866Z",
     "start_time": "2023-06-17T16:20:55.714993419Z"
    }
   },
   "outputs": [],
   "source": [
    "def get_population(place_gdf, pop_raster_file, resample_factor=1):\n",
    "    \"\"\"Get the population for a place.\n",
    "\n",
    "    Parameters\n",
    "    ----------\n",
    "    place_gdf : GeoDataFrame\n",
    "        GeoDataFrame of the place.\n",
    "    pop_raster_file : str or list\n",
    "        Path to the population raster file(s).\n",
    "    resample_factor : float, optional\n",
    "        Factor to resample the raster by. The default is 1. Optimally an integer for\n",
    "        up-scaling.\n",
    "\n",
    "    Returns\n",
    "    -------\n",
    "    float\n",
    "        Population of the place.\n",
    "    \"\"\"\n",
    "    # Window of place, buffered by 100m\n",
    "    with rasterio.open(file_colombia) as src:\n",
    "        window = src.window(*place_gdf.buffer(100).total_bounds)\n",
    "        # Convert place to raster projection\n",
    "        place_gdf_raster_crs = place_gdf.to_crs(src.crs.data)\n",
    "    # Load population raster\n",
    "    pop_raster, affine = resample_load_window(\n",
    "        pop_raster_file, resample_factor, window=window,\n",
    "        res_stategy=Resampling.nearest if resample_factor >= 1 else Resampling.average)\n",
    "    pop_raster = pop_raster / resample_factor ** 2  # Correct for resampling\n",
    "\n",
    "    # Get population\n",
    "    zs_place = zonal_stats(place_gdf_raster_crs, pop_raster, affine=affine,\n",
    "                           stats=\"sum\", nodata=0)\n",
    "    # Plot population raster with place boundary\n",
    "    _, axe = plt.subplots(figsize=(6, 6))\n",
    "    show(pop_raster, ax=axe, transform=affine, norm=SymLogNorm(linthresh=10,\n",
    "                                                               linscale=1))\n",
    "    cbar = plt.colorbar(axe.get_images()[0], ax=axe)\n",
    "    cbar.ax.set_ylabel(\"Population per pixel\")\n",
    "    place_gdf_raster_crs.boundary.plot(ax=axe, color=\"white\")\n",
    "\n",
    "    return zs_place[0][\"sum\"]"
   ]
  },
  {
   "cell_type": "code",
   "execution_count": null,
   "metadata": {
    "ExecuteTime": {
     "end_time": "2023-06-17T16:20:56.445141210Z",
     "start_time": "2023-06-17T16:20:55.718623320Z"
    }
   },
   "outputs": [],
   "source": [
    "# Get population of Bogotá\n",
    "get_population(bogota_gdf, file_colombia)"
   ]
  },
  {
   "cell_type": "markdown",
   "metadata": {},
   "source": [
    "This result differs a bit from the first one, as we do not use resampling in this\n",
    "function. The difference is of numerical nature. For our application with small LTNs,\n",
    "we need the up-scaling to get good estimates of the population in the LTNs."
   ]
  },
  {
   "cell_type": "markdown",
   "metadata": {},
   "source": [
    "### Places on tile edges\n",
    "\n",
    "The `get_population` function works well for places that are fully contained\n",
    "in one tile. However, for places that are on the edge of a tile, the function\n",
    "will not work. As a solution, we resort to the simple approach of running the\n",
    "function for each tile and summing it up.\n",
    "One such example is the city of Jönköping in Sweden, it falls on two tiles."
   ]
  },
  {
   "cell_type": "code",
   "execution_count": null,
   "metadata": {
    "ExecuteTime": {
     "end_time": "2023-06-17T16:20:56.448460196Z",
     "start_time": "2023-06-17T16:20:56.444955026Z"
    }
   },
   "outputs": [],
   "source": [
    "def get_population(place_gdf, pop_raster_files, resample_factor=1, place_name=None):\n",
    "    \"\"\"Get the population for a place.\n",
    "\n",
    "    Parameters\n",
    "    ----------\n",
    "    place_gdf : GeoDataFrame\n",
    "        GeoDataFrame of the place.\n",
    "    pop_raster_files : str or list\n",
    "        Path to the population raster file(s).\n",
    "    resample_factor : float, optional\n",
    "        Factor to resample the raster by. The default is 1. Optimally an integer for\n",
    "        up-scaling.\n",
    "    place_name : str, optional\n",
    "        Name of the place. The default is None.\n",
    "\n",
    "    Returns\n",
    "    -------\n",
    "    float\n",
    "        Population of the place.\n",
    "    \"\"\"\n",
    "    fig, axe = plt.subplots(figsize=(6, 6))\n",
    "    pop_sum = 0\n",
    "    for pop_raster_file in pop_raster_files if isinstance(pop_raster_files, list) else [pop_raster_files]:\n",
    "        # Window of place, buffered by 100m\n",
    "        with rasterio.open(pop_raster_file) as src:\n",
    "            window = src.window(*place_gdf.buffer(100).total_bounds)\n",
    "            # Convert place to raster projection\n",
    "            place_gdf_raster_crs = place_gdf.to_crs(src.crs.data)\n",
    "            # Cut off window to raster extent - for the case of places on the edge of a tile\n",
    "            window = window.intersection(src.window(*src.bounds))\n",
    "        # Load population raster\n",
    "        pop_raster, affine = resample_load_window(\n",
    "            pop_raster_file, resample_factor, window=window,\n",
    "            res_stategy=Resampling.nearest if resample_factor >= 1 else Resampling.average)\n",
    "        pop_raster = pop_raster / resample_factor ** 2  # Correct for resampling\n",
    "        # Set masked values to 0\n",
    "        pop_raster = pop_raster.filled(0)\n",
    "        # Get population\n",
    "        zs_place = zonal_stats(place_gdf_raster_crs, pop_raster, affine=affine,\n",
    "                               stats=\"sum\", nodata=0)\n",
    "        pop_sum += zs_place[0][\"sum\"]\n",
    "        # Plot population raster with place boundary\n",
    "        show(pop_raster, ax=axe, transform=affine, norm=SymLogNorm(linthresh=5,\n",
    "                                                                   linscale=1))\n",
    "\n",
    "    cbar = plt.colorbar(axe.get_images()[0], ax=axe)\n",
    "    cbar.ax.set_ylabel(\"Population per pixel\")\n",
    "    place_gdf_raster_crs.boundary.plot(ax=axe, color=\"white\")\n",
    "    if place_name:\n",
    "        fig.suptitle(place_name)\n",
    "    # title with population\n",
    "    axe.set_title(f\"Population: {pop_sum:.0f}\")\n",
    "    plt.tight_layout()\n",
    "    plt.show()\n",
    "    return pop_sum"
   ]
  },
  {
   "cell_type": "code",
   "execution_count": null,
   "metadata": {
    "ExecuteTime": {
     "end_time": "2023-06-17T16:20:57.041306790Z",
     "start_time": "2023-06-17T16:20:56.451639674Z"
    }
   },
   "outputs": [],
   "source": [
    "def get_population_from_query(query):\n",
    "    place_gdf = ox.geocode_to_gdf(query)\n",
    "    place_gdf = place_gdf.to_crs(\"World Mollweide\")\n",
    "    place_url = get_GHSL_urls(list(place_gdf.bounds.values[0]))\n",
    "    files_place = download_GHSL(urls=place_url)\n",
    "    return get_population(place_gdf, files_place, place_name=query)"
   ]
  },
  {
   "cell_type": "code",
   "execution_count": null,
   "metadata": {
    "ExecuteTime": {
     "end_time": "2023-06-17T16:21:09.362685007Z",
     "start_time": "2023-06-17T16:20:57.040103976Z"
    }
   },
   "outputs": [],
   "source": [
    "# Get population of Jönköping\n",
    "get_population_from_query(\"Jönköping, Sweden\")"
   ]
  },
  {
   "cell_type": "code",
   "execution_count": null,
   "metadata": {
    "ExecuteTime": {
     "end_time": "2023-06-17T16:21:09.679988048Z",
     "start_time": "2023-06-17T16:21:09.365985966Z"
    }
   },
   "outputs": [],
   "source": [
    "# To find out a place with four tiles, show the grid points\n",
    "import numpy as np\n",
    "from shapely.geometry import Point\n",
    "from geopandas import GeoDataFrame\n",
    "y = np.arange(-80e5, 80e5, 10e5)\n",
    "x = np.arange(-170.41e5, 170.59e5, 10e5)\n",
    "# for ech point combination xy, check if is a valid World Molleweide coordinate\n",
    "points = []\n",
    "for i in range(len(y)):\n",
    "    lat = np.arcsin(y[i] / 6371000) * 180 / np.pi\n",
    "    for j in range(len(x)):\n",
    "        lon = x[j] / (6371000 * np.cos(lat * np.pi / 180)) * 180 / np.pi\n",
    "        if np.isnan(lon) == False and np.isnan(lat) == False and 90 > lat > -90 and \\\n",
    "                170 > lon > -170:\n",
    "            points.append(Point(x[j], y[i]))\n",
    "points_gdf = GeoDataFrame(geometry=points, crs=\"World Mollweide\")\n",
    "points_gdf.explore()"
   ]
  },
  {
   "cell_type": "markdown",
   "metadata": {},
   "source": [
    "To have an example on an intersection of four tiles, we use the city of\n",
    "Pontianak, West Kalimantan, Indonesia."
   ]
  },
  {
   "cell_type": "code",
   "execution_count": null,
   "metadata": {
    "ExecuteTime": {
     "end_time": "2023-06-17T16:21:24.997755398Z",
     "start_time": "2023-06-17T16:21:09.678831278Z"
    }
   },
   "outputs": [],
   "source": [
    "get_population_from_query(\"Pontianak, West Kalimantan, Indonesia\")"
   ]
  },
  {
   "cell_type": "markdown",
   "metadata": {},
   "source": [
    "## Comparison\n",
    "\n",
    "To test the approach, we want to compare several places with official population\n",
    "data. Comparison data is taken from the\n",
    "[World Population Review](https://worldpopulationreview.com/world-cities), which\n",
    "sources from the [United Nations population estimates](https://esa.un.org/unpd/wup/)."
   ]
  },
  {
   "cell_type": "code",
   "execution_count": null,
   "metadata": {
    "ExecuteTime": {
     "start_time": "2023-06-17T16:21:24.999840265Z"
    }
   },
   "outputs": [],
   "source": [
    "cities = [\n",
    "    [\"Delhi\", \"India\", 32941308],\n",
    "    [\"Dhaka\", \"Bangladesh\", 23209616],\n",
    "    [\"Cairo\", \"Egypt\", 22183200],\n",
    "    [\"Seoul\", \"South Korea\", 9988049],\n",
    "    [\"Alexandria\", \"Egypt\", 5588477],\n",
    "    [\"Ankara\", \"Turkey\", 5397098],\n",
    "    [\"Kiev\", \"Ukraine\", 3016789],\n",
    "    [\"Port Au Prince\", \"Haiti\", 2987455],\n",
    "    [\"Beirut\", \"Lebanon\", 2421354],\n",
    "    [\"Naples\", \"Italy\", 2179384],\n",
    "    [\"Frankfurt\", \"Germany\", 796437]\n",
    "]\n",
    "for city in cities:\n",
    "    print(f\"{city[0]}, {city[1]}: {city[2]}\")\n",
    "    try:\n",
    "        city.append(get_population_from_query(f\"{city[0]}, {city[1]}\"))\n",
    "        # Append relative difference\n",
    "        city.append((city[2] - city[3]) / city[2] * 100)\n",
    "    except:\n",
    "        cities.remove(city)"
   ]
  },
  {
   "cell_type": "code",
   "execution_count": null,
   "metadata": {},
   "outputs": [],
   "source": [
    "import pandas as pd\n",
    "#  Sort df after relative difference\n",
    "df = pd.DataFrame(cities, columns=[\"city\", \"country\", \"population\",\n",
    "                                   \"predicted_population\", \"rel_diff\"])\n",
    "display(df.sort_values(by=\"rel_diff\"))"
   ]
  },
  {
   "cell_type": "code",
   "execution_count": null,
   "metadata": {},
   "outputs": [],
   "source": [
    "plt.scatter(df[\"population\"], df[\"rel_diff\"])\n",
    "plt.xscale(\"log\")\n",
    "plt.xlabel(\"Population\")\n",
    "plt.ylabel(\"Relative difference to predicition [%]\")\n",
    "plt.grid()\n",
    "plt.show()"
   ]
  },
  {
   "cell_type": "markdown",
   "metadata": {},
   "source": [
    "We see clear differences between the predicted and the official population.\n",
    "More importantly, the predictions are always in the same order of magnitude.\n",
    "The differences are due to the difference in character of the data sources.\n",
    "While the official numbers are based on the governmental census, the predictions\n",
    "might use a different border for the city, which is likely to cut off some, or\n",
    "include some rural areas. Regarding this, the result is acceptable, especially\n",
    "with the context that we will use it for small LTNs and only as a rough approximation\n",
    "of the population and population density."
   ]
  }
 ],
 "metadata": {
  "kernelspec": {
   "display_name": "sb_env",
   "language": "python",
   "name": "sb_env"
  },
  "language_info": {
   "codemirror_mode": {
    "name": "ipython",
    "version": 3
   },
   "file_extension": ".py",
   "mimetype": "text/x-python",
   "name": "python",
   "nbconvert_exporter": "python",
   "pygments_lexer": "ipython3",
   "version": "3.12.3"
  }
 },
 "nbformat": 4,
 "nbformat_minor": 4
}
