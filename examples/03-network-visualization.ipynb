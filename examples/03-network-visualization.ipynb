{
 "cells": [
  {
   "attachments": {
    "8a415f1d-cfcf-4c3e-9078-13167177082e.png": {
     "image/png": "[encoded data removed]"
    }
   },
   "cell_type": "markdown",
   "metadata": {},
   "source": [
    "![superblockify_logo.png](attachment:8a415f1d-cfcf-4c3e-9078-13167177082e.png)"
   ]
  },
  {
   "cell_type": "markdown",
   "metadata": {},
   "source": [
    "More info: [superblockify.city](https://superblockify.city)"
   ]
  },
  {
   "cell_type": "markdown",
   "metadata": {},
   "source": [
    "# Network visualization\n",
    "This notebook creates figures visualizing street networks with Superblocks and routing.\n",
    "\n",
    "## 1. Build up\n",
    "\n",
    "Build up animation for the graph representation.\n",
    "\n",
    "Plot Ludgeri-Kreisel, Münster, Germany in the following steps:\n",
    "\n",
    "1. Only base map\n",
    "2. Add the nodes\n",
    "3. Add the edges\n",
    "4. Add the labels\n",
    "   Edge coloring based on residential tag"
   ]
  },
  {
   "cell_type": "code",
   "execution_count": null,
   "metadata": {
    "ExecuteTime": {
     "end_time": "2023-04-11T17:34:50.853777Z",
     "start_time": "2023-04-11T17:34:38.404013Z"
    }
   },
   "outputs": [],
   "source": [
    "import contextily as ctx\n",
    "import matplotlib.pyplot as plt\n",
    "import osmnx as ox"
   ]
  },
  {
   "cell_type": "code",
   "execution_count": null,
   "metadata": {
    "ExecuteTime": {
     "end_time": "2023-04-11T17:34:52.104565Z",
     "start_time": "2023-04-11T17:34:50.865632Z"
    }
   },
   "outputs": [],
   "source": [
    "# Bounding box for the concerned area - north, south, east, west\n",
    "# bbox finder: https://norbertrenner.de/osm/bbox.html\n",
    "bbox = (51.95809, 51.95388, 7.63017, 7.6256)\n",
    "buffer = 0.005\n",
    "bbox_buffered = (bbox[0] + buffer, bbox[1] - buffer, bbox[2] + buffer, bbox[3] - buffer)\n",
    "\n",
    "# Get the graph\n",
    "G = ox.graph_from_bbox(*bbox_buffered, network_type='drive')\n",
    "\n",
    "# Undirected graph\n",
    "G = G.to_undirected()\n",
    "\n",
    "# Project to CRS 3857\n",
    "G = ox.project_graph(G, to_crs=3857)"
   ]
  },
  {
   "cell_type": "code",
   "execution_count": null,
   "metadata": {
    "ExecuteTime": {
     "end_time": "2023-04-11T17:34:52.129847Z",
     "start_time": "2023-04-11T17:34:52.107271Z"
    }
   },
   "outputs": [],
   "source": [
    "# To Geodataframe\n",
    "nodes, edges = ox.graph_to_gdfs(G)\n",
    "# Make bounding box from projected nodes\n",
    "bbox_projected = nodes.total_bounds\n",
    "# smaller bbox by zoom_factor\n",
    "zoom_factor = 0.4\n",
    "bbox_projected = (\n",
    "    bbox_projected[0] + (bbox_projected[2] - bbox_projected[0]) * (1 - zoom_factor) / 2,\n",
    "    bbox_projected[1] + (bbox_projected[3] - bbox_projected[1]) * (1 - zoom_factor) / 2,\n",
    "    bbox_projected[2] - (bbox_projected[2] - bbox_projected[0]) * (1 - zoom_factor) / 2,\n",
    "    bbox_projected[3] - (bbox_projected[3] - bbox_projected[1]) * (1 - zoom_factor) / 2)\n",
    "# color edges by residential tag\n",
    "edges['color'] = edges['highway'].apply(lambda x: str(x))"
   ]
  },
  {
   "cell_type": "code",
   "execution_count": null,
   "metadata": {
    "ExecuteTime": {
     "end_time": "2023-04-11T17:34:52.192873Z",
     "start_time": "2023-04-11T17:34:52.128980Z"
    }
   },
   "outputs": [],
   "source": [
    "def make_buildup_plot(source, node_alpha, edge_alpha, filename,\n",
    "                      node_color='black', edge_color='cornflowerblue',\n",
    "                      edge_column=None, edge_categorical=None):\n",
    "    # Setup the figure\n",
    "    fig, ax = plt.subplots(1, 1, figsize=(6, 10))\n",
    "    # set x and y limits\n",
    "    ax.set_xlim(bbox_projected[0], bbox_projected[2])\n",
    "    ax.set_ylim(bbox_projected[1], bbox_projected[3])\n",
    "\n",
    "    # Add intersection nodes\n",
    "    nodes.plot(ax=ax, markersize=45, color=node_color, zorder=3, alpha=node_alpha)\n",
    "\n",
    "    # Add street edges\n",
    "    edges.plot(ax=ax, linewidth=2.5, color=edge_color, zorder=1, alpha=edge_alpha,\n",
    "               column=edge_column, categorical=edge_categorical)\n",
    "\n",
    "    # Add base map\n",
    "    ctx.add_basemap(ax, source=source)\n",
    "\n",
    "    # Show the figure\n",
    "    ax.set_axis_off()\n",
    "    plt.savefig(filename, bbox_inches='tight', pad_inches=0)"
   ]
  },
  {
   "cell_type": "code",
   "execution_count": null,
   "metadata": {
    "ExecuteTime": {
     "end_time": "2023-04-11T17:35:01.401489Z",
     "start_time": "2023-04-11T17:34:52.198244Z"
    }
   },
   "outputs": [],
   "source": [
    "make_buildup_plot(ctx.providers.OpenStreetMap.DE, 0.0, 0.0, 'buildup_ludgeri_0.pdf')\n",
    "make_buildup_plot(ctx.providers.CartoDB.Positron, 1.0, 0.0, 'buildup_ludgeri_1.pdf')\n",
    "make_buildup_plot(ctx.providers.CartoDB.Positron, 1.0, 1.0, 'buildup_ludgeri_2.pdf')\n",
    "make_buildup_plot(ctx.providers.CartoDB.Positron, 1.0, 1.0, 'buildup_ludgeri_3.pdf',\n",
    "                  edge_color=None, edge_column='color', edge_categorical=True)"
   ]
  },
  {
   "cell_type": "markdown",
   "metadata": {},
   "source": [
    "## 2. Routing\n",
    "\n",
    "Scheveningen, NL\n",
    "\n",
    "1. Wide map with network and base map\n",
    "2. Mark two nodes\n",
    "3. Add shortest path\n",
    "4. Sparsified network (edges with residential tag)\n",
    "5. Shortest path on sparsified network"
   ]
  },
  {
   "cell_type": "code",
   "execution_count": null,
   "metadata": {
    "ExecuteTime": {
     "end_time": "2023-04-11T17:35:01.443998Z",
     "start_time": "2023-04-11T17:35:01.398324Z"
    }
   },
   "outputs": [],
   "source": [
    "import superblockify as sb\n",
    "\n",
    "PLACE = ('Scheveningen',\n",
    "         [\n",
    "             'Scheveningen, The Hague, Netherlands',\n",
    "             'Centrum, The Hague, Netherlands',\n",
    "             # buffering, so we not only see Scheveningen\n",
    "             'Haagse Hout, The Hague, Netherlands',\n",
    "             'Segbroek, The Hague, Netherlands',\n",
    "         ]\n",
    "         )"
   ]
  },
  {
   "cell_type": "code",
   "execution_count": null,
   "metadata": {
    "ExecuteTime": {
     "end_time": "2023-04-11T17:02:35.029497Z",
     "start_time": "2023-04-11T17:01:54.354002Z"
    },
    "pycharm": {
     "is_executing": true
    }
   },
   "outputs": [],
   "source": [
    "# This will open a data folder in the current directory\n",
    "part = sb.ResidentialPartitioner(name=\"Scheveningen_Notebook\",\n",
    "                                 city_name=PLACE[0],\n",
    "                                 search_str=PLACE[1],\n",
    "                                 )\n",
    "part.run(calculate_metrics=True, make_plots=False)\n",
    "sb.save_to_gpkg(part, \"Scheveningen_Notebook.gpkg\")\n",
    "part.save(save_graph_copy=True)"
   ]
  },
  {
   "cell_type": "code",
   "execution_count": null,
   "metadata": {
    "ExecuteTime": {
     "end_time": "2023-04-11T17:35:03.565184Z",
     "start_time": "2023-04-11T17:35:01.427535Z"
    }
   },
   "outputs": [],
   "source": [
    "part = sb.ResidentialPartitioner.load(\"Scheveningen_Notebook\")\n",
    "nodes, edges = ox.graph_to_gdfs(part.graph)\n",
    "nodes, edges = ox.project_gdf(nodes, to_crs=3857), ox.project_gdf(edges, to_crs=3857)"
   ]
  },
  {
   "cell_type": "code",
   "execution_count": null,
   "metadata": {
    "ExecuteTime": {
     "end_time": "2023-04-11T17:41:42.101224Z",
     "start_time": "2023-04-11T17:41:42.065998Z"
    }
   },
   "outputs": [],
   "source": [
    "def reconstruct_path(pred, start, end):\n",
    "    \"\"\"Reconstruct path from predecessor matrix.\"\"\"\n",
    "    if start == end:\n",
    "        return []\n",
    "    prev = pred[start]\n",
    "    curr = prev[end]\n",
    "    path = [end, curr]\n",
    "    while curr != start:\n",
    "        curr = prev[curr]\n",
    "        path.append(curr)\n",
    "    return list(reversed(path))"
   ]
  },
  {
   "cell_type": "code",
   "execution_count": null,
   "metadata": {
    "ExecuteTime": {
     "end_time": "2023-04-11T18:29:14.745992Z",
     "start_time": "2023-04-11T18:28:54.058144Z"
    }
   },
   "outputs": [],
   "source": [
    "def make_routing_plot(filename,\n",
    "                      pred_type=None, start_end_markers=False,\n",
    "                      cmap=None,\n",
    "                      node_alpha=0.0, edge_alpha=1.0,\n",
    "                      node_color='black', edge_color=None,\n",
    "                      edge_column=None, edge_categorical=None,\n",
    "                      source=ctx.providers.CartoDB.Positron\n",
    "                      ):\n",
    "    # Setup the figure\n",
    "    fig, ax = plt.subplots(1, 1, figsize=(18, 12))\n",
    "    # Add intersection nodes\n",
    "    nodes.plot(ax=ax, markersize=2, color=node_color, zorder=3, alpha=node_alpha)\n",
    "\n",
    "    # Add street edges\n",
    "    edges.plot(ax=ax, linewidth=1, color=edge_color, zorder=1, alpha=edge_alpha,\n",
    "               column=edge_column, categorical=edge_categorical, cmap=cmap)\n",
    "    # plot sparsified edges over the original edges, where classification is SPARSE\n",
    "    edges[edges['classification'] == 'SPARSE'].plot(ax=ax, linewidth=1,\n",
    "                                                    color='black', zorder=2,\n",
    "                                                    alpha=edge_alpha)\n",
    "\n",
    "    # Routing\n",
    "    from_id, to_id = 2192471779, 1434814616\n",
    "    # osm ids are not stable, select in interactive map, next cell\n",
    "    if start_end_markers:\n",
    "        # Mark start and end node\n",
    "        # start node as green flag pictogram\n",
    "        nodes[nodes.index.isin([from_id])].plot(ax=ax, markersize=100,\n",
    "                                                color='green', zorder=5,\n",
    "                                                marker='^')\n",
    "        # end node as red flag pictogram\n",
    "        nodes[nodes.index.isin([to_id])].plot(ax=ax, markersize=100,\n",
    "                                              color='darkred', zorder=5,\n",
    "                                              marker='v')\n",
    "    if pred_type in [\"S\", \"N\"]:\n",
    "        # shortest path on original graph\n",
    "        path_direct = reconstruct_path(part.metric.predecessor_matrix[pred_type],\n",
    "                                       part.metric.node_list.index(from_id),\n",
    "                                       part.metric.node_list.index(to_id))\n",
    "        # translate to osm ids\n",
    "        path_direct = [part.metric.node_list[i] for i in path_direct]\n",
    "        # get edges of part.graph on the path\n",
    "        path_edges = [(u, v, 0) for u, v in zip(path_direct[:-1], path_direct[1:])]\n",
    "        # gdf of edges\n",
    "        path_edges = ox.graph_to_gdfs(part.graph.edge_subgraph(path_edges), nodes=False)\n",
    "        # project\n",
    "        path_edges = ox.project_gdf(path_edges, to_crs=3857)\n",
    "        # sum of lengths\n",
    "        print(f\"Length of shortest path: {path_edges['length'].sum():.2f} m\")\n",
    "        # plot the shortest path\n",
    "        path_edges.plot(ax=ax, linewidth=3, color='crimson', zorder=4, alpha=1.0)\n",
    "\n",
    "    # Add base map\n",
    "    ctx.add_basemap(ax, source=source)\n",
    "\n",
    "    # Set lims dependent on the current limits\n",
    "    xlim = ax.get_xlim()\n",
    "    ylim = ax.get_ylim()\n",
    "    ax.set_xlim(xlim[0] + (xlim[1] - xlim[0]) * 0.0,\n",
    "                xlim[1] - (xlim[1] - xlim[0]) * 0.25)\n",
    "    ax.set_ylim(ylim[0] + (ylim[1] - ylim[0]) * 0.45,\n",
    "                ylim[1] - (ylim[1] - ylim[0]) * 0.0)\n",
    "    # Show the figure\n",
    "    ax.set_axis_off()\n",
    "    plt.savefig(filename, bbox_inches='tight', pad_inches=0)\n",
    "\n",
    "\n",
    "# Base map\n",
    "make_routing_plot('routing_scheveningen_0.pdf', edge_alpha=0.0,\n",
    "                  source=ctx.providers.OpenStreetMap.DE)\n",
    "\n",
    "# Show start and end node\n",
    "make_routing_plot('routing_scheveningen_1.pdf', edge_color='black',\n",
    "                  start_end_markers=True, edge_alpha=0.5)\n",
    "\n",
    "# Start and end with direct path\n",
    "make_routing_plot('routing_scheveningen_2.pdf', start_end_markers=True,\n",
    "                  pred_type=\"S\", edge_alpha=0.5, edge_color='black')\n",
    "\n",
    "# Residential roads colored\n",
    "make_routing_plot('routing_scheveningen_3.pdf', start_end_markers=True,\n",
    "                  edge_color='cornflowerblue', edge_alpha=0.5)\n",
    "\n",
    "# Start and end with restricted path\n",
    "make_routing_plot('routing_scheveningen_4.pdf', start_end_markers=True,\n",
    "                  pred_type=\"N\", edge_color='cornflowerblue', edge_alpha=0.5)\n",
    "\n",
    "# Start and end with restricted path and classification\n",
    "make_routing_plot('routing_scheveningen_5.pdf', start_end_markers=True,\n",
    "                  pred_type=\"N\", edge_column='classification', edge_alpha=1.0,\n",
    "                  edge_categorical=True)"
   ]
  },
  {
   "cell_type": "code",
   "execution_count": null,
   "metadata": {
    "ExecuteTime": {
     "end_time": "2023-04-11T17:14:14.457229Z",
     "start_time": "2023-04-11T17:14:13.860632Z"
    }
   },
   "outputs": [],
   "source": [
    "# interactive folium map to find out node ids\n",
    "nodes.explore()"
   ]
  }
 ],
 "metadata": {
  "kernelspec": {
   "display_name": "sb_env",
   "language": "python",
   "name": "sb_env"
  },
  "language_info": {
   "codemirror_mode": {
    "name": "ipython",
    "version": 3
   },
   "file_extension": ".py",
   "mimetype": "text/x-python",
   "name": "python",
   "nbconvert_exporter": "python",
   "pygments_lexer": "ipython3",
   "version": "3.12.3"
  }
 },
 "nbformat": 4,
 "nbformat_minor": 4
}
