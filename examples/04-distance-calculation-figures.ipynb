{
 "cells": [
  {
   "attachments": {
    "8a415f1d-cfcf-4c3e-9078-13167177082e.png": {
     "image/png": "[encoded data removed]"
    }
   },
   "cell_type": "markdown",
   "metadata": {},
   "source": [
    "![superblockify_logo.png](attachment:8a415f1d-cfcf-4c3e-9078-13167177082e.png)"
   ]
  },
  {
   "cell_type": "markdown",
   "metadata": {},
   "source": [
    "More info: [superblockify.city](https://superblockify.city)"
   ]
  },
  {
   "cell_type": "markdown",
   "metadata": {},
   "source": [
    "# Distance calculation figures\n",
    "\n",
    "This notebook creates figures to illustrate the distance calculation."
   ]
  },
  {
   "cell_type": "code",
   "execution_count": null,
   "metadata": {
    "ExecuteTime": {
     "end_time": "2023-04-11T20:45:45.054777Z",
     "start_time": "2023-04-11T20:45:44.992103Z"
    }
   },
   "outputs": [],
   "source": [
    "from itertools import combinations\n",
    "\n",
    "import networkx as nx\n",
    "import numpy as np\n",
    "from matplotlib import pyplot as plt\n",
    "from scipy.sparse import csr_matrix"
   ]
  },
  {
   "cell_type": "markdown",
   "metadata": {},
   "source": [
    "Graph:"
   ]
  },
  {
   "cell_type": "code",
   "execution_count": null,
   "metadata": {
    "ExecuteTime": {
     "end_time": "2023-04-11T20:44:48.700959Z",
     "start_time": "2023-04-11T20:44:48.637955Z"
    }
   },
   "outputs": [],
   "source": [
    "# Create planar graph, similar to a street network\n",
    "G_2 = nx.DiGraph(nx.Graph(\n",
    "    [\n",
    "        (10, 11, {\"weight\": 1}),\n",
    "        (11, 12, {\"weight\": 1}),\n",
    "        (12, 13, {\"weight\": 1}),\n",
    "        (13, 0, {\"weight\": 1.5}),\n",
    "        (13, 14, {\"weight\": 1}),\n",
    "        (14, 0, {\"weight\": 1}),\n",
    "        (0, 10, {\"weight\": 1}),\n",
    "        (0, 1, {\"weight\": 1}),\n",
    "        (10, 1, {\"weight\": 1}),\n",
    "        (1, 2, {\"weight\": 1}),\n",
    "        (2, 3, {\"weight\": 1}),\n",
    "        (3, 4, {\"weight\": 1.5}),\n",
    "        (4, 5, {\"weight\": 1}),\n",
    "        (5, 9, {\"weight\": 1}),\n",
    "        (5, 6, {\"weight\": 1}),\n",
    "        (7, 2, {\"weight\": 1}),\n",
    "        (8, 7, {\"weight\": 0.5}),\n",
    "        (7, 1, {\"weight\": 1}),\n",
    "        (8, 9, {\"weight\": 0.7}),\n",
    "        (6, 9, {\"weight\": 1}),\n",
    "        (8, 4, {\"weight\": 1}),\n",
    "        (9, 1, {\"weight\": 1}),\n",
    "        (0, 18, {\"weight\": 0.4}),\n",
    "        (18, 2, {\"weight\": 0.4}),\n",
    "        (6, 15, {\"weight\": 0.8}),\n",
    "        (15, 16, {\"weight\": 1}),\n",
    "        (16, 17, {\"weight\": 1}),\n",
    "        (17, 6, {\"weight\": 1}),\n",
    "    ]\n",
    "))\n",
    "n_sparse = [0, 1, 2, 3, 4, 5, 6]\n",
    "partitions = {\n",
    "    \"sparsified\":\n",
    "        {\"nodes\": n_sparse, \"color\": \"black\", \"subgraph\": G_2.subgraph(n_sparse)},\n",
    "    \"G_r\": {\"nodes\": [7, 8, 9], \"color\": \"crimson\"},\n",
    "    \"G_g\": {\"nodes\": [10, 11, 12, 13, 14], \"color\": \"mediumseagreen\"},\n",
    "    \"G_b\": {\"nodes\": [15, 16, 17], \"color\": \"dodgerblue\"},\n",
    "    \"G_o\": {\"nodes\": [18], \"color\": \"darkorange\"},\n",
    "}\n",
    "for name, part in partitions.items():\n",
    "    if \"subgraph\" not in part:\n",
    "        # subgraph for all edges from or to nodes in partition\n",
    "        part[\"subgraph\"] = G_2.edge_subgraph(\n",
    "            [(u, v) for u, v in G_2.edges if u in part[\"nodes\"] or v in part[\"nodes\"]]\n",
    "        )\n",
    "    part[\"nodelist\"] = part[\"subgraph\"].nodes\n",
    "    for node in part[\"nodes\"]:\n",
    "        G_2.nodes[node][\"partition\"] = part[\"color\"]"
   ]
  },
  {
   "cell_type": "code",
   "execution_count": null,
   "metadata": {
    "ExecuteTime": {
     "end_time": "2023-04-11T20:51:50.994536Z",
     "start_time": "2023-04-11T20:51:50.959548Z"
    }
   },
   "outputs": [],
   "source": [
    "node_order = list(sorted(G_2.nodes))\n",
    "n_sparse_indices = [node_order.index(n) for n in n_sparse]\n",
    "part_name_order = [name for name in partitions.keys() if name != \"sparsified\"]\n",
    "n_partition_indices_separate = [\n",
    "    [node_order.index(n) for n in partitions[name][\"nodes\"]] for name in\n",
    "    part_name_order\n",
    "]\n",
    "n_partition_indices = [n for part in n_partition_indices_separate for n in part]\n",
    "node_order, n_sparse_indices, part_name_order, n_partition_indices_separate, \\\n",
    "    n_partition_indices"
   ]
  },
  {
   "cell_type": "code",
   "execution_count": null,
   "metadata": {
    "ExecuteTime": {
     "end_time": "2023-04-11T20:57:48.714445Z",
     "start_time": "2023-04-11T20:57:48.646836Z"
    }
   },
   "outputs": [],
   "source": [
    "[G_2.nodes[n][\"partition\"] for n in G_2.nodes]\n",
    "# now sorted after node_order\n",
    "[G_2.nodes[n][\"partition\"] for n in node_order]"
   ]
  },
  {
   "cell_type": "code",
   "execution_count": null,
   "metadata": {
    "ExecuteTime": {
     "end_time": "2023-04-11T21:20:27.064004Z",
     "start_time": "2023-04-11T21:20:25.128955Z"
    }
   },
   "outputs": [],
   "source": [
    "\n",
    "def plot_graph_seimpermeable(filepath, permitting=None):\n",
    "    # Node positions\n",
    "    pos = nx.kamada_kawai_layout(G_2)\n",
    "\n",
    "    g_filtered = G_2.copy()\n",
    "\n",
    "    g_filtered = nx.to_scipy_sparse_array(g_filtered, nodelist=node_order,\n",
    "                                          format=\"coo\")\n",
    "    data, row, col = g_filtered.data, g_filtered.row, g_filtered.col\n",
    "    # Remove edges between different partitions\n",
    "    # (col, row in separate n_partition_indices_separate)\n",
    "    for n_ind_1, n_ind_2 in combinations(n_partition_indices_separate, 2):\n",
    "        mask = np.logical_and(np.isin(row, n_ind_1), np.isin(col, n_ind_2))\n",
    "        mask = np.logical_or(mask,\n",
    "                             np.logical_and(np.isin(row, n_ind_2),\n",
    "                                            np.isin(col, n_ind_1)))\n",
    "        data, row, col = data[~mask], row[~mask], col[~mask]\n",
    "\n",
    "    # Remove edges from partition to sparse\n",
    "    if permitting == 'in':\n",
    "        mask = np.logical_and(np.isin(row, n_partition_indices),\n",
    "                              np.isin(col, n_sparse_indices))\n",
    "    elif permitting == 'out':\n",
    "        mask = np.logical_and(np.isin(row, n_sparse_indices),\n",
    "                              np.isin(col, n_partition_indices))\n",
    "    data, row, col = data[~mask], row[~mask], col[~mask]\n",
    "    g_filtered = csr_matrix((data, (row, col)),\n",
    "                            shape=(len(node_order), len(node_order)))\n",
    "    g_filtered = nx.from_scipy_sparse_array(g_filtered, create_using=nx.DiGraph)\n",
    "    g_filtered = nx.relabel_nodes(g_filtered,\n",
    "                                  {i: n for i, n in enumerate(node_order)})\n",
    "\n",
    "    fig, ax = plt.subplots(figsize=(8, 8))\n",
    "    nx.draw_networkx(g_filtered, with_labels=True,\n",
    "                     node_color=[G_2.nodes[n][\"partition\"] for n in node_order],\n",
    "                     font_color=\"white\",\n",
    "                     pos=pos,\n",
    "                     ax=ax,\n",
    "                     width=2,\n",
    "                     arrowstyle=\"->\",\n",
    "                     arrowsize=15,\n",
    "                     connectionstyle=\"arc3,rad=0.1\",\n",
    "                     )\n",
    "    # Background transparent\n",
    "    fig.patch.set_alpha(0)\n",
    "    ax.patch.set_alpha(0)\n",
    "    # Remove axis\n",
    "    ax.axis(\"off\")\n",
    "    # Save\n",
    "    plt.savefig(filepath, transparent=True, bbox_inches=\"tight\")\n",
    "\n",
    "\n",
    "plot_graph_seimpermeable(\"buildup_dist_calculation.pdf\")\n",
    "plot_graph_seimpermeable(\"buildup_dist_calculation_in.pdf\", permitting='in')\n",
    "plot_graph_seimpermeable(\"buildup_dist_calculation_out.pdf\", permitting='out')"
   ]
  }
 ],
 "metadata": {
  "kernelspec": {
   "display_name": "sb_env",
   "language": "python",
   "name": "sb_env"
  },
  "language_info": {
   "codemirror_mode": {
    "name": "ipython",
    "version": 3
   },
   "file_extension": ".py",
   "mimetype": "text/x-python",
   "name": "python",
   "nbconvert_exporter": "python",
   "pygments_lexer": "ipython3",
   "version": "3.12.3"
  }
 },
 "nbformat": 4,
 "nbformat_minor": 4
}
