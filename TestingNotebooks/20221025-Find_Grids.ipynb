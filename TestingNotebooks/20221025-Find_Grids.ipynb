{
 "cells": [
  {
   "cell_type": "markdown",
   "source": [
    "# Finding Grids.\n",
    "As a starter we boil down the problem to the case where neighborhoods are\n",
    "made out of street grids. Now we want to find such grids in cities.\n",
    "- connected\n",
    "- consisting of two fixed street directions, not necessarily at $90\\degree$\n",
    "to each other\n"
   ],
   "metadata": {
    "collapsed": false
   }
  },
  {
   "cell_type": "code",
   "execution_count": null,
   "outputs": [],
   "source": [
    "import osmnx as ox\n",
    "import networkx as nx"
   ],
   "metadata": {
    "collapsed": false,
    "pycharm": {
     "is_executing": true
    }
   }
  },
  {
   "cell_type": "markdown",
   "source": [
    "We start by importing a street network, make it **unidirected** and add the\n",
    "streets orientations aka bearings.\n",
    "Feel free to change the input graph by modifying the location string (find\n",
    "fitting one with [Nominatim](https://nominatim.openstreetmap.org/ui/search.html)).\n",
    "We use the example of Brooklyn, NY, because the streets consists out of\n",
    "grids, which have a variety of orientations, as well as soe parts which do\n",
    "not belong to a grid."
   ],
   "metadata": {
    "collapsed": false
   }
  },
  {
   "cell_type": "code",
   "execution_count": null,
   "outputs": [],
   "source": [
    "G = ox.graph_from_place(\"Brooklyn\")\n",
    "G = ox.get_undirected(G)\n",
    "G = ox.add_edge_bearings(G)\n",
    "ox.plot_folium(G)"
   ],
   "metadata": {
    "collapsed": false,
    "pycharm": {
     "is_executing": true
    }
   }
  },
  {
   "cell_type": "code",
   "execution_count": null,
   "outputs": [],
   "source": [],
   "metadata": {
    "collapsed": false
   }
  }
 ],
 "metadata": {
  "kernelspec": {
   "display_name": "Python 3",
   "language": "python",
   "name": "python3"
  },
  "language_info": {
   "codemirror_mode": {
    "name": "ipython",
    "version": 2
   },
   "file_extension": ".py",
   "mimetype": "text/x-python",
   "name": "python",
   "nbconvert_exporter": "python",
   "pygments_lexer": "ipython2",
   "version": "2.7.6"
  }
 },
 "nbformat": 4,
 "nbformat_minor": 0
}
